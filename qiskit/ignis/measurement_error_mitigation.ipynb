{
 "cells": [
  {
   "cell_type": "markdown",
   "metadata": {},
   "source": [
    "<img src=\"../../images/qiskit-heading.gif\" alt=\"Note: In order for images to show up in this jupyter notebook you need to select File => Trusted Notebook\" width=\"500 px\\\" align=\"left\">"
   ]
  },
  {
   "cell_type": "markdown",
   "metadata": {},
   "source": [
    "# Measurement Error Mitigation\n",
    "\n",
    "* **Last Updated:** April 29, 2019\n",
    "* **Requires:** qiskit-terra 0.8, qiskit-ignis 0.1.1, qiskit-aer 0.2"
   ]
  },
  {
   "cell_type": "markdown",
   "metadata": {},
   "source": [
    "## Introduction\n",
    "\n",
    "The measurement calibration is used to mitigate measurement errors. \n",
    "The main idea is to prepare all $2^n$ basis input states and compute the probability of measuring counts in the other basis states. \n",
    "From these calibrations, it is possible to correct the average results of another experiment of interest. This notebook gives examples for how to use the ``ignis.mitigation.measurement`` module."
   ]
  },
  {
   "cell_type": "code",
   "execution_count": 1,
   "metadata": {},
   "outputs": [],
   "source": [
    "# Import general libraries (needed for functions)\n",
    "import numpy as np\n",
    "import time\n",
    "\n",
    "# Import Qiskit classes\n",
    "import qiskit \n",
    "from qiskit import QuantumRegister, QuantumCircuit, ClassicalRegister, Aer\n",
    "from qiskit.providers.aer import noise\n",
    "from qiskit.tools.visualization import plot_histogram\n",
    "\n",
    "# Import measurement calibration functions\n",
    "from qiskit.ignis.mitigation.measurement import (complete_meas_cal, tensored_meas_cal,\n",
    "                                                 CompleteMeasFitter, TensoredMeasFitter)"
   ]
  },
  {
   "cell_type": "markdown",
   "metadata": {},
   "source": [
    "## 3 Qubit Example of the Calibration Matrices"
   ]
  },
  {
   "cell_type": "markdown",
   "metadata": {},
   "source": [
    "Assume that we would like to generate a calibration matrix for the 3 qubits Q2, Q3 and Q4 in a 5-qubit Quantum Register [Q0,Q1,Q2,Q3,Q4]. \n",
    "\n",
    "Since we have 3 qubits, there are $2^3=8$ possible quantum states."
   ]
  },
  {
   "cell_type": "markdown",
   "metadata": {},
   "source": [
    "## Generating Measurement Calibration Circuits\n",
    "\n",
    "First, we generate a list of measurement calibration circuits for the full Hilbert space. \n",
    "Each circuit creates a basis state. \n",
    "If there are $n=3$ qubits, then we get $2^3=8$ calibration circuits."
   ]
  },
  {
   "cell_type": "markdown",
   "metadata": {},
   "source": [
    "The following function **complete_meas_cal** returns a list **meas_calibs** of QuantumCircuit objects containing the calibration circuits, \n",
    "and a list **state_labels** of the calibration state labels.\n",
    "\n",
    "The input to this function can be given in one of the following three forms:\n",
    "\n",
    "- **qubit_list:** A list of qubits to perform the measurement correction on, or:\n",
    "- **qr (QuantumRegister):** A quantum register, or:\n",
    "- **cr (ClassicalRegister):** A classical register.\n",
    "\n",
    "In addition, one can provide a string **circlabel**, which is added at the beginning of the circuit names for unique identification.\n",
    "\n",
    "For example, in our case, the input is a 5-qubit QuantumRegister containing the qubits Q2,Q3,Q4:"
   ]
  },
  {
   "cell_type": "code",
   "execution_count": 2,
   "metadata": {},
   "outputs": [],
   "source": [
    "# Generate the calibration circuits\n",
    "qr = qiskit.QuantumRegister(5)\n",
    "meas_calibs, state_labels = complete_meas_cal(qubit_list=[2,3,4], qr=qr, circlabel='mcal')"
   ]
  },
  {
   "cell_type": "markdown",
   "metadata": {},
   "source": [
    "Print the $2^3=8$ state labels (for the 3 qubits Q2,Q3,Q4):"
   ]
  },
  {
   "cell_type": "code",
   "execution_count": 3,
   "metadata": {},
   "outputs": [
    {
     "data": {
      "text/plain": [
       "['000', '001', '010', '011', '100', '101', '110', '111']"
      ]
     },
     "execution_count": 3,
     "metadata": {},
     "output_type": "execute_result"
    }
   ],
   "source": [
    "state_labels"
   ]
  },
  {
   "cell_type": "markdown",
   "metadata": {},
   "source": [
    "## Computing the Calibration Matrix\n",
    "\n",
    "If we do not apply any noise, then the calibration matrix is expected to be the $8 \\times 8$ identity matrix."
   ]
  },
  {
   "cell_type": "code",
   "execution_count": 4,
   "metadata": {},
   "outputs": [],
   "source": [
    "# Execute the calibration circuits without noise\n",
    "backend = qiskit.Aer.get_backend('qasm_simulator')\n",
    "job = qiskit.execute(meas_calibs, backend=backend, shots=1000)\n",
    "cal_results = job.result()"
   ]
  },
  {
   "cell_type": "code",
   "execution_count": 5,
   "metadata": {},
   "outputs": [
    {
     "name": "stdout",
     "output_type": "stream",
     "text": [
      "[[1. 0. 0. 0. 0. 0. 0. 0.]\n",
      " [0. 1. 0. 0. 0. 0. 0. 0.]\n",
      " [0. 0. 1. 0. 0. 0. 0. 0.]\n",
      " [0. 0. 0. 1. 0. 0. 0. 0.]\n",
      " [0. 0. 0. 0. 1. 0. 0. 0.]\n",
      " [0. 0. 0. 0. 0. 1. 0. 0.]\n",
      " [0. 0. 0. 0. 0. 0. 1. 0.]\n",
      " [0. 0. 0. 0. 0. 0. 0. 1.]]\n"
     ]
    }
   ],
   "source": [
    "# The calibration matrix without noise is the identity matrix\n",
    "meas_fitter = CompleteMeasFitter(cal_results, state_labels, circlabel='mcal')\n",
    "print(meas_fitter.cal_matrix)"
   ]
  },
  {
   "cell_type": "markdown",
   "metadata": {},
   "source": [
    "Assume that we apply some noise model from Qiskit Aer to the 5 qubits, \n",
    "then the calibration matrix will have most of its mass on the main diagonal, with some additional 'noise'.\n",
    "\n",
    "Alternatively, we can execute the calibration circuits using IBMQ provider."
   ]
  },
  {
   "cell_type": "code",
   "execution_count": 6,
   "metadata": {},
   "outputs": [],
   "source": [
    "# Generate a noise model for the 5 qubits\n",
    "noise_model = noise.NoiseModel()\n",
    "for qi in range(5):\n",
    "    read_err = noise.errors.readout_error.ReadoutError([[0.9, 0.1],[0.25,0.75]])\n",
    "    noise_model.add_readout_error(read_err, [qi])"
   ]
  },
  {
   "cell_type": "code",
   "execution_count": 7,
   "metadata": {},
   "outputs": [],
   "source": [
    "# Execute the calibration circuits\n",
    "backend = qiskit.Aer.get_backend('qasm_simulator')\n",
    "job = qiskit.execute(meas_calibs, backend=backend, shots=1000, noise_model=noise_model)\n",
    "cal_results = job.result()"
   ]
  },
  {
   "cell_type": "code",
   "execution_count": 8,
   "metadata": {
    "scrolled": true
   },
   "outputs": [
    {
     "name": "stdout",
     "output_type": "stream",
     "text": [
      "[[0.728 0.202 0.202 0.064 0.207 0.042 0.061 0.021]\n",
      " [0.084 0.604 0.024 0.161 0.021 0.156 0.003 0.044]\n",
      " [0.089 0.02  0.617 0.165 0.024 0.003 0.181 0.048]\n",
      " [0.008 0.07  0.068 0.493 0.003 0.02  0.023 0.118]\n",
      " [0.074 0.025 0.02  0.009 0.579 0.171 0.196 0.041]\n",
      " [0.004 0.07  0.002 0.016 0.076 0.538 0.015 0.137]\n",
      " [0.011 0.004 0.061 0.023 0.075 0.014 0.473 0.143]\n",
      " [0.002 0.005 0.006 0.069 0.015 0.056 0.048 0.448]]\n"
     ]
    }
   ],
   "source": [
    "# Calculate the calibration matrix with the noise model\n",
    "meas_fitter = CompleteMeasFitter(cal_results, state_labels, circlabel='mcal')\n",
    "print(meas_fitter.cal_matrix)"
   ]
  },
  {
   "cell_type": "code",
   "execution_count": 9,
   "metadata": {},
   "outputs": [
    {
     "data": {
      "image/png": "[encoded data removed]",
      "text/plain": [
       "<Figure size 432x288 with 2 Axes>"
      ]
     },
     "metadata": {
      "needs_background": "light"
     },
     "output_type": "display_data"
    }
   ],
   "source": [
    "# Plot the calibration matrix\n",
    "meas_fitter.plot_calibration()"
   ]
  },
  {
   "cell_type": "markdown",
   "metadata": {},
   "source": [
    "## Analyzing the Results\n",
    "\n",
    "We would like to compute the total measurement fidelity, and the measurement fidelity for a specific qubit, for example, Q0.\n",
    "\n",
    "Since the on-diagonal elements of the calibration matrix are the probabilities of measuring state 'x' given preparation of state 'x', \n",
    "then the trace of this matrix is the average assignment fidelity.\n"
   ]
  },
  {
   "cell_type": "code",
   "execution_count": 10,
   "metadata": {},
   "outputs": [
    {
     "name": "stdout",
     "output_type": "stream",
     "text": [
      "Average Measurement Fidelity: 0.560000\n",
      "Average Measurement Fidelity of Q0: 0.828000\n"
     ]
    }
   ],
   "source": [
    "# What is the measurement fidelity?\n",
    "print(\"Average Measurement Fidelity: %f\" % meas_fitter.readout_fidelity())\n",
    "\n",
    "# What is the measurement fidelity of Q0?\n",
    "print(\"Average Measurement Fidelity of Q0: %f\" % meas_fitter.readout_fidelity(\n",
    "    label_list = [['000','001','010','011'],['100','101','110','111']]))"
   ]
  },
  {
   "cell_type": "markdown",
   "metadata": {},
   "source": [
    "## Applying the Calibration\n",
    "\n",
    "We now perform another experiment and correct the measured results. \n",
    "\n",
    "## Correct Measurement Noise on a 3Q GHZ State\n",
    "\n",
    "As an example, we start with the 3-qubit GHZ state on the qubits Q2,Q3,Q4:\n",
    "\n",
    "$$ \\mid GHZ \\rangle = \\frac{\\mid{000} \\rangle + \\mid{111} \\rangle}{\\sqrt{2}}$$"
   ]
  },
  {
   "cell_type": "code",
   "execution_count": 11,
   "metadata": {},
   "outputs": [
    {
     "data": {
      "text/plain": [
       "<qiskit.circuit.measure.Measure at 0x131a5fb278>"
      ]
     },
     "execution_count": 11,
     "metadata": {},
     "output_type": "execute_result"
    }
   ],
   "source": [
    "# Make a 3Q GHZ state\n",
    "cr = ClassicalRegister(3)\n",
    "ghz = QuantumCircuit(qr, cr)\n",
    "ghz.h(qr[2])\n",
    "ghz.cx(qr[2], qr[3])\n",
    "ghz.cx(qr[3], qr[4])\n",
    "ghz.measure(qr[2],cr[0])\n",
    "ghz.measure(qr[3],cr[1])\n",
    "ghz.measure(qr[4],cr[2])"
   ]
  },
  {
   "cell_type": "markdown",
   "metadata": {},
   "source": [
    "We now execute the calibration circuits (with the noise model above)"
   ]
  },
  {
   "cell_type": "code",
   "execution_count": 12,
   "metadata": {},
   "outputs": [],
   "source": [
    "job = qiskit.execute([ghz], backend=backend, shots=5000, noise_model=noise_model)\n",
    "results = job.result()"
   ]
  },
  {
   "cell_type": "markdown",
   "metadata": {},
   "source": [
    "We now compute the results without any error mitigation and with the mitigation, namely after applying the calibration matrix to the results.\n",
    "\n",
    "There are two fitting methods for applying thr calibration (if none method is defined, then 'least_squares' is used). \n",
    "- **'pseudo_inverse'**, which is a direct inversion of the calibration matrix, \n",
    "- **'least_squares'**, which constrained to have physical probabilities.\n",
    "\n",
    "The raw data to be corrected can be given in a number of forms:\n",
    "\n",
    "- Form1: A counts dictionary from results.get_counts,\n",
    "- Form2: A list of counts of length=len(state_labels),\n",
    "- Form3: A list of counts of length=M*len(state_labels) where M is an integer (e.g. for use with the tomography data),\n",
    "- Form4: A qiskit Result (e.g. results as above)."
   ]
  },
  {
   "cell_type": "code",
   "execution_count": 13,
   "metadata": {},
   "outputs": [],
   "source": [
    "# Results without mitigation\n",
    "raw_counts = results.get_counts()\n",
    "\n",
    "# Get the filter object\n",
    "meas_filter = meas_fitter.filter\n",
    "\n",
    "# Results with mitigation\n",
    "mitigated_results = meas_filter.apply(results)\n",
    "mitigated_counts = mitigated_results.get_counts(0)"
   ]
  },
  {
   "cell_type": "markdown",
   "metadata": {},
   "source": [
    "We can now plot the results with and without error mitigation:"
   ]
  },
  {
   "cell_type": "code",
   "execution_count": 14,
   "metadata": {},
   "outputs": [
    {
     "data": {
      "image/png": "[encoded data removed]",
      "text/plain": [
       "<Figure size 504x360 with 1 Axes>"
      ]
     },
     "execution_count": 14,
     "metadata": {},
     "output_type": "execute_result"
    }
   ],
   "source": [
    "from qiskit.tools.visualization import *\n",
    "plot_histogram([raw_counts, mitigated_counts], legend=['raw', 'mitigated'])"
   ]
  },
  {
   "cell_type": "markdown",
   "metadata": {},
   "source": [
    "## Tensored mitigation\n",
    "\n",
    "The calibration can be simplified if the error is known to be local. By \"local error\" we mean that the error can be tensored to subsets of qubits. In this case, less than $2^n$ states are needed for the computation of the calibration matrix.\n",
    "\n",
    "Assume that the error acts locally on qubit 2 and the pair of qubits 3 and 4. Construct the calibration circuits by using the function `tensored_meas_cal`. Unlike before we need to explicitly divide the qubit list up into subset regions."
   ]
  },
  {
   "cell_type": "code",
   "execution_count": 2,
   "metadata": {},
   "outputs": [],
   "source": [
    "# Generate the calibration circuits\n",
    "qr = qiskit.QuantumRegister(5)\n",
    "mit_pattern = [[2],[3,4]]\n",
    "meas_calibs, state_labels = tensored_meas_cal(mit_pattern=mit_pattern, qr=qr, circlabel='mcal')"
   ]
  },
  {
   "cell_type": "markdown",
   "metadata": {},
   "source": [
    "We now retrieve the names of the generated circuits. Note that in each label (of length 3), the least significant bit corresponds to qubit 2, the middle bit corresponds to qubit 3, and the most significant bit corresponds to qubit 4."
   ]
  },
  {
   "cell_type": "code",
   "execution_count": 3,
   "metadata": {},
   "outputs": [
    {
     "name": "stdout",
     "output_type": "stream",
     "text": [
      "mcalcal_000\n",
      "mcalcal_010\n",
      "mcalcal_101\n",
      "mcalcal_111\n"
     ]
    }
   ],
   "source": [
    "for circ in meas_calibs:\n",
    "    print(circ.name)"
   ]
  },
  {
   "cell_type": "markdown",
   "metadata": {},
   "source": [
    "Let us elaborate on the circuit names. We see that there are only four circuits, instead of eight. The total number of required circuits is $2^m$ where m is the number of qubits in the larget subset (here m=2).\n",
    "\n",
    "Each basis state of qubits 3 and 4 appears exactly once. Only two basis states are required for qubit 2, so these are split equally across the four experiments. For example, state '0' of qubit 2 appears in state labels '000' and '010'.\n",
    "\n",
    "We now execute the calibration circuits on Aer simulator, using the same noise model as before. This noise is in fact local to qubits 3 and 4 separately, but assume that we don't know it, and that we only know that it is local for qubit 2."
   ]
  },
  {
   "cell_type": "code",
   "execution_count": 38,
   "metadata": {},
   "outputs": [],
   "source": [
    "# Generate a noise model for the 5 qubits\n",
    "noise_model = noise.NoiseModel()\n",
    "for qi in range(5):\n",
    "    read_err = noise.errors.readout_error.ReadoutError([[0.9, 0.1],[0.25,0.75]])\n",
    "    noise_model.add_readout_error(read_err, [qi])"
   ]
  },
  {
   "cell_type": "code",
   "execution_count": 39,
   "metadata": {},
   "outputs": [],
   "source": [
    "# Execute the calibration circuits\n",
    "backend = qiskit.Aer.get_backend('qasm_simulator')\n",
    "job = qiskit.execute(meas_calibs, backend=backend, shots=5000, noise_model=noise_model)\n",
    "cal_results = job.result()"
   ]
  },
  {
   "cell_type": "code",
   "execution_count": 40,
   "metadata": {},
   "outputs": [],
   "source": [
    "meas_fitter = TensoredMeasFitter(cal_results, mit_pattern=mit_pattern)"
   ]
  },
  {
   "cell_type": "markdown",
   "metadata": {},
   "source": [
    "The fitter provides two calibration matrices. One matrix is for qubit 2, and the other matrix is for qubits 3 and 4."
   ]
  },
  {
   "cell_type": "code",
   "execution_count": 41,
   "metadata": {},
   "outputs": [
    {
     "name": "stdout",
     "output_type": "stream",
     "text": [
      "[array([[0.8988, 0.2562],\n",
      "       [0.1012, 0.7438]]), array([[0.8092, 0.2296, 0.2276, 0.06  ],\n",
      "       [0.091 , 0.6738, 0.0246, 0.191 ],\n",
      "       [0.0908, 0.0276, 0.6744, 0.19  ],\n",
      "       [0.009 , 0.069 , 0.0734, 0.559 ]])]\n"
     ]
    }
   ],
   "source": [
    "print(meas_fitter.cal_matrices)"
   ]
  },
  {
   "cell_type": "markdown",
   "metadata": {},
   "source": [
    "We can look at the readout fidelities of the individual tensored components or qubits within a set"
   ]
  },
  {
   "cell_type": "code",
   "execution_count": 42,
   "metadata": {},
   "outputs": [
    {
     "name": "stdout",
     "output_type": "stream",
     "text": [
      "Readout fidelity of Q2: 0.821300\n",
      "Readout fidelity of Q3/4 space (e.g. mean assignment \n",
      "fidelity of 00,10,01 and 11): 0.679100\n",
      "Readout fidelity of Q3: 0.823700\n"
     ]
    }
   ],
   "source": [
    "#readout fidelity of Q2\n",
    "print('Readout fidelity of Q2: %f'%meas_fitter.readout_fidelity(0))\n",
    "\n",
    "#readout fidelity of Q3/Q4\n",
    "print('Readout fidelity of Q3/4 space (e.g. mean assignment '\n",
    "      '\\nfidelity of 00,10,01 and 11): %f'%meas_fitter.readout_fidelity(1))\n",
    "\n",
    "#readout fidelity of Q3\n",
    "print('Readout fidelity of Q3: %f'%meas_fitter.readout_fidelity(1,[['00','10'],['01','11']]))"
   ]
  },
  {
   "cell_type": "markdown",
   "metadata": {},
   "source": [
    "Plot the individual calibration matrices"
   ]
  },
  {
   "cell_type": "code",
   "execution_count": 43,
   "metadata": {},
   "outputs": [
    {
     "name": "stdout",
     "output_type": "stream",
     "text": [
      "Q2 Calibration Matrix\n"
     ]
    },
    {
     "data": {
      "image/png": "[encoded data removed]",
      "text/plain": [
       "<Figure size 432x288 with 2 Axes>"
      ]
     },
     "metadata": {
      "needs_background": "light"
     },
     "output_type": "display_data"
    },
    {
     "name": "stdout",
     "output_type": "stream",
     "text": [
      "Q3/Q4 Calibration Matrix\n"
     ]
    },
    {
     "data": {
      "image/png": "[encoded data removed]",
      "text/plain": [
       "<Figure size 432x288 with 2 Axes>"
      ]
     },
     "metadata": {
      "needs_background": "light"
     },
     "output_type": "display_data"
    }
   ],
   "source": [
    "# Plot the calibration matrix\n",
    "print('Q2 Calibration Matrix')\n",
    "meas_fitter.plot_calibration(0)\n",
    "print('Q3/Q4 Calibration Matrix')\n",
    "meas_fitter.plot_calibration(1)"
   ]
  },
  {
   "cell_type": "code",
   "execution_count": 44,
   "metadata": {},
   "outputs": [
    {
     "data": {
      "text/plain": [
       "<qiskit.circuit.measure.Measure at 0x131a939be0>"
      ]
     },
     "execution_count": 44,
     "metadata": {},
     "output_type": "execute_result"
    }
   ],
   "source": [
    "# Make a 3Q GHZ state\n",
    "cr = ClassicalRegister(3)\n",
    "ghz = QuantumCircuit(qr, cr)\n",
    "ghz.h(qr[2])\n",
    "ghz.cx(qr[2], qr[3])\n",
    "ghz.cx(qr[3], qr[4])\n",
    "ghz.measure(qr[2],cr[0])\n",
    "ghz.measure(qr[3],cr[1])\n",
    "ghz.measure(qr[4],cr[2])"
   ]
  },
  {
   "cell_type": "markdown",
   "metadata": {},
   "source": [
    "We now execute the calibration circuits (with the noise model above)"
   ]
  },
  {
   "cell_type": "code",
   "execution_count": 45,
   "metadata": {},
   "outputs": [],
   "source": [
    "job = qiskit.execute([ghz], backend=backend, shots=5000, noise_model=noise_model)\n",
    "results = job.result()"
   ]
  },
  {
   "cell_type": "code",
   "execution_count": 46,
   "metadata": {},
   "outputs": [],
   "source": [
    "# Results without mitigation\n",
    "raw_counts = results.get_counts()\n",
    "\n",
    "# Get the filter object\n",
    "meas_filter = meas_fitter.filter\n",
    "\n",
    "# Results with mitigation\n",
    "mitigated_results = meas_filter.apply(results)\n",
    "mitigated_counts = mitigated_results.get_counts(0)"
   ]
  },
  {
   "cell_type": "markdown",
   "metadata": {},
   "source": [
    "Plot the raw vs corrected state"
   ]
  },
  {
   "cell_type": "code",
   "execution_count": 47,
   "metadata": {},
   "outputs": [
    {
     "data": {
      "image/png": "[encoded data removed]",
      "text/plain": [
       "<Figure size 504x360 with 1 Axes>"
      ]
     },
     "execution_count": 47,
     "metadata": {},
     "output_type": "execute_result"
    }
   ],
   "source": [
    "meas_filter = meas_fitter.filter\n",
    "mitigated_results = meas_filter.apply(results)\n",
    "mitigated_counts = mitigated_results.get_counts(0)\n",
    "plot_histogram([raw_counts, mitigated_counts], legend=['raw', 'mitigated'])"
   ]
  },
  {
   "cell_type": "markdown",
   "metadata": {},
   "source": [
    "As a check we should get the same answer if we build the full correction matrix from a tensor product of the subspace calibration matrices"
   ]
  },
  {
   "cell_type": "code",
   "execution_count": 48,
   "metadata": {},
   "outputs": [
    {
     "data": {
      "image/png": "[encoded data removed]",
      "text/plain": [
       "<Figure size 504x360 with 1 Axes>"
      ]
     },
     "execution_count": 48,
     "metadata": {},
     "output_type": "execute_result"
    }
   ],
   "source": [
    "meas_calibs2, state_labels2 = complete_meas_cal([2,3,4])\n",
    "meas_fitter2 = CompleteMeasFitter(None, state_labels2)\n",
    "meas_fitter2.cal_matrix = np.kron(meas_fitter.cal_matrices[1],meas_fitter.cal_matrices[0])\n",
    "meas_filter2 = meas_fitter2.filter\n",
    "mitigated_results2 = meas_filter2.apply(results)\n",
    "mitigated_counts2 = mitigated_results2.get_counts(0)\n",
    "plot_histogram([raw_counts, mitigated_counts2], legend=['raw', 'mitigated'])"
   ]
  },
  {
   "cell_type": "code",
   "execution_count": null,
   "metadata": {},
   "outputs": [],
   "source": []
  }
 ],
 "metadata": {
  "kernelspec": {
   "display_name": "Python 3",
   "language": "python",
   "name": "python3"
  },
  "language_info": {
   "codemirror_mode": {
    "name": "ipython",
    "version": 3
   },
   "file_extension": ".py",
   "mimetype": "text/x-python",
   "name": "python",
   "nbconvert_exporter": "python",
   "pygments_lexer": "ipython3",
   "version": "3.6.8"
  }
 },
 "nbformat": 4,
 "nbformat_minor": 2
}
