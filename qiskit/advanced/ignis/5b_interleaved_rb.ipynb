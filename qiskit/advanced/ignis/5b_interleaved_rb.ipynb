{
 "cells": [
  {
   "cell_type": "markdown",
   "metadata": {},
   "source": [
    "<img src=\"../../../images/qiskit_header.png\" alt=\"Note: In order for images to show up in this jupyter notebook you need to select File => Trusted Notebook\" align=\"middle\">"
   ]
  },
  {
   "cell_type": "markdown",
   "metadata": {},
   "source": [
    "## Interleaved Randomized Benchmarking\n",
    "---\n",
    "\n",
    "* **Last Updated:** August 19, 2019\n",
    "* **Requires:** qiskit-terra 0.8, qiskit-ignis 0.1.2, qiskit-aer 0.2\n",
    "\n",
    "\n",
    "## Introduction\n",
    "\n",
    "**Interleaved Randomized Benchmarking** is a variant of the Randomized Benchmarking (RB) method that is used for benchmarking individual Clifford gates via randomization. The protocol consists of interleaving random gates between the given Clifford gate of interest. The protocol estimates the gate error of the given Clifford. \n",
    "The method is based on the paper *\"Efficient measurement of quantum gate error by interleaved randomized benchmarking\"*(https://arxiv.org/abs/1203.4550).\n",
    "\n",
    "This notebook gives an example for how to use the ``ignis.verification.randomized_benchmarking`` module in order to perform interleaved RB."
   ]
  },
  {
   "cell_type": "code",
   "execution_count": 1,
   "metadata": {
    "scrolled": true
   },
   "outputs": [],
   "source": [
    "#Import general libraries (needed for functions)\n",
    "import numpy as np\n",
    "import matplotlib.pyplot as plt\n",
    "from IPython import display\n",
    "\n",
    "#Import the RB Functions\n",
    "import qiskit.ignis.verification.randomized_benchmarking as rb\n",
    "\n",
    "#Import Qiskit classes classes\n",
    "import qiskit\n",
    "from qiskit.providers.aer.noise import NoiseModel\n",
    "from qiskit.providers.aer.noise.errors.standard_errors import depolarizing_error, thermal_relaxation_error"
   ]
  },
  {
   "cell_type": "markdown",
   "metadata": {},
   "source": [
    "## Select the Parameters of the Interleaved RB Run\n",
    "\n",
    "First, wee need to choose the regular RB parameters:\n",
    "\n",
    "- **nseeds:** The number of seeds. For each seed you will get a separate list of output circuits in rb_circs.\n",
    "- **length_vector:** The length vector of Clifford lengths. Must be in ascending order. RB sequences of increasing length grow on top of the previous sequences.\n",
    "- **rb_pattern:** A list of the form [[i,j],[k],...] which will make simultaneous RB sequences where Qi,Qj are a 2-qubit RB sequence and Qk is a 1-qubit sequence, etc. The number of qubits is the sum of the entries. For 'regular' RB the qubit_pattern is just [[0]],[[0,1]].\n",
    "- **length_multiplier:** If this is an array it scales each rb_sequence by the multiplier.\n",
    "- **seed_offset:** What to start the seeds at (e.g. if we want to add more seeds later).\n",
    "- **align_cliffs:**  If true adds a barrier across all qubits in rb_pattern after each set of Cliffords.\n",
    "\n",
    "As well as another parameter for interleaved RB:\n",
    "- **interleaved_gates:** A list of gates of Clifford elements that will be interleaved. The length of the list would equal the length of the rb_pattern.\n",
    "\n",
    "In this example we have 3 qubits Q0,Q1,Q2. \n",
    "We are running 2Q RB (on qubits Q0,Q2) and 1Q RB (on qubit Q1) simultaneously, \n",
    "where there are twice as many 1Q Clifford gates."
   ]
  },
  {
   "cell_type": "code",
   "execution_count": 2,
   "metadata": {
    "collapsed": true
   },
   "outputs": [],
   "source": [
    "#Number of qubits\n",
    "nQ = 3\n",
    "#There are 3 qubits: Q0,Q1,Q2.\n",
    "#Number of seeds (random sequences)\n",
    "nseeds = 5\n",
    "#Number of Cliffords in the sequence (start, stop, steps)\n",
    "nCliffs = np.arange(1,200,20)\n",
    "#2Q RB on Q0,Q2 and 1Q RB on Q1\n",
    "rb_pattern = [[0,2],[1]]\n",
    "#Do three times as many 1Q Cliffords\n",
    "length_multiplier = [1,3]\n",
    "#Interleaved Clifford gates (2-qubits and 1-qubit)\n",
    "interleaved_gates = [['h 0', 'cx 0 1'],['x 0']]"
   ]
  },
  {
   "cell_type": "markdown",
   "metadata": {},
   "source": [
    "## Generate Interleaved RB sequences\n",
    "\n",
    "We generate RB sequences. We start with a small example (so it doesn't take too long to run).\n",
    "\n",
    "In order to generate the RB sequences **rb_circs**, which is a list of lists of quantum circuits, \n",
    "we run the function `rb.randomized_benchmarking_seq`.\n",
    "\n",
    "This function returns:\n",
    "\n",
    "- **rb_original_circs:** A list of lists of circuits for the original RB sequences (separate list for each seed).\n",
    "- **xdata:** The Clifford lengths (with multiplier if applicable).\n",
    "- **rb_opts_dict:** Option dictionary back out with default options appended.\n",
    "\n",
    "As well as:\n",
    "- **rb_interleaved_circs**: A list of lists of circuits for the interleaved RB sequences (separate list for each seed)."
   ]
  },
  {
   "cell_type": "code",
   "execution_count": 3,
   "metadata": {},
   "outputs": [
    {
     "name": "stdout",
     "output_type": "stream",
     "text": [
      "Making the n=2 Clifford Table\n"
     ]
    }
   ],
   "source": [
    "rb_opts = {}\n",
    "rb_opts['length_vector'] = nCliffs\n",
    "rb_opts['nseeds'] = nseeds\n",
    "rb_opts['rb_pattern'] = rb_pattern\n",
    "rb_opts['length_multiplier'] = length_multiplier\n",
    "#rb_opts['align_cliffs'] = True\n",
    "rb_opts['interleaved_gates'] = interleaved_gates\n",
    "rb_original_circs, xdata, rb_interleaved_circs = rb.randomized_benchmarking_seq(**rb_opts)"
   ]
  },
  {
   "cell_type": "markdown",
   "metadata": {},
   "source": [
    "As an example, we print the circuit corresponding to the first original and interleaved RB sequences:"
   ]
  },
  {
   "cell_type": "code",
   "execution_count": 4,
   "metadata": {},
   "outputs": [
    {
     "name": "stdout",
     "output_type": "stream",
     "text": [
      "          ┌───┐ ┌─────┐┌───┐          ┌───┐     ┌───┐ ░      ┌───┐┌───┐     »\n",
      "qr_0: |0>─┤ H ├─┤ Sdg ├┤ H ├──■───────┤ X ├─────┤ Z ├─░──────┤ Z ├┤ X ├─────»\n",
      "          ├───┤ └┬───┬┘└─░─┘  │  ┌───┐└─┬─┘┌───┐└─░─┘ ░ ┌───┐├───┤└─┬─┘┌───┐»\n",
      "qr_1: |0>─┤ H ├──┤ Y ├───░────┼──┤ H ├──┼──┤ X ├──░─────┤ H ├┤ S ├──┼──┤ Y ├»\n",
      "         ┌┴───┴┐ ├───┤   ░  ┌─┴─┐└───┘  │  └───┘┌───┐ ░ └───┘├───┤  │  └───┘»\n",
      "qr_2: |0>┤ Sdg ├─┤ H ├──────┤ X ├───────■───────┤ Z ├─░──────┤ Z ├──■───────»\n",
      "         └─────┘ └───┘      └───┘               └───┘ ░      └───┘          »\n",
      " cr_0: 0 ═══════════════════════════════════════════════════════════════════»\n",
      "                                                                            »\n",
      " cr_1: 0 ═══════════════════════════════════════════════════════════════════»\n",
      "                                                                            »\n",
      " cr_2: 0 ═══════════════════════════════════════════════════════════════════»\n",
      "                                                                            »\n",
      "«               ┌───┐ ┌───┐      ┌───┐┌─┐\n",
      "«qr_0: ──■──────┤ H ├─┤ S ├──────┤ H ├┤M├\n",
      "«        │   ░ ┌┴───┴┐├───┤   ┌─┐└───┘└╥┘\n",
      "«qr_1: ──┼───░─┤ Sdg ├┤ H ├───┤M├──────╫─\n",
      "«      ┌─┴─┐ ░ └┬───┬┘├───┤┌─┐└╥┘      ║ \n",
      "«qr_2: ┤ X ├────┤ H ├─┤ S ├┤M├─╫───────╫─\n",
      "«      └───┘    └───┘ └───┘└╥┘ ║       ║ \n",
      "«cr_0: ═════════════════════╬══╬═══════╩═\n",
      "«                           ║  ║         \n",
      "«cr_1: ═════════════════════╩══╬═════════\n",
      "«                              ║         \n",
      "«cr_2: ════════════════════════╩═════════\n",
      "«                                        \n"
     ]
    }
   ],
   "source": [
    "#Original RB circuits\n",
    "print (rb_original_circs[0][0])"
   ]
  },
  {
   "cell_type": "code",
   "execution_count": 5,
   "metadata": {},
   "outputs": [
    {
     "name": "stdout",
     "output_type": "stream",
     "text": [
      "          ┌───┐ ┌─────┐┌───┐          ┌───┐   ┌───┐ ░      ┌───┐           ░ »\n",
      "qr_0: |0>─┤ H ├─┤ Sdg ├┤ H ├──■───────┤ X ├───┤ Z ├─░──────┤ H ├──■────────░─»\n",
      "          ├───┤ └┬───┬┘└─░─┘  │  ┌───┐└─┬─┘ ░ ├───┤ ░ ┌───┐└─░─┘  │  ┌───┐ ░ »\n",
      "qr_1: |0>─┤ H ├──┤ Y ├───░────┼──┤ X ├──┼───░─┤ H ├───┤ X ├──░────┼──┤ X ├───»\n",
      "         ┌┴───┴┐ ├───┤   ░  ┌─┴─┐└───┘  │   ░ ├───┤ ░ └───┘  ░  ┌─┴─┐└───┘ ░ »\n",
      "qr_2: |0>┤ Sdg ├─┤ H ├──────┤ X ├───────■─────┤ Z ├─░───────────┤ X ├──────░─»\n",
      "         └─────┘ └───┘      └───┘             └───┘ ░           └───┘      ░ »\n",
      " cr_0: 0 ════════════════════════════════════════════════════════════════════»\n",
      "                                                                             »\n",
      " cr_1: 0 ════════════════════════════════════════════════════════════════════»\n",
      "                                                                             »\n",
      " cr_2: 0 ════════════════════════════════════════════════════════════════════»\n",
      "                                                                             »\n",
      "«         ┌───┐┌─────┐┌───┐┌───┐             ┌─┐                    \n",
      "«qr_0: ───┤ X ├┤ Sdg ├┤ H ├┤ X ├─────■───────┤M├────────────────────\n",
      "«       ░ ├───┤└┬───┬┘├───┤└─┬─┘ ░   │  ┌───┐└╥┘  ░  ┌─────┐┌───┐┌─┐\n",
      "«qr_1: ─░─┤ H ├─┤ S ├─┤ Y ├──┼───░───┼──┤ X ├─╫───░──┤ Sdg ├┤ H ├┤M├\n",
      "«       ░ ├───┤ └───┘ └───┘  │   ░ ┌─┴─┐└───┘ ║ ┌───┐└─┬─┬─┘└───┘└╥┘\n",
      "«qr_2: ───┤ Z ├──────────────■─────┤ X ├──────╫─┤ H ├──┤M├────────╫─\n",
      "«         └───┘                    └───┘      ║ └───┘  └╥┘        ║ \n",
      "«cr_0: ═══════════════════════════════════════╩═════════╬═════════╬═\n",
      "«                                                       ║         ║ \n",
      "«cr_1: ═════════════════════════════════════════════════╩═════════╬═\n",
      "«                                                                 ║ \n",
      "«cr_2: ═══════════════════════════════════════════════════════════╩═\n",
      "«                                                                   \n"
     ]
    }
   ],
   "source": [
    "#Interleaved RB circuits\n",
    "print (rb_interleaved_circs[0][0])"
   ]
  },
  {
   "cell_type": "markdown",
   "metadata": {},
   "source": [
    "## Define the noise model\n",
    "\n",
    "We define a noise model for the simulator. To simulate decay, we add depolarizing error probabilities to the CNOT and U gates."
   ]
  },
  {
   "cell_type": "code",
   "execution_count": 6,
   "metadata": {
    "collapsed": true
   },
   "outputs": [],
   "source": [
    "noise_model = NoiseModel()\n",
    "p1Q = 0.002\n",
    "p2Q = 0.01\n",
    "noise_model.add_all_qubit_quantum_error(depolarizing_error(p1Q, 1), 'u2')\n",
    "noise_model.add_all_qubit_quantum_error(depolarizing_error(2*p1Q, 1), 'u3')\n",
    "noise_model.add_all_qubit_quantum_error(depolarizing_error(p2Q, 2), 'cx')"
   ]
  },
  {
   "cell_type": "markdown",
   "metadata": {},
   "source": [
    "We can execute the original and interleaved RB sequences either using a Qiskit Aer Simulator (with some noise model) or using an IBMQ provider, and obtain a list of results, `result_list`."
   ]
  },
  {
   "cell_type": "code",
   "execution_count": 7,
   "metadata": {},
   "outputs": [
    {
     "name": "stdout",
     "output_type": "stream",
     "text": [
      "Compiling seed 0\n",
      "Simulating seed 0\n",
      "Compiling seed 1\n",
      "Simulating seed 1\n",
      "Compiling seed 2\n",
      "Simulating seed 2\n",
      "Compiling seed 3\n",
      "Simulating seed 3\n",
      "Compiling seed 4\n",
      "Simulating seed 4\n",
      "Finished Simulating Original Circuits\n"
     ]
    }
   ],
   "source": [
    "#Original RB circuits\n",
    "backend = qiskit.Aer.get_backend('qasm_simulator')\n",
    "basis_gates = ['u1','u2','u3','cx'] # use U,CX for now\n",
    "shots = 200\n",
    "original_result_list = []\n",
    "original_qobj_list = []\n",
    "import time\n",
    "for rb_seed,rb_circ_seed in enumerate(rb_original_circs):\n",
    "    print('Compiling seed %d'%rb_seed)\n",
    "    new_rb_circ_seed = qiskit.compiler.transpile(rb_circ_seed, basis_gates=basis_gates)\n",
    "    qobj = qiskit.compiler.assemble(new_rb_circ_seed, shots=shots)\n",
    "    print('Simulating seed %d'%rb_seed)\n",
    "    job = backend.run(qobj, noise_model=noise_model, backend_options={'max_parallel_experiments': 0})\n",
    "    original_result_list.append(job.result())\n",
    "    original_qobj_list.append(qobj)    \n",
    "print(\"Finished Simulating Original Circuits\")"
   ]
  },
  {
   "cell_type": "code",
   "execution_count": 8,
   "metadata": {},
   "outputs": [
    {
     "name": "stdout",
     "output_type": "stream",
     "text": [
      "Compiling seed 0\n",
      "Simulating seed 0\n",
      "Compiling seed 1\n",
      "Simulating seed 1\n",
      "Compiling seed 2\n",
      "Simulating seed 2\n",
      "Compiling seed 3\n",
      "Simulating seed 3\n",
      "Compiling seed 4\n",
      "Simulating seed 4\n",
      "Finished Simulating Interleaved Circuits\n"
     ]
    }
   ],
   "source": [
    "#Interleaved RB circuits\n",
    "backend = qiskit.Aer.get_backend('qasm_simulator')\n",
    "basis_gates = ['u1','u2','u3','cx'] # use U,CX for now\n",
    "shots = 200\n",
    "interleaved_result_list = []\n",
    "interleaved_qobj_list = []\n",
    "import time\n",
    "for rb_seed,rb_circ_seed in enumerate(rb_interleaved_circs):\n",
    "    print('Compiling seed %d'%rb_seed)\n",
    "    new_rb_circ_seed = qiskit.compiler.transpile(rb_circ_seed, basis_gates=basis_gates)\n",
    "    qobj = qiskit.compiler.assemble(new_rb_circ_seed, shots=shots)\n",
    "    print('Simulating seed %d'%rb_seed)\n",
    "    job = backend.run(qobj, noise_model=noise_model, backend_options={'max_parallel_experiments': 0})\n",
    "    interleaved_result_list.append(job.result())\n",
    "    interleaved_qobj_list.append(qobj)    \n",
    "print(\"Finished Simulating Interleaved Circuits\")"
   ]
  },
  {
   "cell_type": "markdown",
   "metadata": {},
   "source": [
    "## Fit the results\n",
    "\n",
    "We fit the results of the original RB circuits and the interleaved RB circuits into an exponentially decaying function and obtain the *Errors per Clifford* $\\alpha$ and $\\alpha_C$ of the original and interleaved sequences, respectively."
   ]
  },
  {
   "cell_type": "code",
   "execution_count": 9,
   "metadata": {
    "collapsed": true,
    "scrolled": true
   },
   "outputs": [],
   "source": [
    "#Create the original and interleaved RB fitter\n",
    "original_rb_fit = rb.RBFitter(original_result_list, xdata, rb_opts['rb_pattern'])\n",
    "interleaved_rb_fit = rb.RBFitter(interleaved_result_list, xdata, rb_opts['rb_pattern'])"
   ]
  },
  {
   "cell_type": "markdown",
   "metadata": {},
   "source": [
    "### Calculate the interleaved gate error fidelity\n",
    "\n",
    "From the values of $\\alpha$ and $\\alpha_C$ we obtain the gate error of the interleaved Clifford $c$, and $r_C=1-$(average gate fidelity of the interleaved Clifford $C$), is estimated by:\n",
    "$$ EPC^{est} = r_C^{est} = \\frac{(2^n-1)(1-\\alpha_C/\\alpha)}{2^n}$$\n",
    "and must lie in the range given by certain systematic error bounds: \n",
    "$$[r_C^{est}-E,r_C^{est}+E]$$ \n",
    "for each of the patterns."
   ]
  },
  {
   "cell_type": "code",
   "execution_count": 10,
   "metadata": {
    "collapsed": true
   },
   "outputs": [],
   "source": [
    "#Calculate the joint fitter\n",
    "joint_rb_fit = rb.InterleavedRBFitter(original_result_list, interleaved_result_list, xdata, rb_opts['rb_pattern'])"
   ]
  },
  {
   "cell_type": "code",
   "execution_count": 11,
   "metadata": {},
   "outputs": [
    {
     "name": "stdout",
     "output_type": "stream",
     "text": [
      "pattern: 0 - 2 qubit interleaved RB: {'alpha': 0.9790150569295543, 'alpha_err': 0.0010670035132882818, 'alpha_c': 0.9659641705527663, 'alpha_c_err': 0.0027065173128870855, 'epc_est': 0.009997971648453674, 'epc_est_err': 0.002224733032806278, 'systematic_err': 0.021479442957214934, 'systematic_err_L': -0.01148147130876126, 'systematic_err_R': 0.03147741460566861}\n",
      "pattern: 1 - 1 qubit interleaved RB: {'alpha': 0.9975047962312747, 'alpha_err': 0.00017636673385384308, 'alpha_c': 0.9932153383197261, 'alpha_c_err': 0.0003455482992490731, 'epc_est': 0.00215009387812215, 'epc_est_err': 0.00019429005022227532, 'systematic_err': 0.00215009387812215, 'systematic_err_L': 0.0, 'systematic_err_R': 0.0043001877562443}\n"
     ]
    }
   ],
   "source": [
    "#Print the joint fitter parameters\n",
    "for patt_ind, pattern in enumerate(rb_pattern):\n",
    "    print ('pattern:', patt_ind, '-', len(pattern), 'qubit interleaved RB:', joint_rb_fit.fit_int[patt_ind])"
   ]
  },
  {
   "cell_type": "code",
   "execution_count": 12,
   "metadata": {
    "scrolled": false
   },
   "outputs": [
    {
     "data": {
      "image/png": "[encoded data removed]",
      "text/plain": [
       "<matplotlib.figure.Figure at 0x7fde7e4b19b0>"
      ]
     },
     "metadata": {},
     "output_type": "display_data"
    }
   ],
   "source": [
    "#Plot the joint RB data\n",
    "plt.figure(figsize=(15, 6))\n",
    "\n",
    "for i in range(2):\n",
    "    ax = plt.subplot(1, 2, i+1)\n",
    "    pattern_ind = i\n",
    "\n",
    "    # Plot the essence by calling plot_rb_data\n",
    "    joint_rb_fit.plot_rb_data(pattern_ind, ax=ax, add_label=True, show_plt=False)\n",
    "\n",
    "    # Add title and label\n",
    "    ax.set_title('%d Qubit interleaved RB'%(len(rb_opts['rb_pattern'][i])), fontsize=18)\n",
    "\n",
    "plt.show()"
   ]
  },
  {
   "cell_type": "code",
   "execution_count": 2,
   "metadata": {
    "ExecuteTime": {
     "end_time": "2019-08-22T01:33:15.440972Z",
     "start_time": "2019-08-22T01:33:15.431512Z"
    }
   },
   "outputs": [
    {
     "data": {
      "text/html": [
       "<h3>Version Information</h3><table><tr><th>Qiskit Software</th><th>Version</th></tr><tr><td>Qiskit</td><td>None</td></tr><tr><td>Terra</td><td>0.9.0</td></tr><tr><td>Aer</td><td>0.3.0</td></tr><tr><td>Ignis</td><td>0.2.0</td></tr><tr><td>Aqua</td><td>0.5.3</td></tr><tr><td>IBM Q Provider</td><td>0.3.2rc1</td></tr><tr><th>System information</th></tr><tr><td>Python</td><td>3.7.4 (default, Aug 13 2019, 15:17:50) \n",
       "[Clang 4.0.1 (tags/RELEASE_401/final)]</td></tr><tr><td>OS</td><td>Darwin</td></tr><tr><td>CPUs</td><td>4</td></tr><tr><td>Memory (Gb)</td><td>16.0</td></tr><tr><td colspan='2'>Wed Aug 21 21:33:15 2019 EDT</td></tr></table>"
      ],
      "text/plain": [
       "<IPython.core.display.HTML object>"
      ]
     },
     "metadata": {},
     "output_type": "display_data"
    },
    {
     "data": {
      "text/html": [
       "<div style='width: 100%; background-color:#d5d9e0;padding-left: 10px; padding-bottom: 10px; padding-right: 10px; padding-top: 5px'><h3>This code is a part of Qiskit</h3><p>&copy; Copyright IBM 2017, 2019.</p><p>This code is licensed under the Apache License, Version 2.0. You may<br>obtain a copy of this license in the LICENSE.txt file in the root directory<br> of this source tree or at http://www.apache.org/licenses/LICENSE-2.0.<p>Any modifications or derivative works of this code must retain this<br>copyright notice, and modified files need to carry a notice indicating<br>that they have been altered from the originals.</p></div>"
      ],
      "text/plain": [
       "<IPython.core.display.HTML object>"
      ]
     },
     "metadata": {},
     "output_type": "display_data"
    }
   ],
   "source": [
    "import qiskit.tools.jupyter\n",
    "%qiskit_version_table\n",
    "%qiskit_copyright"
   ]
  },
  {
   "cell_type": "code",
   "execution_count": null,
   "metadata": {},
   "outputs": [],
   "source": []
  }
 ],
 "metadata": {
  "kernelspec": {
   "display_name": "Python 3",
   "language": "python",
   "name": "python3"
  },
  "language_info": {
   "codemirror_mode": {
    "name": "ipython",
    "version": 3
   },
   "file_extension": ".py",
   "mimetype": "text/x-python",
   "name": "python",
   "nbconvert_exporter": "python",
   "pygments_lexer": "ipython3",
   "version": "3.7.4"
  },
  "varInspector": {
   "cols": {
    "lenName": 16,
    "lenType": 16,
    "lenVar": 40
   },
   "kernels_config": {
    "python": {
     "delete_cmd_postfix": "",
     "delete_cmd_prefix": "del ",
     "library": "var_list.py",
     "varRefreshCmd": "print(var_dic_list())"
    },
    "r": {
     "delete_cmd_postfix": ") ",
     "delete_cmd_prefix": "rm(",
     "library": "var_list.r",
     "varRefreshCmd": "cat(var_dic_list()) "
    }
   },
   "types_to_exclude": [
    "module",
    "function",
    "builtin_function_or_method",
    "instance",
    "_Feature"
   ],
   "window_display": false
  }
 },
 "nbformat": 4,
 "nbformat_minor": 2
}
