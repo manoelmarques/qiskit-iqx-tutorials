{
 "cells": [
  {
   "cell_type": "markdown",
   "metadata": {},
   "source": [
    "![qiskit_header.png](../../../../images/qiskit_header.png)"
   ]
  },
  {
   "cell_type": "markdown",
   "metadata": {},
   "source": [
    "# _*Qiskit Finance: Credit Risk Analysis*_ \n",
    "\n",
    "The latest version of this notebook is available on https://github.com/Qiskit/qiskit-tutorials.\n",
    "\n",
    "***\n",
    "### Contributors\n",
    "Stefan Woerner<sup>[1]</sup>, Daniel Egger<sup>[1]</sup>\n",
    "\n",
    "### Affiliation\n",
    "- <sup>[1]</sup>IBMQ"
   ]
  },
  {
   "cell_type": "markdown",
   "metadata": {},
   "source": [
    "### Introduction\n",
    "This tutorial shows how quantum algorithms can be used for credit risk analysis.\n",
    "More precisely, how Quantum Amplitude Estimation (QAE) can be used to estimate risk measures with a quadratic speed-up over classical Monte Carlo simulation.\n",
    "The tutorial is based on the following papers:\n",
    "- <a href=\"https://www.nature.com/articles/s41534-019-0130-6\">Quantum Risk Analysis. Stefan Woerner, Daniel J. Egger.</a> [Woerner2019]\n",
    "- <a href=\"https://arxiv.org/abs/1907.03044\">Credit Risk Analysis using Quantum Computers. Egger et al. (2019)</a> [Egger2019]\n",
    "\n",
    "A general introduction to QAE can be found in the following paper and tutorial:\n",
    "- <a href=\"http://arxiv.org/abs/quant-ph/0005055\">Quantum Amplitude Amplification and Estimation. Gilles Brassard et al.</a>\n",
    "- <a href=\"../../amplitude_estimation.ipynb\">Qiskit Tutorial on Quantum Amplitude Estimation</a>\n",
    "\n",
    "The structure of the tutorial is as follows:\n",
    "1. [Problem Definition](#Problem-Definition)\n",
    "2. [Uncertainty Model](#Uncertainty-Model)\n",
    "3. [Expected Loss](#Expected-Loss)\n",
    "4. [Cumulative Distribution Function](#Cumulative-Distribution-Function)\n",
    "5. [Value at Risk](#Value-at-Risk)\n",
    "6. [Conditional Value at Risk](#Conditional-Value-at-Risk)"
   ]
  },
  {
   "cell_type": "code",
   "execution_count": 1,
   "metadata": {},
   "outputs": [],
   "source": [
    "from qiskit import QuantumRegister, QuantumCircuit, BasicAer, execute\n",
    "\n",
    "from qiskit.aqua.components.uncertainty_models import GaussianConditionalIndependenceModel as GCI\n",
    "from qiskit.aqua.components.uncertainty_problems import UnivariatePiecewiseLinearObjective as PwlObjective\n",
    "from qiskit.aqua.components.uncertainty_problems import MultivariateProblem\n",
    "from qiskit.aqua.circuits import WeightedSumOperator\n",
    "from qiskit.aqua.circuits  import FixedValueComparator as Comparator\n",
    "from qiskit.aqua.algorithms import AmplitudeEstimation\n",
    "\n",
    "import numpy as np\n",
    "import matplotlib.pyplot as plt"
   ]
  },
  {
   "cell_type": "code",
   "execution_count": 2,
   "metadata": {},
   "outputs": [],
   "source": [
    "# define backend to be used\n",
    "backend = BasicAer.get_backend('statevector_simulator')"
   ]
  },
  {
   "cell_type": "markdown",
   "metadata": {},
   "source": [
    "### Problem Definition\n",
    "\n",
    "In this tutorial we want to analyze the credit risk of a portfolio of $K$ assets.\n",
    "The default probability of every asset $k$ follows a *Gaussian Conditional Independence* model, i.e., given a value $z$ sampled from a latent random variable $Z$ following a standard normal distribution, the default probability of asset $k$ is given by\n",
    "\n",
    "$$p_k(z) = F\\left( \\frac{F^{-1}(p_k^0) - \\sqrt{\\rho_k}z}{\\sqrt{1 - \\rho_k}} \\right) $$\n",
    "\n",
    "where $F$ denotes the cumulative distribution function of $Z$, $p_k^0$ is the default probability of asset $k$ for $z=0$ and $\\rho_k$ is the sensitivity of the default probability of asset $k$ with respect to $Z$. Thus, given a concrete realization of $Z$ the individual default events are assumed to be independent from each other.\n",
    "\n",
    "We are interested in analyzing risk measures of the total loss\n",
    "\n",
    "$$ L = \\sum_{k=1}^K \\lambda_k X_k(Z) $$\n",
    "\n",
    "where $\\lambda_k$ denotes the _loss given default_ of asset $k$, and given $Z$, $X_k(Z)$ denotes a Bernoulli variable representing the default event of asset $k$. More precisely, we are interested in the expected value $\\mathbb{E}[L]$, the Value at Risk (VaR) of $L$ and the Conditional Value at Risk of $L$ (also called Expected Shortfall). Where VaR and CVaR are defined as\n",
    "\n",
    "$$ \\text{VaR}_{\\alpha}(L) = \\inf \\{ x \\mid \\mathbb{P}[L <= x] \\geq 1 - \\alpha \\}$$\n",
    "\n",
    "with confidence level $\\alpha \\in [0, 1]$, and\n",
    "\n",
    "$$ \\text{CVaR}_{\\alpha}(L) = \\mathbb{E}[ L \\mid L \\geq \\text{VaR}_{\\alpha}(L) ].$$\n",
    "\n",
    "For more details on the considered model, see, e.g.,<br>\n",
    "<a href=\"https://arxiv.org/abs/1412.1183\">Regulatory Capital Modeling for Credit Risk. Marek Rutkowski, Silvio Tarca</a>\n",
    "\n",
    "\n",
    "\n",
    "The problem is defined by the following parameters:\n",
    "- number of qubits used to represent $Z$, denoted by $n_z$\n",
    "- truncation value for $Z$, denoted by $z_{\\text{max}}$, i.e., Z is assumed to take $2^{n_z}$ equidistant values in $\\{-z_{max}, ..., +z_{max}\\}$ \n",
    "- the base default probabilities for each asset $p_0^k \\in (0, 1)$, $k=1, ..., K$\n",
    "- sensitivities of the default probabilities with respect to $Z$, denoted by $\\rho_k \\in [0, 1)$\n",
    "- loss given default for asset $k$, denoted by $\\lambda_k$\n",
    "- confidence level for VaR / CVaR $\\alpha \\in [0, 1]$."
   ]
  },
  {
   "cell_type": "code",
   "execution_count": 3,
   "metadata": {},
   "outputs": [],
   "source": [
    "# set problem parameters\n",
    "n_z = 2\n",
    "z_max = 2\n",
    "z_values = np.linspace(-z_max, z_max, 2**n_z)\n",
    "p_zeros = [0.15, 0.25]\n",
    "rhos = [0.1, 0.05]\n",
    "lgd = [1, 2]\n",
    "K = len(p_zeros)\n",
    "alpha = 0.05"
   ]
  },
  {
   "cell_type": "markdown",
   "metadata": {},
   "source": [
    "### Uncertainty Model\n",
    "\n",
    "We now construct a circuit that loads the uncertainty model. This can be achieved by creating a quantum state in a register of $n_z$ qubits that represents $Z$ following a standard normal distribution. This state is then used to control single qubit Y-rotations on a second qubit register of $K$ qubits, where a $|1\\rangle$ state of qubit $k$ represents the default event of asset $k$. The resulting quantum state can be written as\n",
    "\n",
    "$$ |\\Psi\\rangle = \\sum_{i=0}^{2^{n_z}-1} \\sqrt{p_z^i} |z_i \\rangle \\bigotimes_{k=1}^K \n",
    "\\left( \\sqrt{1 - p_k(z_i)}|0\\rangle + \\sqrt{p_k(z_i)}|1\\rangle\\right),$$\n",
    "\n",
    "where we denote by $z_i$ the $i$-th value of the discretized and truncated $Z$ [Egger2019]."
   ]
  },
  {
   "cell_type": "code",
   "execution_count": 4,
   "metadata": {},
   "outputs": [],
   "source": [
    "# construct circuit factory for uncertainty model (Gaussian Conditional Independence model)\n",
    "u = GCI(n_z, z_max, p_zeros, rhos)"
   ]
  },
  {
   "cell_type": "code",
   "execution_count": 5,
   "metadata": {},
   "outputs": [],
   "source": [
    "# determine the number of qubits required to represent the uncertainty model\n",
    "num_qubits = u.num_target_qubits\n",
    "\n",
    "# initialize quantum register and circuit\n",
    "q = QuantumRegister(num_qubits, name='q')\n",
    "qc = QuantumCircuit(q)\n",
    "\n",
    "# construct circuit\n",
    "u.build(qc, q)"
   ]
  },
  {
   "cell_type": "markdown",
   "metadata": {},
   "source": [
    "We now use the simulator to validate the circuit that constructs $|\\Psi\\rangle$ and compute the corresponding exact values for\n",
    "- expected loss $\\mathbb{E}[L]$\n",
    "- PDF and CDF of $L$ \n",
    "- value at risk $VaR(L)$ and corresponding probability\n",
    "- conditional value at risk $CVaR(L)$"
   ]
  },
  {
   "cell_type": "code",
   "execution_count": 6,
   "metadata": {},
   "outputs": [],
   "source": [
    "# run the circuit and analyze the results\n",
    "job = execute(qc, backend=BasicAer.get_backend('statevector_simulator'))"
   ]
  },
  {
   "cell_type": "code",
   "execution_count": 7,
   "metadata": {},
   "outputs": [],
   "source": [
    "# analyze uncertainty circuit and determine exact solutions\n",
    "p_z = np.zeros(2**n_z)\n",
    "p_default = np.zeros(K)\n",
    "values = []\n",
    "probabilities = []\n",
    "for i, a in enumerate(job.result().get_statevector()):\n",
    "    \n",
    "    # get binary representation\n",
    "    b = ('{0:0%sb}' % num_qubits).format(i)\n",
    "    prob = np.abs(a)**2\n",
    "\n",
    "    # extract value of Z and corresponding probability    \n",
    "    i_normal = int(b[-n_z:], 2)\n",
    "    p_z[i_normal] += prob\n",
    "\n",
    "    # determine overall default probability for k \n",
    "    loss = 0\n",
    "    for k in range(K):\n",
    "        if b[K - k - 1] == '1':\n",
    "            p_default[k] += prob\n",
    "            loss += lgd[k]\n",
    "    values += [loss]\n",
    "    probabilities += [prob]   \n",
    "\n",
    "values = np.array(values)\n",
    "probabilities = np.array(probabilities)\n",
    "    \n",
    "expected_loss = np.dot(values, probabilities)\n",
    "\n",
    "losses = np.sort(np.unique(values))\n",
    "pdf = np.zeros(len(losses))\n",
    "for i, v in enumerate(losses):\n",
    "    pdf[i] += sum(probabilities[values == v])\n",
    "cdf = np.cumsum(pdf)\n",
    "\n",
    "i_var = np.argmax(cdf >= 1-alpha)\n",
    "exact_var = losses[i_var]\n",
    "exact_cvar = np.dot(pdf[(i_var+1):], losses[(i_var+1):])/sum(pdf[(i_var+1):])"
   ]
  },
  {
   "cell_type": "code",
   "execution_count": 8,
   "metadata": {},
   "outputs": [
    {
     "name": "stdout",
     "output_type": "stream",
     "text": [
      "Expected Loss E[L]:                0.6409\n",
      "Value at Risk VaR[L]:              2.0000\n",
      "P[L <= VaR[L]]:                    0.9591\n",
      "Conditional Value at Risk CVaR[L]: 3.0000\n"
     ]
    },
    {
     "data": {
      "image/png": "[encoded data removed]",
      "text/plain": [
       "<Figure size 432x288 with 1 Axes>"
      ]
     },
     "metadata": {
      "needs_background": "light"
     },
     "output_type": "display_data"
    },
    {
     "data": {
      "image/png": "[encoded data removed]",
      "text/plain": [
       "<Figure size 432x288 with 1 Axes>"
      ]
     },
     "metadata": {
      "needs_background": "light"
     },
     "output_type": "display_data"
    },
    {
     "data": {
      "image/png": "[encoded data removed]",
      "text/plain": [
       "<Figure size 432x288 with 1 Axes>"
      ]
     },
     "metadata": {
      "needs_background": "light"
     },
     "output_type": "display_data"
    }
   ],
   "source": [
    "print('Expected Loss E[L]:                %.4f' % expected_loss)\n",
    "print('Value at Risk VaR[L]:              %.4f' % exact_var)\n",
    "print('P[L <= VaR[L]]:                    %.4f' % cdf[exact_var])\n",
    "print('Conditional Value at Risk CVaR[L]: %.4f' % exact_cvar)\n",
    "\n",
    "# plot loss PDF, expected loss, var, and cvar\n",
    "plt.bar(losses, pdf)\n",
    "plt.axvline(expected_loss, color='green', linestyle='--', label='E[L]')\n",
    "plt.axvline(exact_var, color='orange', linestyle='--', label='VaR(L)')\n",
    "plt.axvline(exact_cvar, color='red', linestyle='--', label='CVaR(L)')\n",
    "plt.legend(fontsize=15)\n",
    "plt.xlabel('Loss L ($)', size=15)\n",
    "plt.ylabel('probability (%)', size=15)\n",
    "plt.title('Loss Distribution', size=20)\n",
    "plt.xticks(size=15)\n",
    "plt.yticks(size=15)\n",
    "plt.show()\n",
    "\n",
    "# plot results for Z\n",
    "plt.plot(z_values, p_z, 'o-', linewidth=3, markersize=8)\n",
    "plt.grid()\n",
    "plt.xlabel('Z value', size=15)\n",
    "plt.ylabel('probability (%)', size=15)\n",
    "plt.title('Z Distribution', size=20)\n",
    "plt.xticks(size=15)\n",
    "plt.yticks(size=15)\n",
    "plt.show()\n",
    "\n",
    "# plot results for default probabilities\n",
    "plt.bar(range(K), p_default)\n",
    "plt.xlabel('Asset', size=15)\n",
    "plt.ylabel('probability (%)', size=15)\n",
    "plt.title('Individual Default Probabilities', size=20)\n",
    "plt.xticks(range(K), size=15)\n",
    "plt.yticks(size=15)\n",
    "plt.grid()\n",
    "plt.show()"
   ]
  },
  {
   "cell_type": "markdown",
   "metadata": {},
   "source": [
    "### Expected Loss\n",
    "\n",
    "To estimate the expected loss, we first apply a weighted sum operator to sum up individual losses to total loss:\n",
    "\n",
    "$$ \\mathcal{S}: |x_1, ..., x_K \\rangle_K |0\\rangle_{n_S} \\mapsto |x_1, ..., x_K \\rangle_K |\\lambda_1x_1 + ... + \\lambda_K x_K\\rangle_{n_S}. $$\n",
    "\n",
    "The required number of qubits to represent the result is given by\n",
    "\n",
    "$$ n_s = \\lfloor \\log_2( \\lambda_1 + ... + \\lambda_K ) \\rfloor + 1. $$\n",
    "\n",
    "Once we have the total loss distribution in a quantum register, we can use the techniques described in [Woerner2019] to map a total loss $L \\in \\{0, ..., 2^{n_s}-1\\}$ to the amplitude of an objective qubit by an operator\n",
    "\n",
    "$$ | L \\rangle_{n_s}|0\\rangle \\mapsto \n",
    "| L \\rangle_{n_s} \\left( \\sqrt{1 - L/(2^{n_s}-1)}|0\\rangle + \\sqrt{L/(2^{n_s}-1)}|1\\rangle \\right), $$\n",
    "\n",
    "which allows to run amplitude estimation to evaluate the expected loss."
   ]
  },
  {
   "cell_type": "code",
   "execution_count": 9,
   "metadata": {},
   "outputs": [],
   "source": [
    "# determine number of qubits required to represent total loss\n",
    "n_s = WeightedSumOperator.get_required_sum_qubits(lgd)\n",
    "\n",
    "# create circuit factory (add Z qubits with weight/loss 0)\n",
    "agg = WeightedSumOperator(n_z + K, [0]*n_z + lgd)"
   ]
  },
  {
   "cell_type": "code",
   "execution_count": 10,
   "metadata": {},
   "outputs": [],
   "source": [
    "# define linear objective function\n",
    "breakpoints = [0]\n",
    "slopes = [1]\n",
    "offsets = [0]\n",
    "f_min = 0\n",
    "f_max = sum(lgd)\n",
    "c_approx = 0.25\n",
    "\n",
    "objective = PwlObjective(\n",
    "    agg.num_sum_qubits,\n",
    "    0,\n",
    "    2**agg.num_sum_qubits-1,  # max value that can be reached by the qubit register (will not always be reached)\n",
    "    breakpoints, \n",
    "    slopes, \n",
    "    offsets, \n",
    "    f_min, \n",
    "    f_max, \n",
    "    c_approx\n",
    ")\n",
    "\n",
    "# define overall multivariate problem\n",
    "multivariate = MultivariateProblem(u, agg, objective)"
   ]
  },
  {
   "cell_type": "markdown",
   "metadata": {},
   "source": [
    "Before we use QAE to estimate the expected loss, we validate the quantum circuit representing the objective function by just simulating it directly and analyzing the probability of the objective qubit being in the $|1\\rangle$ state, i.e., the value QAE will eventually approximate."
   ]
  },
  {
   "cell_type": "code",
   "execution_count": 11,
   "metadata": {},
   "outputs": [],
   "source": [
    "num_qubits = multivariate.num_target_qubits\n",
    "num_ancillas = multivariate.required_ancillas()\n",
    "\n",
    "q = QuantumRegister(num_qubits, name='q')\n",
    "q_a = QuantumRegister(num_ancillas, name='q_a')\n",
    "qc = QuantumCircuit(q, q_a)\n",
    "\n",
    "multivariate.build(qc, q, q_a)"
   ]
  },
  {
   "cell_type": "code",
   "execution_count": 12,
   "metadata": {
    "scrolled": true
   },
   "outputs": [
    {
     "data": {
      "text/html": [
       "<pre style=\"word-wrap: normal;white-space: pre;background: #fff0;line-height: 1.1;font-family: &quot;Courier New&quot;,Courier,monospace\">                                ┌───┐┌────────────────┐┌───┐┌──────────────┐»\n",
       "  q_0: ─────────────────────────┤ X ├┤ U3(0.7907,0,0) ├┤ X ├┤ U3(pi/2,0,0) ├»\n",
       "       ┌──────────────┐┌───────┐└─┬─┘└────────────────┘└─┬─┘└──────────────┘»\n",
       "  q_1: ┤ U3(pi/2,0,0) ├┤ U1(0) ├──■──────────────────────■──────────────────»\n",
       "       └──────────────┘└───────┘                                            »\n",
       "  q_2: ─────────────────────────────────────────────────────────────────────»\n",
       "                                                                            »\n",
       "  q_3: ─────────────────────────────────────────────────────────────────────»\n",
       "                                                                            »\n",
       "  q_4: ─────────────────────────────────────────────────────────────────────»\n",
       "                                                                            »\n",
       "q_a_0: ─────────────────────────────────────────────────────────────────────»\n",
       "                                                                            »\n",
       "q_a_1: ─────────────────────────────────────────────────────────────────────»\n",
       "                                                                            »\n",
       "q_a_2: ─────────────────────────────────────────────────────────────────────»\n",
       "                                                                            »\n",
       "«       ┌───┐┌───────┐┌───┐┌───────┐┌─────────┐┌─────────┐ ░ ┌────────┐ ░ »\n",
       "«  q_0: ┤ X ├┤ U1(0) ├┤ X ├┤ U1(0) ├┤0        ├┤0        ├─░─┤0       ├─░─»\n",
       "«       └─┬─┘└───────┘└─┬─┘└───────┘│         ││         │ ░ │        │ ░ »\n",
       "«  q_1: ──■─────────────■───────────┤1 LinRot ├┤1        ├─░─┤1       ├─░─»\n",
       "«                                   │         ││  LinRot │ ░ │        │ ░ »\n",
       "«  q_2: ────────────────────────────┤2        ├┤         ├─░─┤2       ├─░─»\n",
       "«                                   └─────────┘│         │ ░ │        │ ░ »\n",
       "«  q_3: ───────────────────────────────────────┤2        ├─░─┤3       ├─░─»\n",
       "«                                              └─────────┘ ░ │  adder │ ░ »\n",
       "«  q_4: ───────────────────────────────────────────────────░─┤        ├─░─»\n",
       "«                                                          ░ │        │ ░ »\n",
       "«q_a_0: ───────────────────────────────────────────────────░─┤4       ├─░─»\n",
       "«                                                          ░ │        │ ░ »\n",
       "«q_a_1: ───────────────────────────────────────────────────░─┤5       ├─░─»\n",
       "«                                                          ░ │        │ ░ »\n",
       "«q_a_2: ───────────────────────────────────────────────────░─┤6       ├─░─»\n",
       "«                                                          ░ └────────┘ ░ »\n",
       "«                   ░ ┌───────────┐ ░ \n",
       "«  q_0: ────────────░─┤0          ├─░─\n",
       "«                   ░ │           │ ░ \n",
       "«  q_1: ────────────░─┤1          ├─░─\n",
       "«                   ░ │           │ ░ \n",
       "«  q_2: ────────────░─┤2          ├─░─\n",
       "«                   ░ │           │ ░ \n",
       "«  q_3: ────────────░─┤3          ├─░─\n",
       "«       ┌─────────┐ ░ │  adder_dg │ ░ \n",
       "«  q_4: ┤2        ├─░─┤           ├─░─\n",
       "«       │         │ ░ │           │ ░ \n",
       "«q_a_0: ┤0        ├─░─┤4          ├─░─\n",
       "«       │  pw_lin │ ░ │           │ ░ \n",
       "«q_a_1: ┤1        ├─░─┤5          ├─░─\n",
       "«       │         │ ░ │           │ ░ \n",
       "«q_a_2: ┤3        ├─░─┤6          ├─░─\n",
       "«       └─────────┘ ░ └───────────┘ ░ </pre>"
      ],
      "text/plain": [
       "                                ┌───┐┌────────────────┐┌───┐┌──────────────┐»\n",
       "  q_0: ─────────────────────────┤ X ├┤ U3(0.7907,0,0) ├┤ X ├┤ U3(pi/2,0,0) ├»\n",
       "       ┌──────────────┐┌───────┐└─┬─┘└────────────────┘└─┬─┘└──────────────┘»\n",
       "  q_1: ┤ U3(pi/2,0,0) ├┤ U1(0) ├──■──────────────────────■──────────────────»\n",
       "       └──────────────┘└───────┘                                            »\n",
       "  q_2: ─────────────────────────────────────────────────────────────────────»\n",
       "                                                                            »\n",
       "  q_3: ─────────────────────────────────────────────────────────────────────»\n",
       "                                                                            »\n",
       "  q_4: ─────────────────────────────────────────────────────────────────────»\n",
       "                                                                            »\n",
       "q_a_0: ─────────────────────────────────────────────────────────────────────»\n",
       "                                                                            »\n",
       "q_a_1: ─────────────────────────────────────────────────────────────────────»\n",
       "                                                                            »\n",
       "q_a_2: ─────────────────────────────────────────────────────────────────────»\n",
       "                                                                            »\n",
       "«       ┌───┐┌───────┐┌───┐┌───────┐┌─────────┐┌─────────┐ ░ ┌────────┐ ░ »\n",
       "«  q_0: ┤ X ├┤ U1(0) ├┤ X ├┤ U1(0) ├┤0        ├┤0        ├─░─┤0       ├─░─»\n",
       "«       └─┬─┘└───────┘└─┬─┘└───────┘│         ││         │ ░ │        │ ░ »\n",
       "«  q_1: ──■─────────────■───────────┤1 LinRot ├┤1        ├─░─┤1       ├─░─»\n",
       "«                                   │         ││  LinRot │ ░ │        │ ░ »\n",
       "«  q_2: ────────────────────────────┤2        ├┤         ├─░─┤2       ├─░─»\n",
       "«                                   └─────────┘│         │ ░ │        │ ░ »\n",
       "«  q_3: ───────────────────────────────────────┤2        ├─░─┤3       ├─░─»\n",
       "«                                              └─────────┘ ░ │  adder │ ░ »\n",
       "«  q_4: ───────────────────────────────────────────────────░─┤        ├─░─»\n",
       "«                                                          ░ │        │ ░ »\n",
       "«q_a_0: ───────────────────────────────────────────────────░─┤4       ├─░─»\n",
       "«                                                          ░ │        │ ░ »\n",
       "«q_a_1: ───────────────────────────────────────────────────░─┤5       ├─░─»\n",
       "«                                                          ░ │        │ ░ »\n",
       "«q_a_2: ───────────────────────────────────────────────────░─┤6       ├─░─»\n",
       "«                                                          ░ └────────┘ ░ »\n",
       "«                   ░ ┌───────────┐ ░ \n",
       "«  q_0: ────────────░─┤0          ├─░─\n",
       "«                   ░ │           │ ░ \n",
       "«  q_1: ────────────░─┤1          ├─░─\n",
       "«                   ░ │           │ ░ \n",
       "«  q_2: ────────────░─┤2          ├─░─\n",
       "«                   ░ │           │ ░ \n",
       "«  q_3: ────────────░─┤3          ├─░─\n",
       "«       ┌─────────┐ ░ │  adder_dg │ ░ \n",
       "«  q_4: ┤2        ├─░─┤           ├─░─\n",
       "«       │         │ ░ │           │ ░ \n",
       "«q_a_0: ┤0        ├─░─┤4          ├─░─\n",
       "«       │  pw_lin │ ░ │           │ ░ \n",
       "«q_a_1: ┤1        ├─░─┤5          ├─░─\n",
       "«       │         │ ░ │           │ ░ \n",
       "«q_a_2: ┤3        ├─░─┤6          ├─░─\n",
       "«       └─────────┘ ░ └───────────┘ ░ "
      ]
     },
     "execution_count": 12,
     "metadata": {},
     "output_type": "execute_result"
    }
   ],
   "source": [
    "qc.draw()"
   ]
  },
  {
   "cell_type": "code",
   "execution_count": 13,
   "metadata": {},
   "outputs": [],
   "source": [
    "job = execute(qc, backend=BasicAer.get_backend('statevector_simulator'))"
   ]
  },
  {
   "cell_type": "code",
   "execution_count": 14,
   "metadata": {},
   "outputs": [
    {
     "name": "stdout",
     "output_type": "stream",
     "text": [
      "Exact Expected Loss:   0.6409\n",
      "Exact Operator Value:  0.3906\n",
      "Mapped Operator value: 0.6640\n"
     ]
    }
   ],
   "source": [
    "# evaluate resulting statevector\n",
    "value = 0\n",
    "for i, a in enumerate(job.result().get_statevector()):\n",
    "    b = ('{0:0%sb}' % multivariate.num_target_qubits).format(i)[-multivariate.num_target_qubits:]\n",
    "    am = np.round(np.real(a), decimals=4)\n",
    "    if np.abs(am) > 1e-6 and b[0] == '1':\n",
    "        value += am**2\n",
    "\n",
    "print('Exact Expected Loss:   %.4f' % expected_loss) \n",
    "print('Exact Operator Value:  %.4f' % value)\n",
    "print('Mapped Operator value: %.4f' % multivariate.value_to_estimation(value))"
   ]
  },
  {
   "cell_type": "markdown",
   "metadata": {},
   "source": [
    "Next we run QAE to estimate the expected loss with a quadratic speed-up over classical Monte Carlo simulation."
   ]
  },
  {
   "cell_type": "code",
   "execution_count": 15,
   "metadata": {
    "scrolled": false
   },
   "outputs": [
    {
     "name": "stdout",
     "output_type": "stream",
     "text": [
      "Exact value:    \t0.6409\n",
      "Estimated value:\t1.5000\n",
      "Probability:    \t0.3407\n"
     ]
    }
   ],
   "source": [
    "# run amplitude estimation\n",
    "num_eval_qubits = 5\n",
    "ae = AmplitudeEstimation(num_eval_qubits, multivariate)\n",
    "# result = ae.run(quantum_instance=BasicAer.get_backend('qasm_simulator'), shots=100)\n",
    "result = ae.run(quantum_instance=BasicAer.get_backend('statevector_simulator'))\n",
    "\n",
    "# print results\n",
    "print('Exact value:    \\t%.4f' % expected_loss)\n",
    "print('Estimated value:\\t%.4f' % result['estimation'])\n",
    "print('Probability:    \\t%.4f' % result['max_probability'])"
   ]
  },
  {
   "cell_type": "code",
   "execution_count": 16,
   "metadata": {},
   "outputs": [
    {
     "data": {
      "image/png": "[encoded data removed]",
      "text/plain": [
       "<Figure size 432x288 with 1 Axes>"
      ]
     },
     "metadata": {
      "needs_background": "light"
     },
     "output_type": "display_data"
    },
    {
     "data": {
      "image/png": "[encoded data removed]",
      "text/plain": [
       "<Figure size 432x288 with 1 Axes>"
      ]
     },
     "metadata": {
      "needs_background": "light"
     },
     "output_type": "display_data"
    }
   ],
   "source": [
    "# plot estimated values for \"a\"\n",
    "plt.bar(result['values'], result['probabilities'], width=0.5/len(result['probabilities']))\n",
    "plt.xticks([0, 0.25, 0.5, 0.75, 1], size=15)\n",
    "plt.yticks([0, 0.25, 0.5, 0.75, 1], size=15)\n",
    "plt.title('\"a\" Value', size=15)\n",
    "plt.ylabel('Probability', size=15)\n",
    "plt.ylim((0,1))\n",
    "plt.grid()\n",
    "plt.show()\n",
    "\n",
    "# plot estimated values for expected loss (after re-scaling and reversing the c_approx-transformation)\n",
    "plt.bar(result['mapped_values'], result['probabilities'], width=1/len(result['probabilities']))\n",
    "plt.axvline(expected_loss, color='red', linestyle='--', linewidth=2)\n",
    "plt.xticks(size=15)\n",
    "plt.yticks([0, 0.25, 0.5, 0.75, 1], size=15)\n",
    "plt.title('Expected Loss', size=15)\n",
    "plt.ylabel('Probability', size=15)\n",
    "plt.ylim((0,1))\n",
    "plt.grid()\n",
    "plt.show()"
   ]
  },
  {
   "cell_type": "markdown",
   "metadata": {},
   "source": [
    "### Cumulative Distribution Function\n",
    "\n",
    "Instead of the expected loss (which could also be estimated efficiently using classical techniques) we now estimate the cumulative distribution function (CDF) of the loss.\n",
    "Classically, this either involves evaluating all the possible combinations of defaulting assets, or many classical samples in a Monte Carlo simulation. Algorithms based on QAE have the potential to significantly speed up this analysis in the future.\n",
    "\n",
    "To estimate the CDF, i.e., the probability $ \\mathbb{P}[L \\leq x] $, we again apply $\\mathcal{S}$ to compute the total loss, and then apply a comparator that for a given value $x$ acts as\n",
    "\n",
    "$$ \\mathcal{C}: |L\\rangle_n|0> \\mapsto \n",
    "\\begin{cases} \n",
    "|L\\rangle_n|1> & \\text{if}\\quad L \\leq x \\\\\n",
    "|L\\rangle_n|0> & \\text{if}\\quad L > x.\n",
    "\\end{cases} $$\n",
    "\n",
    "The resulting quantum state can be written as\n",
    "\n",
    "$$ \\sum_{L = 0}^{x} \\sqrt{p_{L}}|L\\rangle_{n_s}|1\\rangle + \n",
    "\\sum_{L = x+1}^{2^{n_s}-1} \\sqrt{p_{L}}|L\\rangle_{n_s}|1\\rangle, $$\n",
    "\n",
    "where we directly assume the summed up loss values and corresponding probabilities instead of presenting the details of the uncertainty model.\n",
    "\n",
    "The CDF($x$) equals the probability of measuring $|1\\rangle$ in the objective qubit and QAE can be directly used to estimate it."
   ]
  },
  {
   "cell_type": "code",
   "execution_count": 17,
   "metadata": {},
   "outputs": [],
   "source": [
    "# define value x to evaluate the CDF(x)\n",
    "def get_cdf_operator_factory(x_eval):\n",
    "\n",
    "    # comparator as objective\n",
    "    cdf_objective = Comparator(agg.num_sum_qubits, x_eval+1, geq=False)\n",
    "    \n",
    "    # define overall uncertainty problem\n",
    "    multivariate_cdf = MultivariateProblem(u, agg, cdf_objective)\n",
    "    \n",
    "    return multivariate_cdf"
   ]
  },
  {
   "cell_type": "markdown",
   "metadata": {},
   "source": [
    "Again, we first use quantum simulation to validate the quantum circuit."
   ]
  },
  {
   "cell_type": "code",
   "execution_count": 18,
   "metadata": {},
   "outputs": [],
   "source": [
    "# set x value to estimate the CDF\n",
    "x_eval = 2"
   ]
  },
  {
   "cell_type": "code",
   "execution_count": 19,
   "metadata": {},
   "outputs": [
    {
     "name": "stderr",
     "output_type": "stream",
     "text": [
      "/Users/manoel/anaconda3/envs/QiskitenvProd/lib/python3.7/site-packages/ipykernel_launcher.py:5: DeprecationWarning: The qiskit.aqua.circuits.FixedValueComparator object is deprecated and will be removed no earlier than 3 months after the 0.7.0 release of Qiskit Aqua. You should use qiskit.circuit.library.IntegerComparator instead.\n",
      "  \"\"\"\n"
     ]
    }
   ],
   "source": [
    "# get operator\n",
    "multivariate_cdf = get_cdf_operator_factory(x_eval)\n",
    "\n",
    "# get required number of qubits\n",
    "num_qubits = multivariate_cdf.num_target_qubits\n",
    "num_ancillas = multivariate_cdf.required_ancillas()  # TODO: why do we need two more ancillas?\n",
    "\n",
    "# construct circuit\n",
    "q = QuantumRegister(num_qubits, name='q')\n",
    "q_a = QuantumRegister(num_ancillas, name='q_a')\n",
    "qc = QuantumCircuit(q, q_a)\n",
    "\n",
    "multivariate_cdf.build(qc, q, q_a)"
   ]
  },
  {
   "cell_type": "code",
   "execution_count": 20,
   "metadata": {},
   "outputs": [],
   "source": [
    "job = execute(qc, backend=BasicAer.get_backend('statevector_simulator'))"
   ]
  },
  {
   "cell_type": "code",
   "execution_count": 21,
   "metadata": {
    "scrolled": true
   },
   "outputs": [
    {
     "data": {
      "text/html": [
       "<pre style=\"word-wrap: normal;white-space: pre;background: #fff0;line-height: 1.1;font-family: &quot;Courier New&quot;,Courier,monospace\">                                ┌───┐┌────────────────┐┌───┐┌──────────────┐»\n",
       "  q_0: ─────────────────────────┤ X ├┤ U3(0.7907,0,0) ├┤ X ├┤ U3(pi/2,0,0) ├»\n",
       "       ┌──────────────┐┌───────┐└─┬─┘└────────────────┘└─┬─┘└──────────────┘»\n",
       "  q_1: ┤ U3(pi/2,0,0) ├┤ U1(0) ├──■──────────────────────■──────────────────»\n",
       "       └──────────────┘└───────┘                                            »\n",
       "  q_2: ─────────────────────────────────────────────────────────────────────»\n",
       "                                                                            »\n",
       "  q_3: ─────────────────────────────────────────────────────────────────────»\n",
       "                                                                            »\n",
       "  q_4: ─────────────────────────────────────────────────────────────────────»\n",
       "                                                                            »\n",
       "q_a_0: ─────────────────────────────────────────────────────────────────────»\n",
       "                                                                            »\n",
       "q_a_1: ─────────────────────────────────────────────────────────────────────»\n",
       "                                                                            »\n",
       "q_a_2: ─────────────────────────────────────────────────────────────────────»\n",
       "                                                                            »\n",
       "«       ┌───┐┌───────┐┌───┐┌───────┐┌─────────┐┌─────────┐ ░ ┌────────┐ ░ »\n",
       "«  q_0: ┤ X ├┤ U1(0) ├┤ X ├┤ U1(0) ├┤0        ├┤0        ├─░─┤0       ├─░─»\n",
       "«       └─┬─┘└───────┘└─┬─┘└───────┘│         ││         │ ░ │        │ ░ »\n",
       "«  q_1: ──■─────────────■───────────┤1 LinRot ├┤1        ├─░─┤1       ├─░─»\n",
       "«                                   │         ││  LinRot │ ░ │        │ ░ »\n",
       "«  q_2: ────────────────────────────┤2        ├┤         ├─░─┤2       ├─░─»\n",
       "«                                   └─────────┘│         │ ░ │        │ ░ »\n",
       "«  q_3: ───────────────────────────────────────┤2        ├─░─┤3       ├─░─»\n",
       "«                                              └─────────┘ ░ │  adder │ ░ »\n",
       "«  q_4: ───────────────────────────────────────────────────░─┤        ├─░─»\n",
       "«                                                          ░ │        │ ░ »\n",
       "«q_a_0: ───────────────────────────────────────────────────░─┤4       ├─░─»\n",
       "«                                                          ░ │        │ ░ »\n",
       "«q_a_1: ───────────────────────────────────────────────────░─┤5       ├─░─»\n",
       "«                                                          ░ │        │ ░ »\n",
       "«q_a_2: ───────────────────────────────────────────────────░─┤6       ├─░─»\n",
       "«                                                          ░ └────────┘ ░ »\n",
       "«                ░ ┌───────────┐ ░ \n",
       "«  q_0: ─────────░─┤0          ├─░─\n",
       "«                ░ │           │ ░ \n",
       "«  q_1: ─────────░─┤1          ├─░─\n",
       "«                ░ │           │ ░ \n",
       "«  q_2: ─────────░─┤2          ├─░─\n",
       "«                ░ │           │ ░ \n",
       "«  q_3: ─────────░─┤3          ├─░─\n",
       "«       ┌──────┐ ░ │  adder_dg │ ░ \n",
       "«  q_4: ┤2     ├─░─┤           ├─░─\n",
       "«       │      │ ░ │           │ ░ \n",
       "«q_a_0: ┤0     ├─░─┤4          ├─░─\n",
       "«       │  cmp │ ░ │           │ ░ \n",
       "«q_a_1: ┤1     ├─░─┤5          ├─░─\n",
       "«       │      │ ░ │           │ ░ \n",
       "«q_a_2: ┤3     ├─░─┤6          ├─░─\n",
       "«       └──────┘ ░ └───────────┘ ░ </pre>"
      ],
      "text/plain": [
       "                                ┌───┐┌────────────────┐┌───┐┌──────────────┐»\n",
       "  q_0: ─────────────────────────┤ X ├┤ U3(0.7907,0,0) ├┤ X ├┤ U3(pi/2,0,0) ├»\n",
       "       ┌──────────────┐┌───────┐└─┬─┘└────────────────┘└─┬─┘└──────────────┘»\n",
       "  q_1: ┤ U3(pi/2,0,0) ├┤ U1(0) ├──■──────────────────────■──────────────────»\n",
       "       └──────────────┘└───────┘                                            »\n",
       "  q_2: ─────────────────────────────────────────────────────────────────────»\n",
       "                                                                            »\n",
       "  q_3: ─────────────────────────────────────────────────────────────────────»\n",
       "                                                                            »\n",
       "  q_4: ─────────────────────────────────────────────────────────────────────»\n",
       "                                                                            »\n",
       "q_a_0: ─────────────────────────────────────────────────────────────────────»\n",
       "                                                                            »\n",
       "q_a_1: ─────────────────────────────────────────────────────────────────────»\n",
       "                                                                            »\n",
       "q_a_2: ─────────────────────────────────────────────────────────────────────»\n",
       "                                                                            »\n",
       "«       ┌───┐┌───────┐┌───┐┌───────┐┌─────────┐┌─────────┐ ░ ┌────────┐ ░ »\n",
       "«  q_0: ┤ X ├┤ U1(0) ├┤ X ├┤ U1(0) ├┤0        ├┤0        ├─░─┤0       ├─░─»\n",
       "«       └─┬─┘└───────┘└─┬─┘└───────┘│         ││         │ ░ │        │ ░ »\n",
       "«  q_1: ──■─────────────■───────────┤1 LinRot ├┤1        ├─░─┤1       ├─░─»\n",
       "«                                   │         ││  LinRot │ ░ │        │ ░ »\n",
       "«  q_2: ────────────────────────────┤2        ├┤         ├─░─┤2       ├─░─»\n",
       "«                                   └─────────┘│         │ ░ │        │ ░ »\n",
       "«  q_3: ───────────────────────────────────────┤2        ├─░─┤3       ├─░─»\n",
       "«                                              └─────────┘ ░ │  adder │ ░ »\n",
       "«  q_4: ───────────────────────────────────────────────────░─┤        ├─░─»\n",
       "«                                                          ░ │        │ ░ »\n",
       "«q_a_0: ───────────────────────────────────────────────────░─┤4       ├─░─»\n",
       "«                                                          ░ │        │ ░ »\n",
       "«q_a_1: ───────────────────────────────────────────────────░─┤5       ├─░─»\n",
       "«                                                          ░ │        │ ░ »\n",
       "«q_a_2: ───────────────────────────────────────────────────░─┤6       ├─░─»\n",
       "«                                                          ░ └────────┘ ░ »\n",
       "«                ░ ┌───────────┐ ░ \n",
       "«  q_0: ─────────░─┤0          ├─░─\n",
       "«                ░ │           │ ░ \n",
       "«  q_1: ─────────░─┤1          ├─░─\n",
       "«                ░ │           │ ░ \n",
       "«  q_2: ─────────░─┤2          ├─░─\n",
       "«                ░ │           │ ░ \n",
       "«  q_3: ─────────░─┤3          ├─░─\n",
       "«       ┌──────┐ ░ │  adder_dg │ ░ \n",
       "«  q_4: ┤2     ├─░─┤           ├─░─\n",
       "«       │      │ ░ │           │ ░ \n",
       "«q_a_0: ┤0     ├─░─┤4          ├─░─\n",
       "«       │  cmp │ ░ │           │ ░ \n",
       "«q_a_1: ┤1     ├─░─┤5          ├─░─\n",
       "«       │      │ ░ │           │ ░ \n",
       "«q_a_2: ┤3     ├─░─┤6          ├─░─\n",
       "«       └──────┘ ░ └───────────┘ ░ "
      ]
     },
     "execution_count": 21,
     "metadata": {},
     "output_type": "execute_result"
    }
   ],
   "source": [
    "qc.draw()"
   ]
  },
  {
   "cell_type": "code",
   "execution_count": 22,
   "metadata": {},
   "outputs": [
    {
     "name": "stdout",
     "output_type": "stream",
     "text": [
      "Operator CDF(2) = 0.9591\n",
      "Exact    CDF(2) = 0.9591\n"
     ]
    }
   ],
   "source": [
    "# evaluate resulting statevector\n",
    "var_prob = 0\n",
    "for i, a in enumerate(job.result().get_statevector()):\n",
    "    b = ('{0:0%sb}' % multivariate_cdf.num_target_qubits).format(i)[-multivariate_cdf.num_target_qubits:]\n",
    "    prob = np.abs(a)**2\n",
    "    if prob > 1e-6 and b[0] == '1':\n",
    "        var_prob += prob\n",
    "print('Operator CDF(%s)' % x_eval + ' = %.4f' % var_prob)\n",
    "print('Exact    CDF(%s)' % x_eval + ' = %.4f' % cdf[x_eval])"
   ]
  },
  {
   "cell_type": "markdown",
   "metadata": {},
   "source": [
    "Next we run QAE to estimate the CDF for a given $x$."
   ]
  },
  {
   "cell_type": "code",
   "execution_count": 23,
   "metadata": {},
   "outputs": [],
   "source": [
    "# run amplitude estimation\n",
    "num_eval_qubits = 4\n",
    "ae_cdf = AmplitudeEstimation(num_eval_qubits, multivariate_cdf)\n",
    "# result_cdf = ae_cdf.run(quantum_instance=BasicAer.get_backend('qasm_simulator'), shots=100)\n",
    "result_cdf = ae_cdf.run(quantum_instance=BasicAer.get_backend('statevector_simulator'))"
   ]
  },
  {
   "cell_type": "code",
   "execution_count": 24,
   "metadata": {},
   "outputs": [
    {
     "name": "stdout",
     "output_type": "stream",
     "text": [
      "Exact value:    \t0.9591\n",
      "Estimated value:\t1.0000\n",
      "Probability:    \t0.4129\n"
     ]
    },
    {
     "data": {
      "image/png": "[encoded data removed]",
      "text/plain": [
       "<Figure size 432x288 with 1 Axes>"
      ]
     },
     "metadata": {
      "needs_background": "light"
     },
     "output_type": "display_data"
    }
   ],
   "source": [
    "# print results\n",
    "print('Exact value:    \\t%.4f' % cdf[x_eval])\n",
    "print('Estimated value:\\t%.4f' % result_cdf['estimation'])\n",
    "print('Probability:    \\t%.4f' % result_cdf['max_probability'])\n",
    "\n",
    "# plot estimated values for \"a\"\n",
    "plt.bar(result_cdf['values'], result_cdf['probabilities'], width=0.5/len(result['probabilities']))\n",
    "plt.axvline(cdf[x_eval], color='red', linestyle='--', linewidth=2)\n",
    "plt.xticks([0, 0.25, 0.5, 0.75, 1], size=15)\n",
    "plt.yticks([0, 0.25, 0.5, 0.75, 1], size=15)\n",
    "plt.title('CDF(%s)' % x_eval, size=15)\n",
    "plt.ylabel('Probability', size=15)\n",
    "plt.ylim((0,1))\n",
    "plt.grid()\n",
    "plt.show()"
   ]
  },
  {
   "cell_type": "markdown",
   "metadata": {},
   "source": [
    "### Value at Risk\n",
    "\n",
    "In the following we use a bisection search and QAE to efficiently evaluate the CDF to estimate the value at risk."
   ]
  },
  {
   "cell_type": "code",
   "execution_count": 25,
   "metadata": {},
   "outputs": [],
   "source": [
    "def run_ae_for_cdf(x_eval, num_eval_qubits=3, simulator='statevector_simulator'):\n",
    "    \n",
    "    # run amplitude estimation\n",
    "    multivariate_var = get_cdf_operator_factory(x_eval)\n",
    "    ae_var = AmplitudeEstimation(num_eval_qubits, multivariate_var)\n",
    "    result_var = ae_var.run(BasicAer.get_backend(simulator))\n",
    "    \n",
    "    return result_var['estimation']"
   ]
  },
  {
   "cell_type": "code",
   "execution_count": 26,
   "metadata": {},
   "outputs": [],
   "source": [
    "def bisection_search(objective, target_value, low_level, high_level, low_value=None, high_value=None):\n",
    "    \"\"\"\n",
    "    Determines the smallest level such that the objective value is still larger than the target\n",
    "    :param objective: objective function\n",
    "    :param target: target value\n",
    "    :param low_level: lowest level to be considered\n",
    "    :param high_level: highest level to be considered\n",
    "    :param low_value: value of lowest level (will be evaluated if set to None)\n",
    "    :param high_value: value of highest level (will be evaluated if set to None)\n",
    "    :return: dictionary with level, value, num_eval\n",
    "    \"\"\"\n",
    "\n",
    "    # check whether low and high values are given and evaluated them otherwise\n",
    "    print('--------------------------------------------------------------------')\n",
    "    print('start bisection search for target value %.3f' % target_value)\n",
    "    print('--------------------------------------------------------------------')\n",
    "    num_eval = 0\n",
    "    if low_value is None:\n",
    "        low_value = objective(low_level)\n",
    "        num_eval += 1\n",
    "    if high_value is None:\n",
    "        high_value = objective(high_level)\n",
    "        num_eval += 1    \n",
    "        \n",
    "    # check if low_value already satisfies the condition\n",
    "    if low_value > target_value:\n",
    "        return {'level': low_level, 'value': low_value, 'num_eval': num_eval, 'comment': 'returned low value'}\n",
    "    elif low_value == target_value:\n",
    "        return {'level': low_level, 'value': low_value, 'num_eval': num_eval, 'comment': 'success'}\n",
    "\n",
    "    # check if high_value is above target\n",
    "    if high_value < target_value:\n",
    "        return {'level': high_level, 'value': high_value, 'num_eval': num_eval, 'comment': 'returned low value'}\n",
    "    elif high_value == target_value:\n",
    "        return {'level': high_level, 'value': high_value, 'num_eval': num_eval, 'comment': 'success'}\n",
    "\n",
    "    # perform bisection search until\n",
    "    print('low_level    low_value    level    value    high_level    high_value')\n",
    "    print('--------------------------------------------------------------------')\n",
    "    while high_level - low_level > 1:\n",
    "\n",
    "        level = int(np.round((high_level + low_level) / 2.0))\n",
    "        num_eval += 1\n",
    "        value = objective(level)\n",
    "\n",
    "        print('%2d           %.3f        %2d       %.3f    %2d            %.3f' \\\n",
    "              % (low_level, low_value, level, value, high_level, high_value))\n",
    "\n",
    "        if value >= target_value:\n",
    "            high_level = level\n",
    "            high_value = value\n",
    "        else:\n",
    "            low_level = level\n",
    "            low_value = value\n",
    "\n",
    "    # return high value after bisection search\n",
    "    print('--------------------------------------------------------------------')\n",
    "    print('finished bisection search')\n",
    "    print('--------------------------------------------------------------------')\n",
    "    return {'level': high_level, 'value': high_value, 'num_eval': num_eval, 'comment': 'success'}"
   ]
  },
  {
   "cell_type": "code",
   "execution_count": 27,
   "metadata": {},
   "outputs": [
    {
     "name": "stdout",
     "output_type": "stream",
     "text": [
      "--------------------------------------------------------------------\n",
      "start bisection search for target value 0.950\n",
      "--------------------------------------------------------------------\n",
      "low_level    low_value    level    value    high_level    high_value\n",
      "--------------------------------------------------------------------\n"
     ]
    },
    {
     "name": "stderr",
     "output_type": "stream",
     "text": [
      "/Users/manoel/anaconda3/envs/QiskitenvProd/lib/python3.7/site-packages/ipykernel_launcher.py:5: DeprecationWarning: The qiskit.aqua.circuits.FixedValueComparator object is deprecated and will be removed no earlier than 3 months after the 0.7.0 release of Qiskit Aqua. You should use qiskit.circuit.library.IntegerComparator instead.\n",
      "  \"\"\"\n"
     ]
    },
    {
     "name": "stdout",
     "output_type": "stream",
     "text": [
      "-1           0.000         1       1.000     3            1.000\n",
      "-1           0.000         0       1.000     1            1.000\n",
      "--------------------------------------------------------------------\n",
      "finished bisection search\n",
      "--------------------------------------------------------------------\n"
     ]
    }
   ],
   "source": [
    "# run bisection search to determine VaR\n",
    "num_eval_qubits = 4\n",
    "objective = lambda x: run_ae_for_cdf(x, num_eval_qubits=num_eval_qubits)\n",
    "bisection_result = bisection_search(objective, 1-alpha, min(losses)-1, max(losses), low_value=0, high_value=1)\n",
    "var = bisection_result['level']"
   ]
  },
  {
   "cell_type": "code",
   "execution_count": 28,
   "metadata": {},
   "outputs": [
    {
     "name": "stdout",
     "output_type": "stream",
     "text": [
      "Estimated Value at Risk:  0\n",
      "Exact Value at Risk:      2\n",
      "Estimated Probability:    1.000\n",
      "Exact Probability:        0.959\n"
     ]
    }
   ],
   "source": [
    "print('Estimated Value at Risk: %2d' % var)\n",
    "print('Exact Value at Risk:     %2d' % exact_var)\n",
    "print('Estimated Probability:    %.3f' % bisection_result['value'])\n",
    "print('Exact Probability:        %.3f' % cdf[exact_var])"
   ]
  },
  {
   "cell_type": "markdown",
   "metadata": {},
   "source": [
    "### Conditional Value at Risk\n",
    "\n",
    "Last, we compute the CVaR, i.e. the expected value of the loss conditional to it being larger than or equal to the VaR.\n",
    "To do so, we evaluate a piecewise linear objective function $f(L)$, dependent on the total loss $L$, that is given by\n",
    "\n",
    "$$ f(L) = \\begin{cases} \n",
    "0 & \\text{if}\\quad L \\leq VaR \\\\\n",
    "L & \\text{if}\\quad L > VaR.\n",
    "\\end{cases} $$\n",
    "\n",
    "To normalize, we have to divide the resulting expected value by the VaR-probability, i.e. $\\mathbb{P}[L \\leq VaR]$."
   ]
  },
  {
   "cell_type": "code",
   "execution_count": 29,
   "metadata": {},
   "outputs": [],
   "source": [
    "# define linear objective\n",
    "breakpoints = [0, var]\n",
    "slopes = [0, 1]\n",
    "offsets = [0, 0]  # subtract VaR and add it later to the estimate\n",
    "f_min = 0\n",
    "f_max = 3 - var\n",
    "c_approx = 0.25\n",
    "\n",
    "cvar_objective = PwlObjective(\n",
    "    agg.num_sum_qubits,\n",
    "    0,\n",
    "    2**agg.num_sum_qubits-1,  # max value that can be reached by the qubit register (will not always be reached)\n",
    "    breakpoints, \n",
    "    slopes, \n",
    "    offsets, \n",
    "    f_min, \n",
    "    f_max, \n",
    "    c_approx\n",
    ")"
   ]
  },
  {
   "cell_type": "code",
   "execution_count": 30,
   "metadata": {},
   "outputs": [],
   "source": [
    "var = 2"
   ]
  },
  {
   "cell_type": "code",
   "execution_count": 31,
   "metadata": {},
   "outputs": [],
   "source": [
    "multivariate_cvar = MultivariateProblem(u, agg, cvar_objective)"
   ]
  },
  {
   "cell_type": "code",
   "execution_count": 32,
   "metadata": {},
   "outputs": [],
   "source": [
    "num_qubits = multivariate_cvar.num_target_qubits\n",
    "num_ancillas = multivariate_cvar.required_ancillas()\n",
    "\n",
    "q = QuantumRegister(num_qubits, name='q')\n",
    "q_a = QuantumRegister(num_ancillas, name='q_a')\n",
    "qc = QuantumCircuit(q, q_a)\n",
    "\n",
    "multivariate_cvar.build(qc, q, q_a)"
   ]
  },
  {
   "cell_type": "markdown",
   "metadata": {},
   "source": [
    "Again, we first use quantum simulation to validate the quantum circuit."
   ]
  },
  {
   "cell_type": "code",
   "execution_count": 33,
   "metadata": {},
   "outputs": [],
   "source": [
    "job = execute(qc, backend=BasicAer.get_backend('statevector_simulator'))"
   ]
  },
  {
   "cell_type": "code",
   "execution_count": 34,
   "metadata": {},
   "outputs": [
    {
     "name": "stdout",
     "output_type": "stream",
     "text": [
      "Estimated CVaR: 2.0000\n",
      "Exact CVaR:     3.0000\n"
     ]
    }
   ],
   "source": [
    "# evaluate resulting statevector\n",
    "value = 0\n",
    "for i, a in enumerate(job.result().get_statevector()):\n",
    "    b = ('{0:0%sb}' % multivariate_cvar.num_target_qubits).format(i)[-multivariate_cvar.num_target_qubits:]\n",
    "    am = np.round(np.real(a), decimals=4)\n",
    "    if np.abs(am) > 1e-6 and b[0] == '1':\n",
    "        value += am**2\n",
    "\n",
    "# normalize and add VaR to estimate\n",
    "value = multivariate_cvar.value_to_estimation(value)\n",
    "d = (1.0 - bisection_result['value'])\n",
    "v = value / d if d != 0 else 0\n",
    "normalized_value = v + var\n",
    "print('Estimated CVaR: %.4f' % normalized_value)\n",
    "print('Exact CVaR:     %.4f' % exact_cvar)"
   ]
  },
  {
   "cell_type": "markdown",
   "metadata": {},
   "source": [
    "Next we run QAE to estimate the CVaR."
   ]
  },
  {
   "cell_type": "code",
   "execution_count": 35,
   "metadata": {},
   "outputs": [],
   "source": [
    "# run amplitude estimation\n",
    "num_eval_qubits = 7\n",
    "ae_cvar = AmplitudeEstimation(num_eval_qubits, multivariate_cvar)\n",
    "# result_cvar = ae_cvar.run(quantum_instance=BasicAer.get_backend('qasm_simulator'), shots=100)\n",
    "result_cvar = ae_cvar.run(quantum_instance=BasicAer.get_backend('statevector_simulator'))\n"
   ]
  },
  {
   "cell_type": "code",
   "execution_count": 36,
   "metadata": {},
   "outputs": [
    {
     "name": "stdout",
     "output_type": "stream",
     "text": [
      "Exact CVaR:    \t3.0000\n",
      "Estimated CVaR:\t2.0000\n",
      "Probability:   \t0.3407\n"
     ]
    }
   ],
   "source": [
    "# print results\n",
    "d = (1.0 - bisection_result['value'])\n",
    "v = result_cvar['estimation'] / d if d != 0 else 0\n",
    "print('Exact CVaR:    \\t%.4f' % exact_cvar)\n",
    "print('Estimated CVaR:\\t%.4f' % (v + var))\n",
    "print('Probability:   \\t%.4f' % result_cvar['max_probability'])"
   ]
  },
  {
   "cell_type": "code",
   "execution_count": 37,
   "metadata": {},
   "outputs": [
    {
     "data": {
      "image/png": "[encoded data removed]",
      "text/plain": [
       "<Figure size 432x288 with 1 Axes>"
      ]
     },
     "metadata": {
      "needs_background": "light"
     },
     "output_type": "display_data"
    },
    {
     "data": {
      "image/png": "[encoded data removed]",
      "text/plain": [
       "<Figure size 432x288 with 1 Axes>"
      ]
     },
     "metadata": {
      "needs_background": "light"
     },
     "output_type": "display_data"
    }
   ],
   "source": [
    "# plot estimated values for \"a\"\n",
    "plt.bar(result_cvar['values'], result_cvar['probabilities'], width=0.5/len(result_cvar['probabilities']))\n",
    "plt.xticks([0, 0.25, 0.5, 0.75, 1], size=15)\n",
    "plt.yticks([0, 0.25, 0.5, 0.75, 1], size=15)\n",
    "plt.title('\"a\" Value', size=15)\n",
    "plt.ylabel('Probability', size=15)\n",
    "plt.ylim((0,1))\n",
    "plt.grid()\n",
    "plt.show()\n",
    "\n",
    "# plot estimated values for expected loss (after re-scaling and reversing the c_approx-transformation)\n",
    "d = (1.0 - bisection_result['value'])\n",
    "v = np.array(result_cvar['mapped_values']) / d if d != 0 else 0\n",
    "normalized_values = v + var\n",
    "plt.bar(normalized_values, result_cvar['probabilities'])\n",
    "plt.axvline(exact_cvar, color='red', linestyle='--', linewidth=2)\n",
    "plt.xticks(size=15)\n",
    "plt.yticks([0, 0.25, 0.5, 0.75, 1], size=15)\n",
    "plt.title('CvaR', size=15)\n",
    "plt.ylabel('Probability', size=15)\n",
    "plt.ylim((0,1))\n",
    "plt.grid()\n",
    "plt.show()"
   ]
  },
  {
   "cell_type": "code",
   "execution_count": 38,
   "metadata": {
    "ExecuteTime": {
     "end_time": "2019-08-22T01:56:12.651056Z",
     "start_time": "2019-08-22T01:56:12.640412Z"
    }
   },
   "outputs": [
    {
     "data": {
      "text/html": [
       "<h3>Version Information</h3><table><tr><th>Qiskit Software</th><th>Version</th></tr><tr><td>Qiskit</td><td>None</td></tr><tr><td>Terra</td><td>0.14.1</td></tr><tr><td>Aer</td><td>0.5.1</td></tr><tr><td>Ignis</td><td>0.3.0</td></tr><tr><td>Aqua</td><td>0.7.0</td></tr><tr><td>IBM Q Provider</td><td>0.7.0</td></tr><tr><th>System information</th></tr><tr><td>Python</td><td>3.7.4 (default, Aug 13 2019, 15:17:50) \n",
       "[Clang 4.0.1 (tags/RELEASE_401/final)]</td></tr><tr><td>OS</td><td>Darwin</td></tr><tr><td>CPUs</td><td>2</td></tr><tr><td>Memory (Gb)</td><td>8.0</td></tr><tr><td colspan='2'>Wed May 13 21:03:26 2020 EDT</td></tr></table>"
      ],
      "text/plain": [
       "<IPython.core.display.HTML object>"
      ]
     },
     "metadata": {},
     "output_type": "display_data"
    },
    {
     "data": {
      "text/html": [
       "<div style='width: 100%; background-color:#d5d9e0;padding-left: 10px; padding-bottom: 10px; padding-right: 10px; padding-top: 5px'><h3>This code is a part of Qiskit</h3><p>&copy; Copyright IBM 2017, 2020.</p><p>This code is licensed under the Apache License, Version 2.0. You may<br>obtain a copy of this license in the LICENSE.txt file in the root directory<br> of this source tree or at http://www.apache.org/licenses/LICENSE-2.0.<p>Any modifications or derivative works of this code must retain this<br>copyright notice, and modified files need to carry a notice indicating<br>that they have been altered from the originals.</p></div>"
      ],
      "text/plain": [
       "<IPython.core.display.HTML object>"
      ]
     },
     "metadata": {},
     "output_type": "display_data"
    }
   ],
   "source": [
    "import qiskit.tools.jupyter\n",
    "%qiskit_version_table\n",
    "%qiskit_copyright"
   ]
  },
  {
   "cell_type": "code",
   "execution_count": null,
   "metadata": {},
   "outputs": [],
   "source": []
  }
 ],
 "metadata": {
  "kernelspec": {
   "display_name": "Python 3",
   "language": "python",
   "name": "python3"
  },
  "language_info": {
   "codemirror_mode": {
    "name": "ipython",
    "version": 3
   },
   "file_extension": ".py",
   "mimetype": "text/x-python",
   "name": "python",
   "nbconvert_exporter": "python",
   "pygments_lexer": "ipython3",
   "version": "3.7.4"
  },
  "varInspector": {
   "cols": {
    "lenName": 16,
    "lenType": 16,
    "lenVar": 40
   },
   "kernels_config": {
    "python": {
     "delete_cmd_postfix": "",
     "delete_cmd_prefix": "del ",
     "library": "var_list.py",
     "varRefreshCmd": "print(var_dic_list())"
    },
    "r": {
     "delete_cmd_postfix": ") ",
     "delete_cmd_prefix": "rm(",
     "library": "var_list.r",
     "varRefreshCmd": "cat(var_dic_list()) "
    }
   },
   "types_to_exclude": [
    "module",
    "function",
    "builtin_function_or_method",
    "instance",
    "_Feature"
   ],
   "window_display": false
  }
 },
 "nbformat": 4,
 "nbformat_minor": 2
}
