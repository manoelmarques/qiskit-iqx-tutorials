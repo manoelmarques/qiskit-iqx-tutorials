{
 "cells": [
  {
   "attachments": {},
   "cell_type": "markdown",
   "metadata": {},
   "source": [
    "![qiskit_header.png](../../images/qiskit_header.png)"
   ]
  },
  {
   "cell_type": "markdown",
   "metadata": {},
   "source": [
    "# The IBM Q Account"
   ]
  },
  {
   "cell_type": "markdown",
   "metadata": {},
   "source": [
    "In Qiskit we have an interface for backends and jobs that is useful for running circuits and extending to third-party backends. In this tutorial, we will review the core components of Qiskit’s base backend framework, using the IBM Q account as an example.\n",
    "\n",
    "The interface has four main components: the account, providers, backends, and jobs:\n",
    "\n",
    "- **account**: Gives access to one or more ‘providers’ based on the account's permissions.\n",
    "\n",
    "- **provider**: Provides access to quantum devices and simulators, collectively called ‘backends’, and additional services tailored to a specific backend instance.\n",
    "\n",
    "- **backend**: A quantum device or simulator capable of running quantum circuits or pulse schedules.\n",
    "\n",
    "- **job**: A local reference to a collection of quantum circuits or pulse schedules submitted to a given backend."
   ]
  },
  {
   "cell_type": "markdown",
   "metadata": {
    "ExecuteTime": {
     "end_time": "2019-08-10T11:26:18.728475Z",
     "start_time": "2019-08-10T11:26:18.724151Z"
    }
   },
   "source": [
    "## Table of contents\n",
    "\n",
    "1) [The Account](#account)\n",
    "\n",
    "\n",
    "2) [The Provider](#provider)\n",
    "\n",
    "\n",
    "3) [Backends](#backends)\n",
    "    \n",
    "    \n",
    "4) [Jobs](#jobs)\n",
    "\n",
    "\n",
    "5) [Updating from previous versions](#updating)"
   ]
  },
  {
   "cell_type": "markdown",
   "metadata": {},
   "source": [
    "## The Account <a name='account'></a>\n",
    "\n",
    "The Qiskit `IBMQ` account object is the local reference for accessing your IBM Q account, and all of the providers, backends, etc, that are available to you.\n",
    "\n",
    "The `IBMQ` account has functions for handling administrative tasks. The credentials can be saved to disk, or used in a session and never saved.\n",
    "\n",
    "- `enable_account(TOKEN)`: Enable your account in the current session.\n",
    "- `save_account(TOKEN)`: Save your account to disk for future use.\n",
    "- `load_account()`: Load account using stored credentials.\n",
    "- `disable_account()`: Disable your account in the current session.\n",
    "- `stored_account()`: List the account stored to disk.\n",
    "- `active_account()`: List the account currently in the session.\n",
    "- `delete_account()`: Delete the saved account from disk.\n",
    "\n",
    "\n",
    "\n",
    "In order to access quantum devices, simulators, or other services, you must specify the source of these items by selecting a provider. To see all the providers available do the following:"
   ]
  },
  {
   "cell_type": "code",
   "execution_count": 1,
   "metadata": {
    "ExecuteTime": {
     "end_time": "2019-08-10T09:32:08.428757Z",
     "start_time": "2019-08-10T09:32:00.431046Z"
    }
   },
   "outputs": [
    {
     "data": {
      "text/plain": [
       "[<AccountProvider for IBMQ(hub='ibm-q', group='open', project='main')>]"
      ]
     },
     "execution_count": 1,
     "metadata": {},
     "output_type": "execute_result"
    }
   ],
   "source": [
    "from qiskit import IBMQ\n",
    "\n",
    "IBMQ.load_account() # Load account from disk\n",
    "IBMQ.providers()    # List all available providers"
   ]
  },
  {
   "cell_type": "markdown",
   "metadata": {},
   "source": [
    "where we have assumed that the user has stored their IBMQ account information locally ahead of time using `IBMQ.save_account(TOKEN)`.\n",
    "\n",
    "<div class=\"alert alert-block alert-info\">\n",
    "<b>Note:</b> The use of `provider` instances is the default way of retrieving backends from Qiskit 0.11 onwards - if you have been using earlier versions of Qiskit, check the <a href=\"#updating\">\"Updating from previous versions\"</a> section for more detailed instructions on updating and using the different options.</div>\n",
    "</div>\n",
    "\n",
    "The above example shows two different providers. All `IBMQ` providers are specified by a `hub`, `group`, and `project`. The provider given by `hub='ibm-q', group='open', project='main'` is the provider that gives access to the public IBM Q devices available to all IQX users. The second is an example of a provider that is only unlocked for a specific set of users. Members of the IBM Q network may see one or more providers (with names different than those shown above) depending on the access level granted to them."
   ]
  },
  {
   "cell_type": "markdown",
   "metadata": {},
   "source": [
    "To access a given provider one should use the `get_provider()` method of the `IBMQ` account, filtering by `hub`, `group`, or `project`:"
   ]
  },
  {
   "cell_type": "code",
   "execution_count": 2,
   "metadata": {
    "ExecuteTime": {
     "end_time": "2019-08-10T09:34:10.585597Z",
     "start_time": "2019-08-10T09:34:10.581126Z"
    }
   },
   "outputs": [
    {
     "data": {
      "text/plain": [
       "<AccountProvider for IBMQ(hub='ibm-q', group='open', project='main')>"
      ]
     },
     "execution_count": 2,
     "metadata": {},
     "output_type": "execute_result"
    }
   ],
   "source": [
    "IBMQ.get_provider(hub='ibm-q')"
   ]
  },
  {
   "cell_type": "code",
   "execution_count": 3,
   "metadata": {
    "ExecuteTime": {
     "end_time": "2019-08-10T09:34:32.437442Z",
     "start_time": "2019-08-10T09:34:32.432869Z"
    }
   },
   "outputs": [
    {
     "data": {
      "text/plain": [
       "<AccountProvider for IBMQ(hub='ibm-q', group='open', project='main')>"
      ]
     },
     "execution_count": 3,
     "metadata": {},
     "output_type": "execute_result"
    }
   ],
   "source": [
    "IBMQ.get_provider(project='main')"
   ]
  },
  {
   "cell_type": "markdown",
   "metadata": {},
   "source": [
    "Finally, as a convenience, calling `IBMQ.load_account()` or `IBMQ.enable_account()` will return the default public provider instance `<AccountProvider for IBMQ(hub='ibm-q', group='open', project='main')>`."
   ]
  },
  {
   "cell_type": "markdown",
   "metadata": {},
   "source": [
    "## The Provider <a name='provider'></a>\n",
    "\n",
    "Providers accessed via the `IBMQ` account provide access to a group of different backends (for example, backends available through the IBM Q Experience or IBM Q Network quantum cloud services).\n",
    "\n",
    "A provider inherits from `BaseProvider` and implements the methods:\n",
    "\n",
    "- `backends()`: Returns all backend objects known to the provider.\n",
    "- `get_backend(NAME)`: Returns the named backend.\n",
    "\n",
    "Using the public provider instance from above:"
   ]
  },
  {
   "cell_type": "code",
   "execution_count": 4,
   "metadata": {
    "ExecuteTime": {
     "end_time": "2019-08-10T09:36:23.193295Z",
     "start_time": "2019-08-10T09:36:22.760961Z"
    }
   },
   "outputs": [
    {
     "data": {
      "text/plain": [
       "[<IBMQSimulator('ibmq_qasm_simulator') from IBMQ(hub='ibm-q', group='open', project='main')>,\n",
       " <IBMQBackend('ibmqx2') from IBMQ(hub='ibm-q', group='open', project='main')>,\n",
       " <IBMQBackend('ibmq_16_melbourne') from IBMQ(hub='ibm-q', group='open', project='main')>,\n",
       " <IBMQBackend('ibmq_vigo') from IBMQ(hub='ibm-q', group='open', project='main')>,\n",
       " <IBMQBackend('ibmq_ourense') from IBMQ(hub='ibm-q', group='open', project='main')>,\n",
       " <IBMQBackend('ibmq_london') from IBMQ(hub='ibm-q', group='open', project='main')>,\n",
       " <IBMQBackend('ibmq_burlington') from IBMQ(hub='ibm-q', group='open', project='main')>,\n",
       " <IBMQBackend('ibmq_essex') from IBMQ(hub='ibm-q', group='open', project='main')>]"
      ]
     },
     "execution_count": 4,
     "metadata": {},
     "output_type": "execute_result"
    }
   ],
   "source": [
    "provider = IBMQ.get_provider(hub='ibm-q')\n",
    "provider.backends()"
   ]
  },
  {
   "cell_type": "markdown",
   "metadata": {},
   "source": [
    "Selecting a backend is done by name using the `get_backend(NAME)` method:"
   ]
  },
  {
   "cell_type": "code",
   "execution_count": 5,
   "metadata": {
    "ExecuteTime": {
     "end_time": "2019-08-10T09:37:09.637775Z",
     "start_time": "2019-08-10T09:37:09.633565Z"
    }
   },
   "outputs": [
    {
     "data": {
      "text/plain": [
       "<IBMQBackend('ibmq_16_melbourne') from IBMQ(hub='ibm-q', group='open', project='main')>"
      ]
     },
     "execution_count": 5,
     "metadata": {},
     "output_type": "execute_result"
    }
   ],
   "source": [
    "backend = provider.get_backend('ibmq_16_melbourne')\n",
    "backend"
   ]
  },
  {
   "cell_type": "markdown",
   "metadata": {},
   "source": [
    "### Filtering the Backends\n",
    "\n",
    "You may also optionally filter the set of returned backends, by passing arguments that query the backend’s `configuration`, `status`, or `properties`. The filters are passed by conditions and, for more general filters, you can make advanced functions using a lambda function.\n",
    "\n",
    "As a first example lets return only those backends that are real quantum devices, and that are currently operational:"
   ]
  },
  {
   "cell_type": "code",
   "execution_count": 6,
   "metadata": {
    "ExecuteTime": {
     "end_time": "2019-08-10T09:39:00.685464Z",
     "start_time": "2019-08-10T09:38:59.837398Z"
    }
   },
   "outputs": [
    {
     "data": {
      "text/plain": [
       "[<IBMQBackend('ibmqx2') from IBMQ(hub='ibm-q', group='open', project='main')>,\n",
       " <IBMQBackend('ibmq_16_melbourne') from IBMQ(hub='ibm-q', group='open', project='main')>,\n",
       " <IBMQBackend('ibmq_vigo') from IBMQ(hub='ibm-q', group='open', project='main')>,\n",
       " <IBMQBackend('ibmq_ourense') from IBMQ(hub='ibm-q', group='open', project='main')>,\n",
       " <IBMQBackend('ibmq_london') from IBMQ(hub='ibm-q', group='open', project='main')>,\n",
       " <IBMQBackend('ibmq_burlington') from IBMQ(hub='ibm-q', group='open', project='main')>,\n",
       " <IBMQBackend('ibmq_essex') from IBMQ(hub='ibm-q', group='open', project='main')>]"
      ]
     },
     "execution_count": 6,
     "metadata": {},
     "output_type": "execute_result"
    }
   ],
   "source": [
    "provider.backends(simulator=False, operational=True)"
   ]
  },
  {
   "cell_type": "markdown",
   "metadata": {},
   "source": [
    "Or, only those backends that are real devices, have more than 10 qubits, and are operational"
   ]
  },
  {
   "cell_type": "code",
   "execution_count": 7,
   "metadata": {
    "ExecuteTime": {
     "end_time": "2019-08-10T09:40:18.300155Z",
     "start_time": "2019-08-10T09:40:17.775145Z"
    }
   },
   "outputs": [
    {
     "data": {
      "text/plain": [
       "[<IBMQBackend('ibmq_16_melbourne') from IBMQ(hub='ibm-q', group='open', project='main')>]"
      ]
     },
     "execution_count": 7,
     "metadata": {},
     "output_type": "execute_result"
    }
   ],
   "source": [
    "provider.backends(filters=lambda x: x.configuration().n_qubits >= 10\n",
    "                                    and not x.configuration().simulator\n",
    "                                    and x.status().operational)"
   ]
  },
  {
   "cell_type": "markdown",
   "metadata": {},
   "source": [
    "Lastly, show the least busy 5 qubit device (in terms of the number of jobs pending in the queue)"
   ]
  },
  {
   "cell_type": "code",
   "execution_count": 8,
   "metadata": {
    "ExecuteTime": {
     "end_time": "2019-08-10T09:41:49.653822Z",
     "start_time": "2019-08-10T09:41:48.210193Z"
    }
   },
   "outputs": [
    {
     "data": {
      "text/plain": [
       "<IBMQBackend('ibmqx2') from IBMQ(hub='ibm-q', group='open', project='main')>"
      ]
     },
     "execution_count": 8,
     "metadata": {},
     "output_type": "execute_result"
    }
   ],
   "source": [
    "from qiskit.providers.ibmq import least_busy\n",
    "\n",
    "small_devices = provider.backends(filters=lambda x: x.configuration().n_qubits == 5\n",
    "                                   and not x.configuration().simulator)\n",
    "least_busy(small_devices)"
   ]
  },
  {
   "cell_type": "markdown",
   "metadata": {},
   "source": [
    "The above filters can be combined as desired."
   ]
  },
  {
   "cell_type": "markdown",
   "metadata": {},
   "source": [
    "## Backends <a name='backends'></a>"
   ]
  },
  {
   "cell_type": "markdown",
   "metadata": {},
   "source": [
    "Backends represent either a simulator or a real quantum computer, and are responsible for running quantum circuits and/or pulse schedules and returning results. They have a `run` method which takes in a `qobj` as input, the Qiskit API serialization format, and returns a `BaseJob` object. This object allows asynchronous running of jobs for retrieving results from a backend when the job is completed.\n",
    "\n",
    "\n",
    "At a minimum, backends use the following methods, inherited from `BaseBackend`:\n",
    "\n",
    "- `provider()`: Returns the provider of the backend.\n",
    "- `name()`: Returns the name of the backend.\n",
    "- `status()`: Returns the current status of the backend.\n",
    "- `configuration()`: Returns the backend configuration.\n",
    "- `properties()`: Returns the backend properties.\n",
    "- `run(QOBJ, **kwargs)`: Runs a qobj on the backend.\n"
   ]
  },
  {
   "cell_type": "markdown",
   "metadata": {},
   "source": [
    "For remote backends they must support the additional methods:\n",
    "\n",
    "- `jobs()`: Returns a list of previous jobs executed on this backend through the current provider instance.\n",
    "- `retrieve_job(JOB_ID)`:  Returns a job by a job_id.\n",
    "\n",
    "On a per device basis, the following commands may be supported:\n",
    "\n",
    "- `defaults()`: Gives a data structure of typical default parameters.\n",
    "- `schema()`: Gets a schema for the backend.\n",
    "\n",
    "There are some \"IBM Q backend\"-only attributes:\n",
    "\n",
    "- `hub`: The IBMQ hub for this backend.\n",
    "- `group`:  The IBMQ group for this backend.\n",
    "- `project`: The IBMQ project for this backend.\n"
   ]
  },
  {
   "cell_type": "markdown",
   "metadata": {},
   "source": [
    "Lets load up the least busy backend from the `small_devices` filtered above:"
   ]
  },
  {
   "cell_type": "code",
   "execution_count": 9,
   "metadata": {
    "ExecuteTime": {
     "end_time": "2019-08-10T11:07:57.819917Z",
     "start_time": "2019-08-10T11:07:56.480877Z"
    }
   },
   "outputs": [],
   "source": [
    "backend = least_busy(small_devices)"
   ]
  },
  {
   "cell_type": "markdown",
   "metadata": {},
   "source": [
    "Several examples using commands are:"
   ]
  },
  {
   "cell_type": "code",
   "execution_count": 10,
   "metadata": {
    "ExecuteTime": {
     "end_time": "2019-08-10T11:08:14.218624Z",
     "start_time": "2019-08-10T11:08:14.214377Z"
    }
   },
   "outputs": [
    {
     "data": {
      "text/plain": [
       "<AccountProvider for IBMQ(hub='ibm-q', group='open', project='main')>"
      ]
     },
     "execution_count": 10,
     "metadata": {},
     "output_type": "execute_result"
    }
   ],
   "source": [
    "backend.provider()"
   ]
  },
  {
   "cell_type": "code",
   "execution_count": 11,
   "metadata": {
    "ExecuteTime": {
     "end_time": "2019-08-10T11:08:30.907490Z",
     "start_time": "2019-08-10T11:08:30.902985Z"
    }
   },
   "outputs": [
    {
     "data": {
      "text/plain": [
       "'ibmqx2'"
      ]
     },
     "execution_count": 11,
     "metadata": {},
     "output_type": "execute_result"
    }
   ],
   "source": [
    "backend.name()"
   ]
  },
  {
   "cell_type": "code",
   "execution_count": 12,
   "metadata": {
    "ExecuteTime": {
     "end_time": "2019-08-10T11:09:31.014122Z",
     "start_time": "2019-08-10T11:09:30.529121Z"
    }
   },
   "outputs": [
    {
     "data": {
      "text/plain": [
       "BackendStatus(backend_name='ibmqx2', backend_version='2.0.1', operational=True, pending_jobs=9, status_msg='active')"
      ]
     },
     "execution_count": 12,
     "metadata": {},
     "output_type": "execute_result"
    }
   ],
   "source": [
    "backend.status()"
   ]
  },
  {
   "cell_type": "markdown",
   "metadata": {},
   "source": [
    "Here we see the name of the backend, the software version it is running, along with its operational status, number of jobs pending in the backends queue, and a more detailed status message.\n",
    "\n",
    "Next we look at the backend configuration and properties:"
   ]
  },
  {
   "cell_type": "code",
   "execution_count": 13,
   "metadata": {
    "ExecuteTime": {
     "end_time": "2019-08-10T11:10:52.506038Z",
     "start_time": "2019-08-10T11:10:52.502010Z"
    },
    "scrolled": true
   },
   "outputs": [
    {
     "data": {
      "text/plain": [
       "QasmBackendConfiguration(allow_object_storage=True, allow_q_circuit=False, allow_q_object=True, backend_name='ibmqx2', backend_version='2.0.1', basis_gates=['u1', 'u2', 'u3', 'cx', 'id'], conditional=False, coupling_map=[[0, 1], [0, 2], [1, 0], [1, 2], [2, 0], [2, 1], [2, 3], [2, 4], [3, 2], [3, 4], [4, 2], [4, 3]], credits_required=True, description='5 qubit device', gates=[GateConfig(coupling_map=[[0], [1], [2], [3], [4]], name='id', parameters=[], qasm_def='gate id q { U(0,0,0) q; }'), GateConfig(coupling_map=[[0], [1], [2], [3], [4]], name='u1', parameters=['lambda'], qasm_def='gate u1(lambda) q { U(0,0,lambda) q; }'), GateConfig(coupling_map=[[0], [1], [2], [3], [4]], name='u2', parameters=['phi', 'lambda'], qasm_def='gate u2(phi,lambda) q { U(pi/2,phi,lambda) q; }'), GateConfig(coupling_map=[[0], [1], [2], [3], [4]], name='u3', parameters=['theta', 'phi', 'lambda'], qasm_def='gate u3(theta,phi,lambda) q { U(theta,phi,lambda) q; }'), GateConfig(coupling_map=[[0, 1], [0, 2], [1, 0], [1, 2], [2, 0], [2, 1], [2, 3], [2, 4], [3, 2], [3, 4], [4, 2], [4, 3]], name='cx', parameters=[], qasm_def='gate cx q1,q2 { CX q1,q2; }')], local=False, max_experiments=75, max_shots=8192, memory=True, n_qubits=5, n_registers=1, online_date=datetime.datetime(2018, 11, 6, 5, 0, tzinfo=datetime.timezone.utc), open_pulse=False, quantum_volume=8, sample_name='sparrow', simulator=False, url='None')"
      ]
     },
     "execution_count": 13,
     "metadata": {},
     "output_type": "execute_result"
    }
   ],
   "source": [
    "backend.configuration()"
   ]
  },
  {
   "cell_type": "code",
   "execution_count": 14,
   "metadata": {
    "ExecuteTime": {
     "end_time": "2019-08-10T11:11:08.272105Z",
     "start_time": "2019-08-10T11:11:08.267125Z"
    }
   },
   "outputs": [
    {
     "data": {
      "text/plain": [
       "BackendProperties(_gates={'id': {(0,): {'gate_error': (0.000726140677193839, datetime.datetime(2019, 12, 10, 10, 33, 6, tzinfo=datetime.timezone.utc)), 'gate_length': (3.555555555555556e-08, datetime.datetime(2019, 12, 10, 11, 36, 1, tzinfo=datetime.timezone.utc))}, (1,): {'gate_error': (0.0005317186576686104, datetime.datetime(2019, 12, 10, 10, 35, 39, tzinfo=datetime.timezone.utc)), 'gate_length': (3.555555555555556e-08, datetime.datetime(2019, 12, 10, 11, 36, 1, tzinfo=datetime.timezone.utc))}, (2,): {'gate_error': (0.00033232161794790807, datetime.datetime(2019, 12, 10, 10, 40, 13, tzinfo=datetime.timezone.utc)), 'gate_length': (3.555555555555556e-08, datetime.datetime(2019, 12, 10, 11, 36, 1, tzinfo=datetime.timezone.utc))}, (3,): {'gate_error': (0.00047241207684760875, datetime.datetime(2019, 12, 10, 10, 42, 46, tzinfo=datetime.timezone.utc)), 'gate_length': (3.555555555555556e-08, datetime.datetime(2019, 12, 10, 11, 36, 1, tzinfo=datetime.timezone.utc))}, (4,): {'gate_error': (0.0008317289650890578, datetime.datetime(2019, 12, 10, 10, 45, 18, tzinfo=datetime.timezone.utc)), 'gate_length': (3.555555555555556e-08, datetime.datetime(2019, 12, 10, 11, 36, 1, tzinfo=datetime.timezone.utc))}}, 'u1': {(0,): {'gate_error': (0.0, datetime.datetime(2019, 12, 10, 10, 33, 6, tzinfo=datetime.timezone.utc)), 'gate_length': (0.0, datetime.datetime(2019, 12, 10, 11, 36, 1, tzinfo=datetime.timezone.utc))}, (1,): {'gate_error': (0.0, datetime.datetime(2019, 12, 10, 10, 35, 39, tzinfo=datetime.timezone.utc)), 'gate_length': (0.0, datetime.datetime(2019, 12, 10, 11, 36, 1, tzinfo=datetime.timezone.utc))}, (2,): {'gate_error': (0.0, datetime.datetime(2019, 12, 10, 10, 40, 13, tzinfo=datetime.timezone.utc)), 'gate_length': (0.0, datetime.datetime(2019, 12, 10, 11, 36, 1, tzinfo=datetime.timezone.utc))}, (3,): {'gate_error': (0.0, datetime.datetime(2019, 12, 10, 10, 42, 46, tzinfo=datetime.timezone.utc)), 'gate_length': (0.0, datetime.datetime(2019, 12, 10, 11, 36, 1, tzinfo=datetime.timezone.utc))}, (4,): {'gate_error': (0.0, datetime.datetime(2019, 12, 10, 10, 45, 18, tzinfo=datetime.timezone.utc)), 'gate_length': (0.0, datetime.datetime(2019, 12, 10, 11, 36, 1, tzinfo=datetime.timezone.utc))}}, 'u2': {(0,): {'gate_error': (0.000726140677193839, datetime.datetime(2019, 12, 10, 10, 33, 6, tzinfo=datetime.timezone.utc)), 'gate_length': (3.555555555555556e-08, datetime.datetime(2019, 12, 10, 11, 36, 1, tzinfo=datetime.timezone.utc))}, (1,): {'gate_error': (0.0005317186576686104, datetime.datetime(2019, 12, 10, 10, 35, 39, tzinfo=datetime.timezone.utc)), 'gate_length': (3.555555555555556e-08, datetime.datetime(2019, 12, 10, 11, 36, 1, tzinfo=datetime.timezone.utc))}, (2,): {'gate_error': (0.00033232161794790807, datetime.datetime(2019, 12, 10, 10, 40, 13, tzinfo=datetime.timezone.utc)), 'gate_length': (3.555555555555556e-08, datetime.datetime(2019, 12, 10, 11, 36, 1, tzinfo=datetime.timezone.utc))}, (3,): {'gate_error': (0.00047241207684760875, datetime.datetime(2019, 12, 10, 10, 42, 46, tzinfo=datetime.timezone.utc)), 'gate_length': (3.555555555555556e-08, datetime.datetime(2019, 12, 10, 11, 36, 1, tzinfo=datetime.timezone.utc))}, (4,): {'gate_error': (0.0008317289650890578, datetime.datetime(2019, 12, 10, 10, 45, 18, tzinfo=datetime.timezone.utc)), 'gate_length': (3.555555555555556e-08, datetime.datetime(2019, 12, 10, 11, 36, 1, tzinfo=datetime.timezone.utc))}}, 'u3': {(0,): {'gate_error': (0.001452281354387678, datetime.datetime(2019, 12, 10, 10, 33, 6, tzinfo=datetime.timezone.utc)), 'gate_length': (7.111111111111112e-08, datetime.datetime(2019, 12, 10, 11, 36, 1, tzinfo=datetime.timezone.utc))}, (1,): {'gate_error': (0.0010634373153372207, datetime.datetime(2019, 12, 10, 10, 35, 39, tzinfo=datetime.timezone.utc)), 'gate_length': (7.111111111111112e-08, datetime.datetime(2019, 12, 10, 11, 36, 1, tzinfo=datetime.timezone.utc))}, (2,): {'gate_error': (0.0006646432358958161, datetime.datetime(2019, 12, 10, 10, 40, 13, tzinfo=datetime.timezone.utc)), 'gate_length': (7.111111111111112e-08, datetime.datetime(2019, 12, 10, 11, 36, 1, tzinfo=datetime.timezone.utc))}, (3,): {'gate_error': (0.0009448241536952175, datetime.datetime(2019, 12, 10, 10, 42, 46, tzinfo=datetime.timezone.utc)), 'gate_length': (7.111111111111112e-08, datetime.datetime(2019, 12, 10, 11, 36, 1, tzinfo=datetime.timezone.utc))}, (4,): {'gate_error': (0.0016634579301781157, datetime.datetime(2019, 12, 10, 10, 45, 18, tzinfo=datetime.timezone.utc)), 'gate_length': (7.111111111111112e-08, datetime.datetime(2019, 12, 10, 11, 36, 1, tzinfo=datetime.timezone.utc))}}, 'cx': {(0, 1): {'gate_error': (0.016323492449031474, datetime.datetime(2019, 12, 10, 10, 52, 34, tzinfo=datetime.timezone.utc)), 'gate_length': (3.6266666666666663e-07, datetime.datetime(2019, 12, 10, 11, 36, 1, tzinfo=datetime.timezone.utc))}, (0, 2): {'gate_error': (0.01720199803872602, datetime.datetime(2019, 12, 10, 10, 59, 12, tzinfo=datetime.timezone.utc)), 'gate_length': (4.906666666666666e-07, datetime.datetime(2019, 12, 10, 11, 36, 1, tzinfo=datetime.timezone.utc))}, (1, 0): {'gate_error': (0.016323492449031474, datetime.datetime(2019, 12, 10, 10, 52, 34, tzinfo=datetime.timezone.utc)), 'gate_length': (3.6266666666666663e-07, datetime.datetime(2019, 12, 10, 11, 36, 1, tzinfo=datetime.timezone.utc))}, (1, 2): {'gate_error': (0.015358439577060568, datetime.datetime(2019, 12, 10, 11, 4, 6, tzinfo=datetime.timezone.utc)), 'gate_length': (5.12e-07, datetime.datetime(2019, 12, 10, 11, 36, 1, tzinfo=datetime.timezone.utc))}, (2, 0): {'gate_error': (0.01720199803872602, datetime.datetime(2019, 12, 10, 10, 59, 12, tzinfo=datetime.timezone.utc)), 'gate_length': (4.906666666666666e-07, datetime.datetime(2019, 12, 10, 11, 36, 1, tzinfo=datetime.timezone.utc))}, (2, 1): {'gate_error': (0.015358439577060568, datetime.datetime(2019, 12, 10, 11, 4, 6, tzinfo=datetime.timezone.utc)), 'gate_length': (5.12e-07, datetime.datetime(2019, 12, 10, 11, 36, 1, tzinfo=datetime.timezone.utc))}, (2, 3): {'gate_error': (0.012621121544793112, datetime.datetime(2019, 12, 10, 11, 21, 46, tzinfo=datetime.timezone.utc)), 'gate_length': (3.911111111111111e-07, datetime.datetime(2019, 12, 10, 11, 36, 1, tzinfo=datetime.timezone.utc))}, (2, 4): {'gate_error': (0.01387805946967316, datetime.datetime(2019, 12, 10, 11, 36, 1, tzinfo=datetime.timezone.utc)), 'gate_length': (3.128888888888889e-07, datetime.datetime(2019, 12, 10, 11, 36, 1, tzinfo=datetime.timezone.utc))}, (3, 2): {'gate_error': (0.012621121544793112, datetime.datetime(2019, 12, 10, 11, 21, 46, tzinfo=datetime.timezone.utc)), 'gate_length': (3.911111111111111e-07, datetime.datetime(2019, 12, 10, 11, 36, 1, tzinfo=datetime.timezone.utc))}, (3, 4): {'gate_error': (0.015021480950101695, datetime.datetime(2019, 12, 10, 11, 30, tzinfo=datetime.timezone.utc)), 'gate_length': (4.0533333333333336e-07, datetime.datetime(2019, 12, 10, 11, 36, 1, tzinfo=datetime.timezone.utc))}, (4, 2): {'gate_error': (0.01387805946967316, datetime.datetime(2019, 12, 10, 11, 36, 1, tzinfo=datetime.timezone.utc)), 'gate_length': (3.128888888888889e-07, datetime.datetime(2019, 12, 10, 11, 36, 1, tzinfo=datetime.timezone.utc))}, (4, 3): {'gate_error': (0.015021480950101695, datetime.datetime(2019, 12, 10, 11, 30, tzinfo=datetime.timezone.utc)), 'gate_length': (4.0533333333333336e-07, datetime.datetime(2019, 12, 10, 11, 36, 1, tzinfo=datetime.timezone.utc))}}}, _qubits={0: {'T1': (4.89079252259057e-05, datetime.datetime(2019, 12, 10, 10, 25, 11, tzinfo=datetime.timezone.utc)), 'T2': (3.589370833778893e-05, datetime.datetime(2019, 12, 10, 10, 26, 56, tzinfo=datetime.timezone.utc)), 'frequency': (5286249905.352311, datetime.datetime(2019, 12, 10, 11, 36, 1, tzinfo=datetime.timezone.utc)), 'readout_error': (0.013500000000000068, datetime.datetime(2019, 12, 10, 10, 25, 4, tzinfo=datetime.timezone.utc)), 'prob_meas0_prep1': (0.017000000000000015, datetime.datetime(2019, 12, 10, 10, 25, 4, tzinfo=datetime.timezone.utc)), 'prob_meas1_prep0': (0.01, datetime.datetime(2019, 12, 10, 10, 25, 4, tzinfo=datetime.timezone.utc))}, 1: {'T1': (6.510334841445224e-05, datetime.datetime(2019, 12, 10, 10, 25, 11, tzinfo=datetime.timezone.utc)), 'T2': (5.9580108929844585e-05, datetime.datetime(2019, 12, 10, 10, 29, 12, tzinfo=datetime.timezone.utc)), 'frequency': (5237876946.598497, datetime.datetime(2019, 12, 10, 11, 36, 1, tzinfo=datetime.timezone.utc)), 'readout_error': (0.01200000000000001, datetime.datetime(2019, 12, 10, 10, 25, 4, tzinfo=datetime.timezone.utc)), 'prob_meas0_prep1': (0.009000000000000008, datetime.datetime(2019, 12, 10, 10, 25, 4, tzinfo=datetime.timezone.utc)), 'prob_meas1_prep0': (0.015, datetime.datetime(2019, 12, 10, 10, 25, 4, tzinfo=datetime.timezone.utc))}, 2: {'T1': (7.665876204730184e-05, datetime.datetime(2019, 12, 10, 10, 25, 11, tzinfo=datetime.timezone.utc)), 'T2': (8.216190811481341e-05, datetime.datetime(2019, 12, 10, 10, 31, 11, tzinfo=datetime.timezone.utc)), 'frequency': (5030290370.227787, datetime.datetime(2019, 12, 10, 11, 36, 1, tzinfo=datetime.timezone.utc)), 'readout_error': (0.01849999999999996, datetime.datetime(2019, 12, 10, 10, 25, 4, tzinfo=datetime.timezone.utc)), 'prob_meas0_prep1': (0.025000000000000022, datetime.datetime(2019, 12, 10, 10, 25, 4, tzinfo=datetime.timezone.utc)), 'prob_meas1_prep0': (0.012, datetime.datetime(2019, 12, 10, 10, 25, 4, tzinfo=datetime.timezone.utc))}, 3: {'T1': (5.768767949662912e-05, datetime.datetime(2019, 12, 10, 10, 25, 11, tzinfo=datetime.timezone.utc)), 'T2': (3.621373318493736e-05, datetime.datetime(2019, 12, 10, 10, 26, 56, tzinfo=datetime.timezone.utc)), 'frequency': (5295125247.428, datetime.datetime(2019, 12, 10, 11, 36, 1, tzinfo=datetime.timezone.utc)), 'readout_error': (0.025000000000000022, datetime.datetime(2019, 12, 10, 10, 25, 4, tzinfo=datetime.timezone.utc)), 'prob_meas0_prep1': (0.03300000000000003, datetime.datetime(2019, 12, 10, 10, 25, 4, tzinfo=datetime.timezone.utc)), 'prob_meas1_prep0': (0.017, datetime.datetime(2019, 12, 10, 10, 25, 4, tzinfo=datetime.timezone.utc))}, 4: {'T1': (5.8858785281771824e-05, datetime.datetime(2019, 12, 10, 10, 25, 11, tzinfo=datetime.timezone.utc)), 'T2': (4.367254871808634e-05, datetime.datetime(2019, 12, 10, 10, 29, 12, tzinfo=datetime.timezone.utc)), 'frequency': (5084413815.673593, datetime.datetime(2019, 12, 10, 11, 36, 1, tzinfo=datetime.timezone.utc)), 'readout_error': (0.045500000000000096, datetime.datetime(2019, 12, 10, 10, 25, 4, tzinfo=datetime.timezone.utc)), 'prob_meas0_prep1': (0.05900000000000005, datetime.datetime(2019, 12, 10, 10, 25, 4, tzinfo=datetime.timezone.utc)), 'prob_meas1_prep0': (0.032, datetime.datetime(2019, 12, 10, 10, 25, 4, tzinfo=datetime.timezone.utc))}}, backend_name='ibmqx2', backend_version='2.0.1', gates=[Gate(gate='id', name='id_0', parameters=[Nduv(date=datetime.datetime(2019, 12, 10, 10, 33, 6, tzinfo=datetime.timezone.utc), name='gate_error', unit='', value=0.000726140677193839), Nduv(date=datetime.datetime(2019, 12, 10, 11, 36, 1, tzinfo=datetime.timezone.utc), name='gate_length', unit='ns', value=35.55555555555556)], qubits=[0]), Gate(gate='u1', name='u1_0', parameters=[Nduv(date=datetime.datetime(2019, 12, 10, 10, 33, 6, tzinfo=datetime.timezone.utc), name='gate_error', unit='', value=0.0), Nduv(date=datetime.datetime(2019, 12, 10, 11, 36, 1, tzinfo=datetime.timezone.utc), name='gate_length', unit='ns', value=0.0)], qubits=[0]), Gate(gate='u2', name='u2_0', parameters=[Nduv(date=datetime.datetime(2019, 12, 10, 10, 33, 6, tzinfo=datetime.timezone.utc), name='gate_error', unit='', value=0.000726140677193839), Nduv(date=datetime.datetime(2019, 12, 10, 11, 36, 1, tzinfo=datetime.timezone.utc), name='gate_length', unit='ns', value=35.55555555555556)], qubits=[0]), Gate(gate='u3', name='u3_0', parameters=[Nduv(date=datetime.datetime(2019, 12, 10, 10, 33, 6, tzinfo=datetime.timezone.utc), name='gate_error', unit='', value=0.001452281354387678), Nduv(date=datetime.datetime(2019, 12, 10, 11, 36, 1, tzinfo=datetime.timezone.utc), name='gate_length', unit='ns', value=71.11111111111111)], qubits=[0]), Gate(gate='id', name='id_1', parameters=[Nduv(date=datetime.datetime(2019, 12, 10, 10, 35, 39, tzinfo=datetime.timezone.utc), name='gate_error', unit='', value=0.0005317186576686104), Nduv(date=datetime.datetime(2019, 12, 10, 11, 36, 1, tzinfo=datetime.timezone.utc), name='gate_length', unit='ns', value=35.55555555555556)], qubits=[1]), Gate(gate='u1', name='u1_1', parameters=[Nduv(date=datetime.datetime(2019, 12, 10, 10, 35, 39, tzinfo=datetime.timezone.utc), name='gate_error', unit='', value=0.0), Nduv(date=datetime.datetime(2019, 12, 10, 11, 36, 1, tzinfo=datetime.timezone.utc), name='gate_length', unit='ns', value=0.0)], qubits=[1]), Gate(gate='u2', name='u2_1', parameters=[Nduv(date=datetime.datetime(2019, 12, 10, 10, 35, 39, tzinfo=datetime.timezone.utc), name='gate_error', unit='', value=0.0005317186576686104), Nduv(date=datetime.datetime(2019, 12, 10, 11, 36, 1, tzinfo=datetime.timezone.utc), name='gate_length', unit='ns', value=35.55555555555556)], qubits=[1]), Gate(gate='u3', name='u3_1', parameters=[Nduv(date=datetime.datetime(2019, 12, 10, 10, 35, 39, tzinfo=datetime.timezone.utc), name='gate_error', unit='', value=0.0010634373153372207), Nduv(date=datetime.datetime(2019, 12, 10, 11, 36, 1, tzinfo=datetime.timezone.utc), name='gate_length', unit='ns', value=71.11111111111111)], qubits=[1]), Gate(gate='id', name='id_2', parameters=[Nduv(date=datetime.datetime(2019, 12, 10, 10, 40, 13, tzinfo=datetime.timezone.utc), name='gate_error', unit='', value=0.00033232161794790807), Nduv(date=datetime.datetime(2019, 12, 10, 11, 36, 1, tzinfo=datetime.timezone.utc), name='gate_length', unit='ns', value=35.55555555555556)], qubits=[2]), Gate(gate='u1', name='u1_2', parameters=[Nduv(date=datetime.datetime(2019, 12, 10, 10, 40, 13, tzinfo=datetime.timezone.utc), name='gate_error', unit='', value=0.0), Nduv(date=datetime.datetime(2019, 12, 10, 11, 36, 1, tzinfo=datetime.timezone.utc), name='gate_length', unit='ns', value=0.0)], qubits=[2]), Gate(gate='u2', name='u2_2', parameters=[Nduv(date=datetime.datetime(2019, 12, 10, 10, 40, 13, tzinfo=datetime.timezone.utc), name='gate_error', unit='', value=0.00033232161794790807), Nduv(date=datetime.datetime(2019, 12, 10, 11, 36, 1, tzinfo=datetime.timezone.utc), name='gate_length', unit='ns', value=35.55555555555556)], qubits=[2]), Gate(gate='u3', name='u3_2', parameters=[Nduv(date=datetime.datetime(2019, 12, 10, 10, 40, 13, tzinfo=datetime.timezone.utc), name='gate_error', unit='', value=0.0006646432358958161), Nduv(date=datetime.datetime(2019, 12, 10, 11, 36, 1, tzinfo=datetime.timezone.utc), name='gate_length', unit='ns', value=71.11111111111111)], qubits=[2]), Gate(gate='id', name='id_3', parameters=[Nduv(date=datetime.datetime(2019, 12, 10, 10, 42, 46, tzinfo=datetime.timezone.utc), name='gate_error', unit='', value=0.00047241207684760875), Nduv(date=datetime.datetime(2019, 12, 10, 11, 36, 1, tzinfo=datetime.timezone.utc), name='gate_length', unit='ns', value=35.55555555555556)], qubits=[3]), Gate(gate='u1', name='u1_3', parameters=[Nduv(date=datetime.datetime(2019, 12, 10, 10, 42, 46, tzinfo=datetime.timezone.utc), name='gate_error', unit='', value=0.0), Nduv(date=datetime.datetime(2019, 12, 10, 11, 36, 1, tzinfo=datetime.timezone.utc), name='gate_length', unit='ns', value=0.0)], qubits=[3]), Gate(gate='u2', name='u2_3', parameters=[Nduv(date=datetime.datetime(2019, 12, 10, 10, 42, 46, tzinfo=datetime.timezone.utc), name='gate_error', unit='', value=0.00047241207684760875), Nduv(date=datetime.datetime(2019, 12, 10, 11, 36, 1, tzinfo=datetime.timezone.utc), name='gate_length', unit='ns', value=35.55555555555556)], qubits=[3]), Gate(gate='u3', name='u3_3', parameters=[Nduv(date=datetime.datetime(2019, 12, 10, 10, 42, 46, tzinfo=datetime.timezone.utc), name='gate_error', unit='', value=0.0009448241536952175), Nduv(date=datetime.datetime(2019, 12, 10, 11, 36, 1, tzinfo=datetime.timezone.utc), name='gate_length', unit='ns', value=71.11111111111111)], qubits=[3]), Gate(gate='id', name='id_4', parameters=[Nduv(date=datetime.datetime(2019, 12, 10, 10, 45, 18, tzinfo=datetime.timezone.utc), name='gate_error', unit='', value=0.0008317289650890578), Nduv(date=datetime.datetime(2019, 12, 10, 11, 36, 1, tzinfo=datetime.timezone.utc), name='gate_length', unit='ns', value=35.55555555555556)], qubits=[4]), Gate(gate='u1', name='u1_4', parameters=[Nduv(date=datetime.datetime(2019, 12, 10, 10, 45, 18, tzinfo=datetime.timezone.utc), name='gate_error', unit='', value=0.0), Nduv(date=datetime.datetime(2019, 12, 10, 11, 36, 1, tzinfo=datetime.timezone.utc), name='gate_length', unit='ns', value=0.0)], qubits=[4]), Gate(gate='u2', name='u2_4', parameters=[Nduv(date=datetime.datetime(2019, 12, 10, 10, 45, 18, tzinfo=datetime.timezone.utc), name='gate_error', unit='', value=0.0008317289650890578), Nduv(date=datetime.datetime(2019, 12, 10, 11, 36, 1, tzinfo=datetime.timezone.utc), name='gate_length', unit='ns', value=35.55555555555556)], qubits=[4]), Gate(gate='u3', name='u3_4', parameters=[Nduv(date=datetime.datetime(2019, 12, 10, 10, 45, 18, tzinfo=datetime.timezone.utc), name='gate_error', unit='', value=0.0016634579301781157), Nduv(date=datetime.datetime(2019, 12, 10, 11, 36, 1, tzinfo=datetime.timezone.utc), name='gate_length', unit='ns', value=71.11111111111111)], qubits=[4]), Gate(gate='cx', name='cx0_1', parameters=[Nduv(date=datetime.datetime(2019, 12, 10, 10, 52, 34, tzinfo=datetime.timezone.utc), name='gate_error', unit='', value=0.016323492449031474), Nduv(date=datetime.datetime(2019, 12, 10, 11, 36, 1, tzinfo=datetime.timezone.utc), name='gate_length', unit='ns', value=362.66666666666663)], qubits=[0, 1]), Gate(gate='cx', name='cx0_2', parameters=[Nduv(date=datetime.datetime(2019, 12, 10, 10, 59, 12, tzinfo=datetime.timezone.utc), name='gate_error', unit='', value=0.01720199803872602), Nduv(date=datetime.datetime(2019, 12, 10, 11, 36, 1, tzinfo=datetime.timezone.utc), name='gate_length', unit='ns', value=490.66666666666663)], qubits=[0, 2]), Gate(gate='cx', name='cx1_0', parameters=[Nduv(date=datetime.datetime(2019, 12, 10, 10, 52, 34, tzinfo=datetime.timezone.utc), name='gate_error', unit='', value=0.016323492449031474), Nduv(date=datetime.datetime(2019, 12, 10, 11, 36, 1, tzinfo=datetime.timezone.utc), name='gate_length', unit='ns', value=362.66666666666663)], qubits=[1, 0]), Gate(gate='cx', name='cx1_2', parameters=[Nduv(date=datetime.datetime(2019, 12, 10, 11, 4, 6, tzinfo=datetime.timezone.utc), name='gate_error', unit='', value=0.015358439577060568), Nduv(date=datetime.datetime(2019, 12, 10, 11, 36, 1, tzinfo=datetime.timezone.utc), name='gate_length', unit='ns', value=512.0)], qubits=[1, 2]), Gate(gate='cx', name='cx2_0', parameters=[Nduv(date=datetime.datetime(2019, 12, 10, 10, 59, 12, tzinfo=datetime.timezone.utc), name='gate_error', unit='', value=0.01720199803872602), Nduv(date=datetime.datetime(2019, 12, 10, 11, 36, 1, tzinfo=datetime.timezone.utc), name='gate_length', unit='ns', value=490.66666666666663)], qubits=[2, 0]), Gate(gate='cx', name='cx2_1', parameters=[Nduv(date=datetime.datetime(2019, 12, 10, 11, 4, 6, tzinfo=datetime.timezone.utc), name='gate_error', unit='', value=0.015358439577060568), Nduv(date=datetime.datetime(2019, 12, 10, 11, 36, 1, tzinfo=datetime.timezone.utc), name='gate_length', unit='ns', value=512.0)], qubits=[2, 1]), Gate(gate='cx', name='cx2_3', parameters=[Nduv(date=datetime.datetime(2019, 12, 10, 11, 21, 46, tzinfo=datetime.timezone.utc), name='gate_error', unit='', value=0.012621121544793112), Nduv(date=datetime.datetime(2019, 12, 10, 11, 36, 1, tzinfo=datetime.timezone.utc), name='gate_length', unit='ns', value=391.1111111111111)], qubits=[2, 3]), Gate(gate='cx', name='cx2_4', parameters=[Nduv(date=datetime.datetime(2019, 12, 10, 11, 36, 1, tzinfo=datetime.timezone.utc), name='gate_error', unit='', value=0.01387805946967316), Nduv(date=datetime.datetime(2019, 12, 10, 11, 36, 1, tzinfo=datetime.timezone.utc), name='gate_length', unit='ns', value=312.88888888888886)], qubits=[2, 4]), Gate(gate='cx', name='cx3_2', parameters=[Nduv(date=datetime.datetime(2019, 12, 10, 11, 21, 46, tzinfo=datetime.timezone.utc), name='gate_error', unit='', value=0.012621121544793112), Nduv(date=datetime.datetime(2019, 12, 10, 11, 36, 1, tzinfo=datetime.timezone.utc), name='gate_length', unit='ns', value=391.1111111111111)], qubits=[3, 2]), Gate(gate='cx', name='cx3_4', parameters=[Nduv(date=datetime.datetime(2019, 12, 10, 11, 30, tzinfo=datetime.timezone.utc), name='gate_error', unit='', value=0.015021480950101695), Nduv(date=datetime.datetime(2019, 12, 10, 11, 36, 1, tzinfo=datetime.timezone.utc), name='gate_length', unit='ns', value=405.3333333333333)], qubits=[3, 4]), Gate(gate='cx', name='cx4_2', parameters=[Nduv(date=datetime.datetime(2019, 12, 10, 11, 36, 1, tzinfo=datetime.timezone.utc), name='gate_error', unit='', value=0.01387805946967316), Nduv(date=datetime.datetime(2019, 12, 10, 11, 36, 1, tzinfo=datetime.timezone.utc), name='gate_length', unit='ns', value=312.88888888888886)], qubits=[4, 2]), Gate(gate='cx', name='cx4_3', parameters=[Nduv(date=datetime.datetime(2019, 12, 10, 11, 30, tzinfo=datetime.timezone.utc), name='gate_error', unit='', value=0.015021480950101695), Nduv(date=datetime.datetime(2019, 12, 10, 11, 36, 1, tzinfo=datetime.timezone.utc), name='gate_length', unit='ns', value=405.3333333333333)], qubits=[4, 3])], general=[], last_update_date=datetime.datetime(2019, 12, 10, 11, 36, 1, tzinfo=datetime.timezone.utc), qubits=[[Nduv(date=datetime.datetime(2019, 12, 10, 10, 25, 11, tzinfo=datetime.timezone.utc), name='T1', unit='µs', value=48.9079252259057), Nduv(date=datetime.datetime(2019, 12, 10, 10, 26, 56, tzinfo=datetime.timezone.utc), name='T2', unit='µs', value=35.89370833778894), Nduv(date=datetime.datetime(2019, 12, 10, 11, 36, 1, tzinfo=datetime.timezone.utc), name='frequency', unit='GHz', value=5.286249905352311), Nduv(date=datetime.datetime(2019, 12, 10, 10, 25, 4, tzinfo=datetime.timezone.utc), name='readout_error', unit='', value=0.013500000000000068), Nduv(date=datetime.datetime(2019, 12, 10, 10, 25, 4, tzinfo=datetime.timezone.utc), name='prob_meas0_prep1', unit='', value=0.017000000000000015), Nduv(date=datetime.datetime(2019, 12, 10, 10, 25, 4, tzinfo=datetime.timezone.utc), name='prob_meas1_prep0', unit='', value=0.01)], [Nduv(date=datetime.datetime(2019, 12, 10, 10, 25, 11, tzinfo=datetime.timezone.utc), name='T1', unit='µs', value=65.10334841445224), Nduv(date=datetime.datetime(2019, 12, 10, 10, 29, 12, tzinfo=datetime.timezone.utc), name='T2', unit='µs', value=59.580108929844585), Nduv(date=datetime.datetime(2019, 12, 10, 11, 36, 1, tzinfo=datetime.timezone.utc), name='frequency', unit='GHz', value=5.237876946598497), Nduv(date=datetime.datetime(2019, 12, 10, 10, 25, 4, tzinfo=datetime.timezone.utc), name='readout_error', unit='', value=0.01200000000000001), Nduv(date=datetime.datetime(2019, 12, 10, 10, 25, 4, tzinfo=datetime.timezone.utc), name='prob_meas0_prep1', unit='', value=0.009000000000000008), Nduv(date=datetime.datetime(2019, 12, 10, 10, 25, 4, tzinfo=datetime.timezone.utc), name='prob_meas1_prep0', unit='', value=0.015)], [Nduv(date=datetime.datetime(2019, 12, 10, 10, 25, 11, tzinfo=datetime.timezone.utc), name='T1', unit='µs', value=76.65876204730185), Nduv(date=datetime.datetime(2019, 12, 10, 10, 31, 11, tzinfo=datetime.timezone.utc), name='T2', unit='µs', value=82.16190811481341), Nduv(date=datetime.datetime(2019, 12, 10, 11, 36, 1, tzinfo=datetime.timezone.utc), name='frequency', unit='GHz', value=5.030290370227787), Nduv(date=datetime.datetime(2019, 12, 10, 10, 25, 4, tzinfo=datetime.timezone.utc), name='readout_error', unit='', value=0.01849999999999996), Nduv(date=datetime.datetime(2019, 12, 10, 10, 25, 4, tzinfo=datetime.timezone.utc), name='prob_meas0_prep1', unit='', value=0.025000000000000022), Nduv(date=datetime.datetime(2019, 12, 10, 10, 25, 4, tzinfo=datetime.timezone.utc), name='prob_meas1_prep0', unit='', value=0.012)], [Nduv(date=datetime.datetime(2019, 12, 10, 10, 25, 11, tzinfo=datetime.timezone.utc), name='T1', unit='µs', value=57.68767949662912), Nduv(date=datetime.datetime(2019, 12, 10, 10, 26, 56, tzinfo=datetime.timezone.utc), name='T2', unit='µs', value=36.21373318493736), Nduv(date=datetime.datetime(2019, 12, 10, 11, 36, 1, tzinfo=datetime.timezone.utc), name='frequency', unit='GHz', value=5.295125247428), Nduv(date=datetime.datetime(2019, 12, 10, 10, 25, 4, tzinfo=datetime.timezone.utc), name='readout_error', unit='', value=0.025000000000000022), Nduv(date=datetime.datetime(2019, 12, 10, 10, 25, 4, tzinfo=datetime.timezone.utc), name='prob_meas0_prep1', unit='', value=0.03300000000000003), Nduv(date=datetime.datetime(2019, 12, 10, 10, 25, 4, tzinfo=datetime.timezone.utc), name='prob_meas1_prep0', unit='', value=0.017)], [Nduv(date=datetime.datetime(2019, 12, 10, 10, 25, 11, tzinfo=datetime.timezone.utc), name='T1', unit='µs', value=58.85878528177183), Nduv(date=datetime.datetime(2019, 12, 10, 10, 29, 12, tzinfo=datetime.timezone.utc), name='T2', unit='µs', value=43.67254871808634), Nduv(date=datetime.datetime(2019, 12, 10, 11, 36, 1, tzinfo=datetime.timezone.utc), name='frequency', unit='GHz', value=5.084413815673592), Nduv(date=datetime.datetime(2019, 12, 10, 10, 25, 4, tzinfo=datetime.timezone.utc), name='readout_error', unit='', value=0.045500000000000096), Nduv(date=datetime.datetime(2019, 12, 10, 10, 25, 4, tzinfo=datetime.timezone.utc), name='prob_meas0_prep1', unit='', value=0.05900000000000005), Nduv(date=datetime.datetime(2019, 12, 10, 10, 25, 4, tzinfo=datetime.timezone.utc), name='prob_meas1_prep0', unit='', value=0.032)]])"
      ]
     },
     "execution_count": 14,
     "metadata": {},
     "output_type": "execute_result"
    }
   ],
   "source": [
    "backend.properties()"
   ]
  },
  {
   "cell_type": "markdown",
   "metadata": {},
   "source": [
    "To see the last five jobs run on this backend:"
   ]
  },
  {
   "cell_type": "code",
   "execution_count": 15,
   "metadata": {
    "ExecuteTime": {
     "end_time": "2019-08-10T11:11:39.833317Z",
     "start_time": "2019-08-10T11:11:39.352617Z"
    }
   },
   "outputs": [
    {
     "name": "stdout",
     "output_type": "stream",
     "text": [
      "5defff4311c7870011fd5efc JobStatus.DONE\n",
      "5defbcfe286f820011720766 JobStatus.DONE\n",
      "5defb894a6564c0011ca6f93 JobStatus.DONE\n",
      "5defb84f286f82001172074b JobStatus.DONE\n",
      "5deea121286f8200117200a9 JobStatus.DONE\n"
     ]
    }
   ],
   "source": [
    "for ran_job in backend.jobs(limit=5):\n",
    "    print(str(ran_job.job_id()) + \' \' + str(ran_job.status()))"
   ]
  },
  {
   "cell_type": "markdown",
   "metadata": {},
   "source": [
    "A `job` can be retrieved using the `retrieve_job(JOB_ID)` method:"
   ]
  },
  {
   "cell_type": "code",
   "execution_count": 16,
   "metadata": {
    "ExecuteTime": {
     "end_time": "2019-08-10T11:12:16.082047Z",
     "start_time": "2019-08-10T11:12:15.712249Z"
    }
   },
   "outputs": [],
   "source": [
    "job = backend.retrieve_job(ran_job.job_id())"
   ]
  },
  {
   "cell_type": "markdown",
   "metadata": {},
   "source": [
    "## Jobs <a name='jobs'></a>\n",
    "\n",
    "Job instances can be thought of as the “ticket” for a submitted job. They find out the execution state at a given point in time (for example, if the job is queued, running, or has failed), and also allow control over the job. They have the following methods:\n",
    "\n",
    "- `status()`: Returns the status of the job.\n",
    "- `backend()`: Returns the backend the job was run on.\n",
    "- `job_id()`: Gets the job_id.\n",
    "- `cancel()`: Cancels the job.\n",
    "- `result()`: Gets the results from the circuit run.\n",
    "\n",
    "\"IBM Q job\"-only functions include:\n",
    "\n",
    "- `creation_date()`: Gives the date at which the job was created.\n",
    "- `queue_position()`: Returns the position of the job in the queue.\n",
    "- `error_message()`: The error message of failed jobs, if any."
   ]
  },
  {
   "cell_type": "markdown",
   "metadata": {},
   "source": [
    "Let's start with the `status()`. This returns the job status and a message:"
   ]
  },
  {
   "cell_type": "code",
   "execution_count": 17,
   "metadata": {
    "ExecuteTime": {
     "end_time": "2019-08-10T11:14:57.844723Z",
     "start_time": "2019-08-10T11:14:57.840769Z"
    }
   },
   "outputs": [
    {
     "data": {
      "text/plain": [
       "<JobStatus.DONE: 'job has successfully run'>"
      ]
     },
     "execution_count": 17,
     "metadata": {},
     "output_type": "execute_result"
    }
   ],
   "source": [
    "job.status()"
   ]
  },
  {
   "cell_type": "markdown",
   "metadata": {},
   "source": [
    "To get a backend object from the job, use the `backend()` method:"
   ]
  },
  {
   "cell_type": "code",
   "execution_count": 18,
   "metadata": {
    "ExecuteTime": {
     "end_time": "2019-08-10T11:15:02.835298Z",
     "start_time": "2019-08-10T11:15:02.831250Z"
    }
   },
   "outputs": [
    {
     "data": {
      "text/plain": [
       "<IBMQBackend('ibmqx2') from IBMQ(hub='ibm-q', group='open', project='main')>"
      ]
     },
     "execution_count": 18,
     "metadata": {},
     "output_type": "execute_result"
    }
   ],
   "source": [
    "backend_temp = job.backend()\n",
    "backend_temp"
   ]
  },
  {
   "cell_type": "markdown",
   "metadata": {},
   "source": [
    "To get the job_id use the `job_id()` method:"
   ]
  },
  {
   "cell_type": "code",
   "execution_count": 19,
   "metadata": {
    "ExecuteTime": {
     "end_time": "2019-08-10T11:15:13.419833Z",
     "start_time": "2019-08-10T11:15:13.415394Z"
    }
   },
   "outputs": [
    {
     "data": {
      "text/plain": [
       "'5deea121286f8200117200a9'"
      ]
     },
     "execution_count": 19,
     "metadata": {},
     "output_type": "execute_result"
    }
   ],
   "source": [
    "job.job_id()"
   ]
  },
  {
   "cell_type": "markdown",
   "metadata": {},
   "source": [
    "To get the result from the job, use the `result()` method:"
   ]
  },
  {
   "cell_type": "code",
   "execution_count": 20,
   "metadata": {
    "ExecuteTime": {
     "end_time": "2019-08-10T11:15:21.634977Z",
     "start_time": "2019-08-10T11:15:21.326797Z"
    }
   },
   "outputs": [
    {
     "name": "stdout",
     "output_type": "stream",
     "text": [
      "{'00001': 24, '00010': 15, '00011': 536, '00000': 449}\n"
     ]
    }
   ],
   "source": [
    "result = job.result()\n",
    "counts = result.get_counts()\n",
    "print(counts)"
   ]
  },
  {
   "cell_type": "markdown",
   "metadata": {},
   "source": [
    "If you want to check the creation date, use `creation_date()`:"
   ]
  },
  {
   "cell_type": "code",
   "execution_count": 21,
   "metadata": {
    "ExecuteTime": {
     "end_time": "2019-08-10T11:15:27.404142Z",
     "start_time": "2019-08-10T11:15:27.400446Z"
    }
   },
   "outputs": [
    {
     "data": {
      "text/plain": [
       "'2019-12-09T19:31:45.175000Z'"
      ]
     },
     "execution_count": 21,
     "metadata": {},
     "output_type": "execute_result"
    }
   ],
   "source": [
    "job.creation_date()"
   ]
  },
  {
   "cell_type": "markdown",
   "metadata": {},
   "source": [
    "Let's make an active example."
   ]
  },
  {
   "cell_type": "code",
   "execution_count": 22,
   "metadata": {
    "ExecuteTime": {
     "end_time": "2019-08-10T11:15:39.196145Z",
     "start_time": "2019-08-10T11:15:39.192833Z"
    }
   },
   "outputs": [],
   "source": [
    "from qiskit import *\n",
    "from qiskit.compiler import transpile, assemble"
   ]
  },
  {
   "cell_type": "code",
   "execution_count": 23,
   "metadata": {
    "ExecuteTime": {
     "end_time": "2019-08-10T11:15:39.490894Z",
     "start_time": "2019-08-10T11:15:39.484033Z"
    }
   },
   "outputs": [
    {
     "data": {
      "text/plain": [
       "<qiskit.circuit.instructionset.InstructionSet at 0x219c2ca0748>"
      ]
     },
     "execution_count": 23,
     "metadata": {},
     "output_type": "execute_result"
    }
   ],
   "source": [
    "qr = QuantumRegister(3)\n",
    "cr = ClassicalRegister(3)\n",
    "circuit = QuantumCircuit(qr, cr)\n",
    "circuit.x(qr[0])\n",
    "circuit.x(qr[1])\n",
    "circuit.ccx(qr[0], qr[1], qr[2])\n",
    "circuit.cx(qr[0], qr[1])\n",
    "circuit.measure(qr, cr)"
   ]
  },
  {
   "cell_type": "markdown",
   "metadata": {},
   "source": [
    "To pass this circuit to the backend, we must first map it onto the backend, package it, and send to the device.  This is all done for you by the `execute` function:"
   ]
  },
  {
   "cell_type": "code",
   "execution_count": 24,
   "metadata": {
    "ExecuteTime": {
     "end_time": "2019-08-10T11:17:47.611651Z",
     "start_time": "2019-08-10T11:17:47.546750Z"
    }
   },
   "outputs": [],
   "source": [
    "job = execute(circuit, backend)"
   ]
  },
  {
   "cell_type": "markdown",
   "metadata": {},
   "source": [
    "Alternatively, you can map the circuit yourself using the `transpile` function, package it using `assemble`, and then send it from the `backend` instance itself:"
   ]
  },
  {
   "cell_type": "code",
   "execution_count": 25,
   "metadata": {
    "ExecuteTime": {
     "end_time": "2019-08-10T11:18:59.534966Z",
     "start_time": "2019-08-10T11:18:59.489290Z"
    }
   },
   "outputs": [],
   "source": [
    "mapped_circuit = transpile(circuit, backend=backend)\n",
    "qobj = assemble(mapped_circuit, backend=backend, shots=1024)\n",
    "job = backend.run(qobj)"
   ]
  },
  {
   "cell_type": "markdown",
   "metadata": {},
   "source": [
    "This second method is discussed in more detail in [Part 5: Using the Transpiler](5_using_the_transpiler.ipynb)."
   ]
  },
  {
   "cell_type": "markdown",
   "metadata": {},
   "source": [
    "## Job Manager <a name='job manager'></a>\n",
    "\n",
    "`qiskit-ibmq-provider` version `0.4` (`Qiskit` version `0.14`) introduced a new Job Manager (`IBMQJobManager`), as a higher-level mechanism for handling jobs composed of multiple circuits or pulse schedules. The Job Manager splits the experiments into multiple jobs based on backend restrictions. When the jobs are finished, it collects and presents the results in a unified view.\n",
    "\n",
    "`IBMQJobManager` has the following methods:\n",
    "- `run()`: Execute a set of circuits or pulse schedules.\n",
    "- `report()`: Return a report on the statuses of all jobs managed by this manager.\n",
    "- `job_sets()`: Return a list of managed job sets matching the specified filtering.\n",
    "\n",
    "You can run multiple sets of experiments by invoking `job_manager.run()` multiple times, and each call will return a `ManagedJobSet` instance. A `ManagedJobSet`, as the name implies, is a set of managed jobs. It has similiar methods as the Job class:\n",
    "- `statuses()`: Return the status of each job.\n",
    "- `cancel()`: Cancel all managed jobs in this set.\n",
    "- `results()`: Return the results of the jobs.\n",
    "- `error_messages()`: Provide details about job failures.\n",
    "- `jobs()`: Return a list of submitted jobs.\n",
    "- `report()`: Return a report on current job statuses."
   ]
  },
  {
   "cell_type": "markdown",
   "metadata": {},
   "source": [
    "Now let's see some examples. Say you want to submit a bunch of circuits to a backend:"
   ]
  },
  {
   "cell_type": "code",
   "execution_count": 26,
   "metadata": {},
   "outputs": [],
   "source": [
    "from qiskit.providers.ibmq.managed import IBMQJobManager\n",
    "\n",
    "sim_backend = provider.get_backend('ibmq_qasm_simulator')\n",
    "# Prepare a set of circuits\n",
    "circs = []\n",
    "for _ in range(20):\n",
    "    circs.append(circuit)\n",
    "circs = transpile(circs, backend=sim_backend)\n",
    "\n",
    "# Submit them all to the backend\n",
    "job_manager = IBMQJobManager()\n",
    "job_set_foo = job_manager.run(circs, backend=sim_backend, name='foo')"
   ]
  },
  {
   "cell_type": "markdown",
   "metadata": {},
   "source": [
    "You can use the `report()` method to inquire the statuses of the jobs:"
   ]
  },
  {
   "cell_type": "code",
   "execution_count": 27,
   "metadata": {},
   "outputs": [
    {
     "name": "stdout",
     "output_type": "stream",
     "text": [
      "Job set foo:\n",
      "Summary report:\n",
      "       Total jobs: 1\n",
      "  Successful jobs: 0\n",
      "      Failed jobs: 0\n",
      "   Cancelled jobs: 0\n",
      "     Running jobs: 0\n",
      "     Pending jobs: 1\n",
      "\n",
      "Detail report:\n",
      "  experiments: 0-19\n",
      "    job index: 0\n",
      "    job ID: 5dcb15332592de0011c93232\n",
      "    name: foo_0_\n",
      "    status: job is being validated\n"
     ]
    }
   ],
   "source": [
    "print(job_set_foo.report())"
   ]
  },
  {
   "cell_type": "markdown",
   "metadata": {},
   "source": [
    "`job_set_foo` above is not very interesting, as it only contains a single job. To force multiple jobs without making this tutorial too slow, we can use the `max_experiments_per_job` parameter:"
   ]
  },
  {
   "cell_type": "code",
   "execution_count": 28,
   "metadata": {},
   "outputs": [],
   "source": [
    "# Submit them all to the backend\n",
    "job_set_bar = job_manager.run(circs, backend=sim_backend, name='bar', max_experiments_per_job=10)"
   ]
  },
  {
   "cell_type": "code",
   "execution_count": 29,
   "metadata": {},
   "outputs": [
    {
     "name": "stdout",
     "output_type": "stream",
     "text": [
      "Job set bar:\n",
      "Summary report:\n",
      "       Total jobs: 2\n",
      "  Successful jobs: 2\n",
      "      Failed jobs: 0\n",
      "   Cancelled jobs: 0\n",
      "     Running jobs: 0\n",
      "     Pending jobs: 0\n",
      "\n",
      "Detail report:\n",
      "  experiments: 0-9\n",
      "    job index: 0\n",
      "    job ID: 5dcb153ef2b4ea00116071ba\n",
      "    name: bar_0_\n",
      "    status: job has successfully run\n",
      "  experiments: 10-19\n",
      "    job index: 1\n",
      "    job ID: 5dcb153e1896660011bb286f\n",
      "    name: bar_1_\n",
      "    status: job has successfully run\n"
     ]
    }
   ],
   "source": [
    "print(job_set_bar.report())"
   ]
  },
  {
   "cell_type": "markdown",
   "metadata": {},
   "source": [
    "As you can see, `job_set_bar` contains multiple jobs. To collect the results of all jobs, you can use `job_set.results()`, which returns a `ManagedResults` instance. `ManagedResults` supports the same methods as `Result`, which can be used to retrieve the ouputs of individual experiments:"
   ]
  },
  {
   "cell_type": "code",
   "execution_count": 30,
   "metadata": {},
   "outputs": [
    {
     "name": "stdout",
     "output_type": "stream",
     "text": [
      "This is the histogram data for experiment 5: {'101': 1024}\n",
      "This is the histogram data for experiment 15: {'101': 1024}\n"
     ]
    }
   ],
   "source": [
    "results = job_set_bar.results()\n",
    "print(\"This is the histogram data for experiment 5: {}\".format(results.get_counts(5)))\n",
    "print(\"This is the histogram data for experiment 15: {}\".format(results.get_counts(15)))"
   ]
  },
  {
   "cell_type": "markdown",
   "metadata": {},
   "source": [
    "Job Manager currently only supports new jobs, which means you cannot retrieve a `ManagedResults` instance for past jobs once the session is closed. You can, however, save the job IDs and use the traditional `backend.retrieve_job()` to retrive the jobs and their results.\n",
    "\n",
    "You can use `job_set.jobs()` to retrieve a list of jobs within the job set. Note that an entry is `None` if that particular job could not be submitted."
   ]
  },
  {
   "cell_type": "code",
   "execution_count": 31,
   "metadata": {},
   "outputs": [],
   "source": [
    "jobs = job_set_bar.jobs()  # Get a list of all jobs in the set.\n",
    "job0 = jobs[0]\n",
    "if job0 is None:\n",
    "    print(\"Job0 submit failed!\")"
   ]
  },
  {
   "cell_type": "markdown",
   "metadata": {},
   "source": [
    "## Updating from previous versions <a name='updating'></a>\n",
    "\n",
    "Since `Qiskit` version `0.11`, the IBM Q account defaults to using the new [IBM Q Experience](https://quantum-computing.ibm.com), which supersedes the legacy Quantum Experience and Q-console.\n",
    "\n",
    "If you have credentials for the legacy Quantum Experience or Q-console stored in disk, you can make use of the `IBMQ.update_account()` helper function that converts legacy credentials to the new APIv2 format:"
   ]
  },
  {
   "cell_type": "code",
   "execution_count": 32,
   "metadata": {},
   "outputs": [],
   "source": [
    "# IBMQ.update_account()"
   ]
  },
  {
   "cell_type": "markdown",
   "metadata": {},
   "source": [
    "You can find more information on how to update your programs in the [README.md](https://github.com/Qiskit/qiskit-ibmq-provider/blob/master/README.md#updating-to-the-new-ibm-q-experience) file in the provider repository."
   ]
  },
  {
   "cell_type": "code",
   "execution_count": 33,
   "metadata": {
    "ExecuteTime": {
     "end_time": "2019-08-10T11:28:28.529479Z",
     "start_time": "2019-08-10T11:28:28.521774Z"
    }
   },
   "outputs": [
    {
     "data": {
      "text/html": [
       "<h3>Version Information</h3><table><tr><th>Qiskit Software</th><th>Version</th></tr><tr><td>Qiskit</td><td>0.14.0</td></tr><tr><td>Terra</td><td>0.11.0</td></tr><tr><td>Aer</td><td>0.3.4</td></tr><tr><td>Ignis</td><td>0.2.0</td></tr><tr><td>Aqua</td><td>0.6.1</td></tr><tr><td>IBM Q Provider</td><td>0.4.4</td></tr><tr><th>System information</th></tr><tr><td>Python</td><td>3.6.7 (v3.6.7:6ec5cf24b7, Oct 20 2018, 03:02:14) \n",
       "[GCC 4.2.1 Compatible Apple LLVM 6.0 (clang-600.0.57)]</td></tr><tr><td>OS</td><td>Darwin</td></tr><tr><td>CPUs</td><td>8</td></tr><tr><td>Memory (Gb)</td><td>16.0</td></tr><tr><td colspan='2'>Tue Dec 10 08:57:00 2019 EST</td></tr></table>"
      ],
      "text/plain": [
       "<IPython.core.display.HTML object>"
      ]
     },
     "metadata": {},
     "output_type": "display_data"
    },
    {
     "data": {
      "text/html": [
       "<div style='width: 100%; background-color:#d5d9e0;padding-left: 10px; padding-bottom: 10px; padding-right: 10px; padding-top: 5px'><h3>This code is a part of Qiskit</h3><p>&copy; Copyright IBM 2017, 2019.</p><p>This code is licensed under the Apache License, Version 2.0. You may<br>obtain a copy of this license in the LICENSE.txt file in the root directory<br> of this source tree or at http://www.apache.org/licenses/LICENSE-2.0.<p>Any modifications or derivative works of this code must retain this<br>copyright notice, and modified files need to carry a notice indicating<br>that they have been altered from the originals.</p></div>"
      ],
      "text/plain": [
       "<IPython.core.display.HTML object>"
      ]
     },
     "metadata": {},
     "output_type": "display_data"
    }
   ],
   "source": [
    "import qiskit.tools.jupyter\n",
    "%qiskit_version_table\n",
    "%qiskit_copyright"
   ]
  },
  {
   "cell_type": "code",
   "execution_count": null,
   "metadata": {},
   "outputs": [],
   "source": []
  }
 ],
 "metadata": {
  "anaconda-cloud": {},
  "kernelspec": {
   "display_name": "Python 3",
   "language": "python",
   "name": "python3"
  },
  "language_info": {
   "codemirror_mode": {
    "name": "ipython",
    "version": 3
   },
   "file_extension": ".py",
   "mimetype": "text/x-python",
   "name": "python",
   "nbconvert_exporter": "python",
   "pygments_lexer": "ipython3",
   "version": "3.7.3"
  },
  "varInspector": {
   "cols": {
    "lenName": 16,
    "lenType": 16,
    "lenVar": 40
   },
   "kernels_config": {
    "python": {
     "delete_cmd_postfix": "",
     "delete_cmd_prefix": "del ",
     "library": "var_list.py",
     "varRefreshCmd": "print(var_dic_list())"
    },
    "r": {
     "delete_cmd_postfix": ") ",
     "delete_cmd_prefix": "rm(",
     "library": "var_list.r",
     "varRefreshCmd": "cat(var_dic_list()) "
    }
   },
   "types_to_exclude": [
    "module",
    "function",
    "builtin_function_or_method",
    "instance",
    "_Feature"
   ],
   "window_display": false
  }
 },
 "nbformat": 4,
 "nbformat_minor": 2
}
