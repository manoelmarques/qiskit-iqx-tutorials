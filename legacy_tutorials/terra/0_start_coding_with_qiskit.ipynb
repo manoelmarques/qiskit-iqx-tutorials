{
 "cells": [
  {
   "attachments": {},
   "cell_type": "markdown",
   "metadata": {},
   "source": [
    "![qiskit_header.png](../../images/qiskit_header.png)"
   ]
  },
  {
   "cell_type": "markdown",
   "metadata": {},
   "source": [
    "# Start Coding with Qiskit\n",
    "\n",
    "## Table of Contents\n",
    "\n",
    "1. [Overview](#overview)\n",
    "2. [Step-by-Step walk-through](#walk-through)\n",
    "    * [Step 1: Import packages](#step_1)\n",
    "    * [Step 2: Initialize variables](#step_2)\n",
    "    * [Step 3: Add gates](#step_3)\n",
    "    * [Step 4: Visualize the circuit](#step_4)\n",
    "    * [Step 5: Simulate the experiment](#step_5)\n",
    "    * [Step 6: Visualize the results](#step_6)\n",
    "3. [Next steps](#next_steps)\n",
    "\n",
    "\n",
    "## Overview <a name='overview'></a>\n",
    "\n",
    "The workflow of using Qiskit consists of three high-level steps:\n",
    "\n",
    "- **Build**: design a quantum circuit that represents the problem you are considering.\n",
    "- **Execute**: run experiments on different backends (which include both systems and simulators).\n",
    "- **Analyze**: calculate summary statistics and visualize the results of experiments.\n",
    "\n",
    "Here is an example of the entire workflow, with each step explained in detail in subsequent sections:"
   ]
  },
  {
   "cell_type": "code",
   "execution_count": 2,
   "metadata": {},
   "outputs": [
    {
     "name": "stdout",
     "output_type": "stream",
     "text": [
      "\n",
      "Total count for 00 and 11 are: {'11': 470, '00': 530}\n"
     ]
    },
    {
     "data": {
      "text/html": [
       "<pre style=\"word-wrap: normal;white-space: pre;background: #fff0;line-height: 1.1;font-family: &quot;Courier New&quot;,Courier,monospace\">        ┌───┐     ┌─┐   \n",
       "q_0: |0>┤ H ├──■──┤M├───\n",
       "        └───┘┌─┴─┐└╥┘┌─┐\n",
       "q_1: |0>─────┤ X ├─╫─┤M├\n",
       "             └───┘ ║ └╥┘\n",
       " c_0: 0 ═══════════╩══╬═\n",
       "                      ║ \n",
       " c_1: 0 ══════════════╩═\n",
       "                        </pre>"
      ],
      "text/plain": [
       "<qiskit.visualization.text.TextDrawing at 0x13b86bc90>"
      ]
     },
     "execution_count": 2,
     "metadata": {},
     "output_type": "execute_result"
    }
   ],
   "source": [
    "import numpy as np\n",
    "from qiskit import(\n",
    "  QuantumCircuit,\n",
    "  execute,\n",
    "  Aer)\n",
    "from qiskit.visualization import plot_histogram\n",
    "\n",
    "# Use Aer's qasm_simulator\n",
    "simulator = Aer.get_backend('qasm_simulator')\n",
    "\n",
    "# Create a Quantum Circuit acting on the q register\n",
    "circuit = QuantumCircuit(2, 2)\n",
    "\n",
    "# Add a H gate on qubit 0\n",
    "circuit.h(0)\n",
    "\n",
    "# Add a CX (CNOT) gate on control qubit 0 and target qubit 1\n",
    "circuit.cx(0, 1)\n",
    "\n",
    "# Map the quantum measurement to the classical bits\n",
    "circuit.measure([0,1], [0,1])\n",
    "\n",
    "# Execute the circuit on the qasm simulator\n",
    "job = execute(circuit, simulator, shots=1000)\n",
    "\n",
    "# Grab results from the job\n",
    "result = job.result()\n",
    "\n",
    "# Returns counts\n",
    "counts = result.get_counts(circuit)\n",
    "print(\"\\nTotal count for 00 and 11 are:\",counts)\n",
    "\n",
    "# Draw the circuit\n",
    "circuit.draw()"
   ]
  },
  {
   "cell_type": "code",
   "execution_count": 3,
   "metadata": {},
   "outputs": [
    {
     "data": {
      "image/png": "[encoded data removed]",
      "text/plain": [
       "<Figure size 504x360 with 1 Axes>"
      ]
     },
     "execution_count": 3,
     "metadata": {},
     "output_type": "execute_result"
    }
   ],
   "source": [
    "# Plot a histogram\n",
    "plot_histogram(counts)"
   ]
  },
  {
   "cell_type": "markdown",
   "metadata": {},
   "source": [
    "## Step-by-Step walk-through <a name='walk-through'></a>\n",
    "\n",
    "The program above can be broken down into six steps:\n",
    "\n",
    "* [Step 1: Import packages](#step_1)\n",
    "* [Step 2: Initialize variables](#step_2)\n",
    "* [Step 3: Add gates](#step_3)\n",
    "* [Step 4: Visualize the circuit](#step_4)\n",
    "* [Step 5: Simulate the experiment](#step_5)\n",
    "* [Step 6: Visualize the results](#step_6)\n",
    "\n",
    "### Step 1: Import packages <a name='step_1'></a>\n",
    "\n",
    "The basic elements needed for your program are imported as follows:"
   ]
  },
  {
   "cell_type": "code",
   "execution_count": 4,
   "metadata": {},
   "outputs": [],
   "source": [
    "import numpy as np\n",
    "from qiskit import(\n",
    "  QuantumCircuit,\n",
    "  execute,\n",
    "  Aer)\n",
    "from qiskit.visualization import plot_histogram"
   ]
  },
  {
   "cell_type": "markdown",
   "metadata": {},
   "source": [
    "In more detail, the imports are\n",
    "\n",
    "- `QuantumCircuit`: can be thought as the instructions of the quantum system. It holds all your quantum operations.\n",
    "- `execute`: runs your circuit / experiment.\n",
    "- `Aer`: handles simulator backends.\n",
    "- `plot_histogram`: creates histograms.\n",
    "\n",
    "### Step 2: Initialize variables <a name='step_2'></a>\n",
    "\n",
    "Consider the next line of code\n",
    "\n",
    "```\n",
    "circuit = QuantumCircuit(2, 2)\n",
    "```\n",
    "\n",
    "Here, you are initializing with 2 qubits in the zero state; with 2 classical bits set to zero; and circuit is the quantum circuit.\n",
    "\n",
    "Syntax:\n",
    "\n",
    "- `QuantumCircuit(int, int)`\n",
    "\n",
    "### Step 3: Add gates <a name='step_3'></a>\n",
    "\n",
    "You can add gates (operations) to manipulate the registers of your circuit.\n",
    "\n",
    "Consider the following three lines of code:\n",
    "\n",
    "```\n",
    "circuit.h(0)\n",
    "circuit.cx(0, 1)\n",
    "circuit.measure([0,1], [0,1])\n",
    "```\n",
    "\n",
    "The gates are added to the circuit one-by-one to form the Bell state\n",
    "\n",
    "$$|\\psi\\rangle = \\left(|00\\rangle+|11\\rangle\\right)/\\sqrt{2}$$.\n",
    "\n",
    "The code above applies the following gates:\n",
    "\n",
    "- `QuantumCircuit.h(0)`: A Hadamard gate $H$ on qubit 0, which puts it into a **superposition state**.\n",
    "- `QuantumCircuit.cx(0, 1)`: A controlled-Not operation ($C_{X}$) on control qubit 0 and target qubit 1, putting the qubits in an **entangled state**.\n",
    "- `QuantumCircuit.measure([0,1], [0,1])`: if you pass the entire quantum and classical registers to `measure`, the ith qubit’s measurement result will be stored in the ith classical bit.\n",
    "\n",
    "### Step 4: Visualize the circuit <a name='step_4'></a>\n",
    "\n",
    "You can use `QuantumCircuit.draw()` to view the circuit that you have designed\n",
    "in the [various forms](https://qiskit.org/documentation/stubs/qiskit.circuit.QuantumCircuit.draw.html#qiskit.circuit.QuantumCircuit.draw) used in many textbooks and research articles."
   ]
  },
  {
   "cell_type": "code",
   "execution_count": 5,
   "metadata": {},
   "outputs": [
    {
     "data": {
      "text/html": [
       "<pre style=\"word-wrap: normal;white-space: pre;background: #fff0;line-height: 1.1;font-family: &quot;Courier New&quot;,Courier,monospace\">        ┌───┐     ┌─┐   \n",
       "q_0: |0>┤ H ├──■──┤M├───\n",
       "        └───┘┌─┴─┐└╥┘┌─┐\n",
       "q_1: |0>─────┤ X ├─╫─┤M├\n",
       "             └───┘ ║ └╥┘\n",
       " c_0: 0 ═══════════╩══╬═\n",
       "                      ║ \n",
       " c_1: 0 ══════════════╩═\n",
       "                        </pre>"
      ],
      "text/plain": [
       "<qiskit.visualization.text.TextDrawing at 0x13b995f10>"
      ]
     },
     "execution_count": 5,
     "metadata": {},
     "output_type": "execute_result"
    }
   ],
   "source": [
    "circuit.draw()"
   ]
  },
  {
   "cell_type": "markdown",
   "metadata": {},
   "source": [
    "In this circuit, the qubits are ordered with qubit zero at the top and\n",
    "qubit one at the bottom. The circuit is read left-to-right, meaning that gates\n",
    "which are applied earlier in the circuit show up farther to the left.\n",
    "\n",
    "The default backend for `QuantumCircuit.draw()` or `qiskit.visualization.circuit_drawer()`\n",
    "is the text backend. However, depending on your local environment you may want to change\n",
    "these defaults to something better suited for your use case. This is done with the user\n",
    "config file.  By default the user config file should be located in\n",
    "`~/.qiskit/settings.conf` and is a `.ini` file.\n",
    "\n",
    "For example, a `settings.conf` file for setting a Matplotlib drawer is:\n",
    "\n",
    "```\n",
    "  [default]\n",
    "  circuit_drawer = mpl\n",
    "```\n",
    "\n",
    "You can use any of the valid circuit drawer backends as the value for this config, this includes\n",
    "text, mpl, latex, and latex_source.\n",
    "\n",
    "### Step 5: Simulate the experiment <a name='step_5'></a>\n",
    "\n",
    "Qiskit Aer is a high performance simulator framework for quantum circuits. It provides [several backends](https://qiskit.org/documentation/apidoc/aer_provider.html#simulator-backends) to achieve different simulation goals.\n",
    "\n",
    "If you have issues installing Aer, you can alternatively use the Basic Aer\n",
    "provider by replacing `Aer` with `BasicAer`. Basic Aer is included in Qiskit\n",
    "Terra.\n",
    "\n",
    "```\n",
    "    import numpy as np\n",
    "    from qiskit import(\n",
    "      QuantumCircuit,\n",
    "      execute,\n",
    "      BasicAer)\n",
    "    ...\n",
    "```\n",
    "\n",
    "To simulate this circuit, you will use the `qasm_simulator`. Each run of this\n",
    "circuit will yield either the bit string 00 or 11."
   ]
  },
  {
   "cell_type": "code",
   "execution_count": 6,
   "metadata": {},
   "outputs": [
    {
     "name": "stdout",
     "output_type": "stream",
     "text": [
      "\n",
      "Total count for 00 and 11 are: {'11': 503, '00': 497}\n"
     ]
    }
   ],
   "source": [
    "simulator = Aer.get_backend('qasm_simulator')\n",
    "job = execute(circuit, simulator, shots=1000)\n",
    "result = job.result()\n",
    "counts = result.get_counts(circuit)\n",
    "print(\"\\nTotal count for 00 and 11 are:\",counts)"
   ]
  },
  {
   "cell_type": "markdown",
   "metadata": {},
   "source": [
    "As expected, the output bit string is 00 approximately 50 percent of the time.\n",
    "The number of times the circuit is run can be specified via the `shots`\n",
    "argument of the `execute` method. The number of shots of the simulation was\n",
    "set to be 1000 (the default is 1024).\n",
    "\n",
    "Once you have a `result` object, you can access the counts via the method\n",
    "`get_counts(circuit)`. This gives you the aggregate outcomes of the\n",
    "experiment you ran.\n",
    "\n",
    "### Step 6: Visualize the results <a name='step_6'></a>\n",
    "\n",
    "Qiskit provides [many visualizations](https://qiskit.org/documentation/apidoc/visualization.html),\n",
    "\n",
    "including the function `plot_histogram`, to view your results."
   ]
  },
  {
   "cell_type": "code",
   "execution_count": 7,
   "metadata": {},
   "outputs": [
    {
     "data": {
      "image/png": "[encoded data removed]",
      "text/plain": [
       "<Figure size 504x360 with 1 Axes>"
      ]
     },
     "execution_count": 7,
     "metadata": {},
     "output_type": "execute_result"
    }
   ],
   "source": [
    "plot_histogram(counts)"
   ]
  },
  {
   "cell_type": "markdown",
   "metadata": {},
   "source": [
    "The observed probabilities $Pr(00)$ and $Pr(11)$ are computed by\n",
    "taking the respective counts and dividing by the total number of shots.\n",
    "\n",
    "Try changing the `shots` keyword in the `execute` method to see how\n",
    "the estimated probabilities change."
   ]
  },
  {
   "cell_type": "markdown",
   "metadata": {},
   "source": [
    "## Next steps <a name='next_steps'></a>\n",
    "\n",
    "Now that you have learnt the basics, consider these resources:\n",
    "\n",
    "- [About the Qiskit framework](https://qiskit.org/documentation/the_elements.html)\n",
    "- [Qiskit documentation](https://qiskit.org/documentation/apidoc/qiskit.html)\n",
    "- [Qiskit tutorials](https://quantum-computing.ibm.com/jupyter/tutorial/1_start_here.ipynb)\n",
    "- [Textbook: Learn Quantum Computing using Qiskit](https://community.qiskit.org/textbook/preface)\n",
    "- [Video series: Coding with Qiskit](https://www.youtube.com/playlist?list=PLOFEBzvs-Vvp2xg9-POLJhQwtVktlYGbY)"
   ]
  },
  {
   "cell_type": "code",
   "execution_count": 1,
   "metadata": {},
   "outputs": [
    {
     "data": {
      "text/html": [
       "<h3>Version Information</h3><table><tr><th>Qiskit Software</th><th>Version</th></tr><tr><td>Qiskit</td><td>0.15.0</td></tr><tr><td>Terra</td><td>0.12.0</td></tr><tr><td>Aer</td><td>0.4.0</td></tr><tr><td>Ignis</td><td>0.2.0</td></tr><tr><td>Aqua</td><td>0.6.4</td></tr><tr><td>IBM Q Provider</td><td>0.4.6</td></tr><tr><th>System information</th></tr><tr><td>Python</td><td>3.8.1 (default, Jan  8 2020, 15:55:49) [MSC v.1916 64 bit (AMD64)]</td></tr><tr><td>OS</td><td>Windows</td></tr><tr><td>CPUs</td><td>4</td></tr><tr><td>Memory (Gb)</td><td>31.83771514892578</td></tr><tr><td colspan='2'>Thu Feb 20 15:21:07 2020 Romance Standard Time</td></tr></table>"
      ],
      "text/plain": [
       "<IPython.core.display.HTML object>"
      ]
     },
     "metadata": {},
     "output_type": "display_data"
    },
    {
     "data": {
      "text/html": [
       "<div style='width: 100%; background-color:#d5d9e0;padding-left: 10px; padding-bottom: 10px; padding-right: 10px; padding-top: 5px'><h3>This code is a part of Qiskit</h3><p>&copy; Copyright IBM 2017, 2020.</p><p>This code is licensed under the Apache License, Version 2.0. You may<br>obtain a copy of this license in the LICENSE.txt file in the root directory<br> of this source tree or at http://www.apache.org/licenses/LICENSE-2.0.<p>Any modifications or derivative works of this code must retain this<br>copyright notice, and modified files need to carry a notice indicating<br>that they have been altered from the originals.</p></div>"
      ],
      "text/plain": [
       "<IPython.core.display.HTML object>"
      ]
     },
     "metadata": {},
     "output_type": "display_data"
    }
   ],
   "source": [
    "import qiskit.tools.jupyter\n",
    "%qiskit_version_table\n",
    "%qiskit_copyright"
   ]
  },
  {
   "cell_type": "code",
   "execution_count": null,
   "metadata": {},
   "outputs": [],
   "source": []
  }
 ],
 "metadata": {
  "kernelspec": {
   "display_name": "Python 3",
   "language": "python",
   "name": "python3"
  },
  "language_info": {
   "codemirror_mode": {
    "name": "ipython",
    "version": 3
   },
   "file_extension": ".py",
   "mimetype": "text/x-python",
   "name": "python",
   "nbconvert_exporter": "python",
   "pygments_lexer": "ipython3",
   "version": "3.7.3"
  }
 },
 "nbformat": 4,
 "nbformat_minor": 2
}
